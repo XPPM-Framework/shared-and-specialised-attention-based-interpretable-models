{
 "nbformat": 4,
 "nbformat_minor": 2,
 "metadata": {
  "orig_nbformat": 4,
  "language_info": {
   "name": "python",
   "version": "3.8.10",
   "mimetype": "text/x-python",
   "codemirror_mode": {
    "name": "ipython",
    "version": 3
   },
   "pygments_lexer": "ipython3",
   "nbconvert_exporter": "python",
   "file_extension": ".py"
  },
  "kernelspec": {
   "name": "python3",
   "display_name": "Python 3.8.10 64-bit ('TensorFlow25': conda)"
  },
  "interpreter": {
   "hash": "fe8cdd8b0905bc5dc811ca6f6f67baa88326482ee2d1fcebca307d9df55426eb"
  },
  "colab": {
   "name": "bpic_2012_W_Nabellen offertes.ipynb",
   "provenance": [],
   "collapsed_sections": [],
   "toc_visible": true
  }
 },
 "cells": [
  {
   "cell_type": "markdown",
   "source": [
    "### **BPIC 2012 - W_Calling after sent offers**\n"
   ],
   "metadata": {
    "id": "oi2FRX1e7TCO"
   }
  },
  {
   "cell_type": "code",
   "execution_count": 2,
   "source": [
    "import os\n",
    "import numpy as np\n",
    "import pandas as pd\n",
    "import seaborn as sns\n",
    "import matplotlib.pyplot as plt\n",
    "\n",
    "from data.processor import *\n",
    "from data.args import *\n",
    "\n",
    "from tensorflow.keras.utils import to_categorical\n"
   ],
   "outputs": [],
   "metadata": {
    "id": "p2xCTSA7IHn2",
    "executionInfo": {
     "status": "ok",
     "timestamp": 1630045629683,
     "user_tz": -600,
     "elapsed": 2693,
     "user": {
      "displayName": "Bemali Wickramanayake",
      "photoUrl": "",
      "userId": "06528833813357396771"
     }
    }
   }
  },
  {
   "cell_type": "markdown",
   "source": [
    "### Define the experiment parameters"
   ],
   "metadata": {
    "id": "ZvURHkYmIHn3"
   }
  },
  {
   "cell_type": "code",
   "execution_count": 3,
   "source": [
    "milestone = 'W_Calling after sent offers' #,'All'\n",
    "experiment =  'OHE'#'Standard'#'OHE', 'No_loops'\n",
    "timelapsed = 'total' #'total', 'incremental'\n",
    "n_size = 5"
   ],
   "outputs": [],
   "metadata": {
    "id": "eMBUEMJhIHn3",
    "executionInfo": {
     "status": "ok",
     "timestamp": 1630045632198,
     "user_tz": -600,
     "elapsed": 305,
     "user": {
      "displayName": "Bemali Wickramanayake",
      "photoUrl": "",
      "userId": "06528833813357396771"
     }
    }
   }
  },
  {
   "cell_type": "markdown",
   "source": [
    "### Setting up the key parameters\n"
   ],
   "metadata": {
    "id": "d14smtqnCAn0"
   }
  },
  {
   "cell_type": "code",
   "execution_count": null,
   "source": [
    "# For local environment only\n",
    "\n",
    "MY_WORKSPACE_DIR = os.path.join(os.getcwd(),'BPIC12')\n",
    "MILESTONE_DIR = os.path.join(os.path.join(MY_WORKSPACE_DIR, milestone),experiment)"
   ],
   "outputs": [],
   "metadata": {
    "id": "62Ly-bFZIHn5"
   }
  },
  {
   "cell_type": "code",
   "execution_count": 5,
   "source": [
    "args = get_parameters('bpic12', MILESTONE_DIR, MY_WORKSPACE_DIR, milestone, experiment,n_size)\n"
   ],
   "outputs": [],
   "metadata": {
    "id": "e4CFg9VOIHn6",
    "executionInfo": {
     "status": "ok",
     "timestamp": 1630045637894,
     "user_tz": -600,
     "elapsed": 337,
     "user": {
      "displayName": "Bemali Wickramanayake",
      "photoUrl": "",
      "userId": "06528833813357396771"
     }
    }
   }
  },
  {
   "cell_type": "markdown",
   "source": [
    "###Data Preprocessing"
   ],
   "metadata": {
    "id": "smQs5TIjOLGO"
   }
  },
  {
   "cell_type": "code",
   "execution_count": null,
   "source": [
    "if milestone == 'All':\n",
    "  log_df = pd.read_csv(args['file_name_all'])\n",
    "  log_df = log_df.reset_index(drop=True)\n",
    "else:\n",
    "  log_df = pd.read_csv(args['file_name'])\n",
    "  log_df = log_df.reset_index(drop=True)\n",
    "\n",
    "if timelapsed == 'incremental':\n",
    "  log_df['timelapsed'] = log_df['timelapsed_2']\n",
    "\n",
    "log_df.head()"
   ],
   "outputs": [
    {
     "output_type": "execute_result",
     "data": {
      "text/plain": [
       "  prefix_id  caseid               task  ... milestone_id task_index timelapsed_2\n",
       "0  173898_3  173898        A_SUBMITTED  ...            3          1            0\n",
       "1  173898_2  173898        A_SUBMITTED  ...            2          1            0\n",
       "2  173898_4  173898        A_SUBMITTED  ...            4          1            0\n",
       "3  173898_3  173898  A_PARTLYSUBMITTED  ...            3          2            0\n",
       "4  173898_2  173898  A_PARTLYSUBMITTED  ...            2          2            0\n",
       "\n",
       "[5 rows x 12 columns]"
      ],
      "text/html": [
       "<div>\n",
       "<style scoped>\n",
       "    .dataframe tbody tr th:only-of-type {\n",
       "        vertical-align: middle;\n",
       "    }\n",
       "\n",
       "    .dataframe tbody tr th {\n",
       "        vertical-align: top;\n",
       "    }\n",
       "\n",
       "    .dataframe thead th {\n",
       "        text-align: right;\n",
       "    }\n",
       "</style>\n",
       "<table border=\"1\" class=\"dataframe\">\n",
       "  <thead>\n",
       "    <tr style=\"text-align: right;\">\n",
       "      <th></th>\n",
       "      <th>prefix_id</th>\n",
       "      <th>caseid</th>\n",
       "      <th>task</th>\n",
       "      <th>role</th>\n",
       "      <th>end_timestamp</th>\n",
       "      <th>trace_start</th>\n",
       "      <th>timelapsed</th>\n",
       "      <th>next_activity</th>\n",
       "      <th>milestone</th>\n",
       "      <th>milestone_id</th>\n",
       "      <th>task_index</th>\n",
       "      <th>timelapsed_2</th>\n",
       "    </tr>\n",
       "  </thead>\n",
       "  <tbody>\n",
       "    <tr>\n",
       "      <th>0</th>\n",
       "      <td>173898_3</td>\n",
       "      <td>173898</td>\n",
       "      <td>A_SUBMITTED</td>\n",
       "      <td>role_112</td>\n",
       "      <td>2011-10-03 00:05:39.8170000</td>\n",
       "      <td>2011-10-03 00:05:39.8170000</td>\n",
       "      <td>0</td>\n",
       "      <td>W_Calling after sent offers</td>\n",
       "      <td>W_Filling in information for the application</td>\n",
       "      <td>3</td>\n",
       "      <td>1</td>\n",
       "      <td>0</td>\n",
       "    </tr>\n",
       "    <tr>\n",
       "      <th>1</th>\n",
       "      <td>173898_2</td>\n",
       "      <td>173898</td>\n",
       "      <td>A_SUBMITTED</td>\n",
       "      <td>role_112</td>\n",
       "      <td>2011-10-03 00:05:39.8170000</td>\n",
       "      <td>2011-10-03 00:05:39.8170000</td>\n",
       "      <td>0</td>\n",
       "      <td>A_ACCEPTED</td>\n",
       "      <td>W_Filling in information for the application</td>\n",
       "      <td>2</td>\n",
       "      <td>1</td>\n",
       "      <td>0</td>\n",
       "    </tr>\n",
       "    <tr>\n",
       "      <th>2</th>\n",
       "      <td>173898_4</td>\n",
       "      <td>173898</td>\n",
       "      <td>A_SUBMITTED</td>\n",
       "      <td>role_112</td>\n",
       "      <td>2011-10-03 00:05:39.8170000</td>\n",
       "      <td>2011-10-03 00:05:39.8170000</td>\n",
       "      <td>0</td>\n",
       "      <td>O_CANCELLED</td>\n",
       "      <td>W_Calling after sent offers</td>\n",
       "      <td>4</td>\n",
       "      <td>1</td>\n",
       "      <td>0</td>\n",
       "    </tr>\n",
       "    <tr>\n",
       "      <th>3</th>\n",
       "      <td>173898_3</td>\n",
       "      <td>173898</td>\n",
       "      <td>A_PARTLYSUBMITTED</td>\n",
       "      <td>role_112</td>\n",
       "      <td>2011-10-03 00:05:40.0090000</td>\n",
       "      <td>2011-10-03 00:05:39.8170000</td>\n",
       "      <td>0</td>\n",
       "      <td>W_Calling after sent offers</td>\n",
       "      <td>W_Filling in information for the application</td>\n",
       "      <td>3</td>\n",
       "      <td>2</td>\n",
       "      <td>0</td>\n",
       "    </tr>\n",
       "    <tr>\n",
       "      <th>4</th>\n",
       "      <td>173898_2</td>\n",
       "      <td>173898</td>\n",
       "      <td>A_PARTLYSUBMITTED</td>\n",
       "      <td>role_112</td>\n",
       "      <td>2011-10-03 00:05:40.0090000</td>\n",
       "      <td>2011-10-03 00:05:39.8170000</td>\n",
       "      <td>0</td>\n",
       "      <td>A_ACCEPTED</td>\n",
       "      <td>W_Filling in information for the application</td>\n",
       "      <td>2</td>\n",
       "      <td>2</td>\n",
       "      <td>0</td>\n",
       "    </tr>\n",
       "  </tbody>\n",
       "</table>\n",
       "</div>"
      ]
     },
     "metadata": {},
     "execution_count": 6
    }
   ],
   "metadata": {
    "id": "NGwVWx-gO0dd",
    "colab": {
     "base_uri": "https://localhost:8080/",
     "height": 289
    },
    "executionInfo": {
     "status": "ok",
     "timestamp": 1629792311601,
     "user_tz": -600,
     "elapsed": 2606,
     "user": {
      "displayName": "Bemali Wickramanayake",
      "photoUrl": "",
      "userId": "06528833813357396771"
     }
    },
    "outputId": "1c4dab1a-d35e-406c-d5c0-e639807fdd55"
   }
  },
  {
   "cell_type": "markdown",
   "source": [
    "Milestone Extraction\n",
    "\n",
    "We expect to filter the prefixes by the milestone, and train the model for each milestone separately to observe if there will be an improvement in the model explainability as well as performance\n"
   ],
   "metadata": {
    "id": "0rx485wyd_gi"
   }
  },
  {
   "cell_type": "code",
   "execution_count": null,
   "source": [
    "if milestone != 'All':\n",
    "  log_df = log_df[log_df['milestone'] == milestone]"
   ],
   "outputs": [],
   "metadata": {
    "id": "KzI8Hx4vd-oI"
   }
  },
  {
   "cell_type": "markdown",
   "source": [
    "#### Data Analysis"
   ],
   "metadata": {
    "id": "cjQGCFJdaAky"
   }
  },
  {
   "cell_type": "code",
   "execution_count": null,
   "source": [
    "#Checking the Balance of the Dataset, by the target variable\n",
    "print('Distribution of cases by the target variable - next event\\n')\n",
    "print(log_df.groupby(['next_activity'])['prefix_id'].nunique())"
   ],
   "outputs": [
    {
     "output_type": "stream",
     "name": "stdout",
     "text": [
      "Distribution of cases by the target variable - next event\n",
      "\n",
      "next_activity\n",
      "A_ACTIVATED                                       68\n",
      "A_APPROVED                                       163\n",
      "A_CANCELLED                                      745\n",
      "A_DECLINED                                       201\n",
      "A_REGISTERED                                      71\n",
      "O_ACCEPTED                                       342\n",
      "O_CANCELLED                                     1119\n",
      "O_DECLINED                                       194\n",
      "O_SELECTED                                       450\n",
      "O_SENT_BACK                                     2693\n",
      "W_Assessing the application                     2114\n",
      "W_Filling in information for the application       4\n",
      "Name: prefix_id, dtype: int64\n"
     ]
    }
   ],
   "metadata": {
    "colab": {
     "base_uri": "https://localhost:8080/"
    },
    "id": "sDzBQScYzmE3",
    "executionInfo": {
     "status": "ok",
     "timestamp": 1629792335052,
     "user_tz": -600,
     "elapsed": 473,
     "user": {
      "displayName": "Bemali Wickramanayake",
      "photoUrl": "",
      "userId": "06528833813357396771"
     }
    },
    "outputId": "000bb0e6-1d20-4b49-f178-8420f7a6381c"
   }
  },
  {
   "cell_type": "markdown",
   "source": [
    "We can see that there is an imbalance in the dataset, by the next activity name, as well as a very high dimensionality in the target variable.\n",
    "Therefore, we can reduce the imbalance and high dimensionality of data by grouping some of the activity name.\n"
   ],
   "metadata": {
    "id": "GI1Qffm2zqdD"
   }
  },
  {
   "cell_type": "markdown",
   "source": [
    "Balancing the dataset\n"
   ],
   "metadata": {
    "id": "oAR81L1ZzCEL"
   }
  },
  {
   "cell_type": "code",
   "execution_count": null,
   "source": [
    "def balance(df):\n",
    "  # Dictonary with the mapping of columns\n",
    "  \n",
    "  #based on the paper : BPIC_2012 Winner, DOI: 10.1007/978-3-642-36285-9_24\n",
    "\n",
    "  group_dict = {'A_ACCEPTED':'A_ACCEPTED',    \n",
    "    'A_ACTIVATED' :   'A_APPROVED_ACTIVATED',\n",
    "    'A_APPROVED':  'A_APPROVED_ACTIVATED',\n",
    "    'A_CANCELLED': 'A_CANCELLED_DECLINED' ,\n",
    "    'A_DECLINED': 'A_CANCELLED_DECLINED' ,\n",
    "    'A_PARTLYSUBMITTED': 'REDUNDANT',\n",
    "    'A_PREACCEPTED':'A_PREACCEPTED',\n",
    "    'A_REGISTERED' : 'REDUNDANT',\n",
    "    'O_ACCEPTED' : 'REDUNDANT',\n",
    "    'O_CANCELLED' :  'O_CANCELLED_DECLINED' ,\n",
    "    'O_CREATED':'REDUNDANT',\n",
    "    'O_DECLINED' :'O_CANCELLED_DECLINED' ,\n",
    "    'O_SELECTED' : 'REDUNDANT', \n",
    "    'O_SENT':'O_SENT',\n",
    "    'O_SENT_BACK' : 'O_SENT_BACK',\n",
    "    'W_Afhandelen leads' :  'W_Afhandelen leads',\n",
    "    'W_Completeren aanvraag': 'W_Completeren aanvraag',\n",
    "    'W_Filling in information for the application':'W_Filling in information for the application',\n",
    "    'W_Calling after sent offers':'W_Calling after sent offers',\n",
    "    'W_Assessing the application' : 'W_Assessing the application'}\n",
    "\n",
    "\n",
    "  df['next_activity'].replace(group_dict, inplace=True)\n",
    "  #Dropping the minority classes\n",
    "  df = df.drop(df[df.next_activity == 'REDUNDANT'].index)\n",
    " \n",
    "\n",
    "  return df"
   ],
   "outputs": [],
   "metadata": {
    "id": "1m2ON1ha0-sr"
   }
  },
  {
   "cell_type": "code",
   "execution_count": null,
   "source": [
    "log_df = balance(log_df)\n",
    "\n",
    "\n",
    "\n",
    "#replacing empty cells of categorical columns with 'none'\n",
    "log_df = log_df.fillna('none')"
   ],
   "outputs": [],
   "metadata": {
    "id": "65OV3Vir3RId"
   }
  },
  {
   "cell_type": "code",
   "execution_count": null,
   "source": [
    "# Check the balance\n",
    "\n",
    "print('Distribution of cases by the target variable - next event\\n')\n",
    "print(log_df.groupby(['next_activity'])['prefix_id'].nunique())"
   ],
   "outputs": [
    {
     "output_type": "stream",
     "name": "stdout",
     "text": [
      "Distribution of cases by the target variable - next event\n",
      "\n",
      "next_activity\n",
      "A_APPROVED_ACTIVATED                             231\n",
      "A_CANCELLED_DECLINED                             946\n",
      "O_CANCELLED_DECLINED                            1313\n",
      "O_SENT_BACK                                     2693\n",
      "W_Assessing the application                     2114\n",
      "W_Filling in information for the application       4\n",
      "Name: prefix_id, dtype: int64\n"
     ]
    }
   ],
   "metadata": {
    "colab": {
     "base_uri": "https://localhost:8080/"
    },
    "id": "nGRpabpY3AYd",
    "executionInfo": {
     "status": "ok",
     "timestamp": 1629792407267,
     "user_tz": -600,
     "elapsed": 270,
     "user": {
      "displayName": "Bemali Wickramanayake",
      "photoUrl": "",
      "userId": "06528833813357396771"
     }
    },
    "outputId": "3647476d-04cf-45cf-c12f-4f6eef163cac"
   }
  },
  {
   "cell_type": "code",
   "execution_count": null,
   "source": [
    "#removing a minority target\n",
    "log_df = log_df.drop(log_df[log_df.next_activity == 'W_Filling in information for the application'].index)"
   ],
   "outputs": [],
   "metadata": {
    "id": "jWkyUb6JMrBk"
   }
  },
  {
   "cell_type": "markdown",
   "source": [
    "Reduce Loops\n",
    "\n",
    "Function : `reduce_loops(df)`, Author: Manuel Camargo, Edited by: Bemali Wickramanayake"
   ],
   "metadata": {
    "id": "NR5u79qK-CAu"
   }
  },
  {
   "cell_type": "code",
   "execution_count": null,
   "source": [
    "if experiment == 'No_Loops':\n",
    "  log_df = reduce_loops(log_df)"
   ],
   "outputs": [],
   "metadata": {
    "id": "JRMw5c7AEoAc"
   }
  },
  {
   "cell_type": "markdown",
   "source": [
    "#### Data Encoding and Vectorization"
   ],
   "metadata": {
    "id": "c8ryArjFcKh6"
   }
  },
  {
   "cell_type": "markdown",
   "source": [
    "Index creating for data encoding\n",
    "Function : `create_index(log_df, column)`, Author: Manuel Camargo, Edited by: Bemali Wickramanayake"
   ],
   "metadata": {
    "id": "pbjWsu4wIHoA"
   }
  },
  {
   "cell_type": "code",
   "execution_count": null,
   "source": [
    "# Index creation for activity\n",
    "\n",
    "ac_index = create_index(log_df, 'task')\n",
    "index_ac = {v: k for k, v in ac_index.items()}\n",
    "\n",
    "# Index creation for unit\n",
    "\n",
    "rl_index = create_index(log_df, 'role')\n",
    "index_rl = {v: k for k, v in rl_index.items()}\n",
    "\n",
    "# Index creation for next activity\n",
    "\n",
    "ne_index = create_index(log_df, 'next_activity')\n",
    "\n",
    "index_ne = {v: k for k, v in ne_index.items()}\n",
    "\n",
    "#mapping the dictionary values as columns in the dataframe\n",
    "log_df['ac_index'] = log_df['task'].map(ac_index)\n",
    "log_df['rl_index'] = log_df['role'].map(rl_index)\n",
    "log_df['ne_index'] = log_df['next_activity'].map(ne_index)\n",
    "\n",
    "print(rl_index)\n",
    "print(index_rl)\n",
    "log_df.head()"
   ],
   "outputs": [
    {
     "output_type": "stream",
     "name": "stdout",
     "text": [
      "{'none': 0, 'role_000': 1, 'role_10124': 2, 'role_10138': 3, 'role_10188': 4, 'role_10228': 5, 'role_10609': 6, 'role_10629': 7, 'role_10779': 8, 'role_10789': 9, 'role_10809': 10, 'role_10859': 11, 'role_10861': 12, 'role_10862': 13, 'role_10863': 14, 'role_10880': 15, 'role_10881': 16, 'role_10889': 17, 'role_10899': 18, 'role_10909': 19, 'role_10910': 20, 'role_10912': 21, 'role_10913': 22, 'role_10914': 23, 'role_10929': 24, 'role_10931': 25, 'role_10932': 26, 'role_10933': 27, 'role_10935': 28, 'role_10939': 29, 'role_10971': 30, 'role_10972': 31, 'role_10982': 32, 'role_11000': 33, 'role_11001': 34, 'role_11002': 35, 'role_11003': 36, 'role_11009': 37, 'role_11019': 38, 'role_11029': 39, 'role_11049': 40, 'role_11079': 41, 'role_11111': 42, 'role_11119': 43, 'role_11120': 44, 'role_11121': 45, 'role_11122': 46, 'role_11169': 47, 'role_11179': 48, 'role_11180': 49, 'role_11181': 50, 'role_11189': 51, 'role_112': 52, 'role_11200': 53, 'role_11201': 54, 'role_11202': 55, 'role_11203': 56, 'role_11259': 57, 'role_11269': 58, 'role_11289': 59, 'role_11299': 60, 'role_11300': 61, 'role_11302': 62, 'role_11304': 63, 'role_11309': 64, 'role_11319': 65}\n",
      "{0: 'none', 1: 'role_000', 2: 'role_10124', 3: 'role_10138', 4: 'role_10188', 5: 'role_10228', 6: 'role_10609', 7: 'role_10629', 8: 'role_10779', 9: 'role_10789', 10: 'role_10809', 11: 'role_10859', 12: 'role_10861', 13: 'role_10862', 14: 'role_10863', 15: 'role_10880', 16: 'role_10881', 17: 'role_10889', 18: 'role_10899', 19: 'role_10909', 20: 'role_10910', 21: 'role_10912', 22: 'role_10913', 23: 'role_10914', 24: 'role_10929', 25: 'role_10931', 26: 'role_10932', 27: 'role_10933', 28: 'role_10935', 29: 'role_10939', 30: 'role_10971', 31: 'role_10972', 32: 'role_10982', 33: 'role_11000', 34: 'role_11001', 35: 'role_11002', 36: 'role_11003', 37: 'role_11009', 38: 'role_11019', 39: 'role_11029', 40: 'role_11049', 41: 'role_11079', 42: 'role_11111', 43: 'role_11119', 44: 'role_11120', 45: 'role_11121', 46: 'role_11122', 47: 'role_11169', 48: 'role_11179', 49: 'role_11180', 50: 'role_11181', 51: 'role_11189', 52: 'role_112', 53: 'role_11200', 54: 'role_11201', 55: 'role_11202', 56: 'role_11203', 57: 'role_11259', 58: 'role_11269', 59: 'role_11289', 60: 'role_11299', 61: 'role_11300', 62: 'role_11302', 63: 'role_11304', 64: 'role_11309', 65: 'role_11319'}\n"
     ]
    },
    {
     "output_type": "execute_result",
     "data": {
      "text/plain": [
       "   prefix_id  caseid  ... rl_index ne_index\n",
       "2   173898_4  173898  ...       52        2\n",
       "5   173898_4  173898  ...       52        2\n",
       "8   173898_4  173898  ...       17        2\n",
       "11  173898_4  173898  ...       17        2\n",
       "14  173898_4  173898  ...        1        2\n",
       "\n",
       "[5 rows x 15 columns]"
      ],
      "text/html": [
       "<div>\n",
       "<style scoped>\n",
       "    .dataframe tbody tr th:only-of-type {\n",
       "        vertical-align: middle;\n",
       "    }\n",
       "\n",
       "    .dataframe tbody tr th {\n",
       "        vertical-align: top;\n",
       "    }\n",
       "\n",
       "    .dataframe thead th {\n",
       "        text-align: right;\n",
       "    }\n",
       "</style>\n",
       "<table border=\"1\" class=\"dataframe\">\n",
       "  <thead>\n",
       "    <tr style=\"text-align: right;\">\n",
       "      <th></th>\n",
       "      <th>prefix_id</th>\n",
       "      <th>caseid</th>\n",
       "      <th>task</th>\n",
       "      <th>role</th>\n",
       "      <th>end_timestamp</th>\n",
       "      <th>trace_start</th>\n",
       "      <th>timelapsed</th>\n",
       "      <th>next_activity</th>\n",
       "      <th>milestone</th>\n",
       "      <th>milestone_id</th>\n",
       "      <th>task_index</th>\n",
       "      <th>timelapsed_2</th>\n",
       "      <th>ac_index</th>\n",
       "      <th>rl_index</th>\n",
       "      <th>ne_index</th>\n",
       "    </tr>\n",
       "  </thead>\n",
       "  <tbody>\n",
       "    <tr>\n",
       "      <th>2</th>\n",
       "      <td>173898_4</td>\n",
       "      <td>173898</td>\n",
       "      <td>A_SUBMITTED</td>\n",
       "      <td>role_112</td>\n",
       "      <td>2011-10-03 00:05:39.8170000</td>\n",
       "      <td>2011-10-03 00:05:39.8170000</td>\n",
       "      <td>0</td>\n",
       "      <td>O_CANCELLED_DECLINED</td>\n",
       "      <td>W_Calling after sent offers</td>\n",
       "      <td>4</td>\n",
       "      <td>1</td>\n",
       "      <td>0</td>\n",
       "      <td>6</td>\n",
       "      <td>52</td>\n",
       "      <td>2</td>\n",
       "    </tr>\n",
       "    <tr>\n",
       "      <th>5</th>\n",
       "      <td>173898_4</td>\n",
       "      <td>173898</td>\n",
       "      <td>A_PARTLYSUBMITTED</td>\n",
       "      <td>role_112</td>\n",
       "      <td>2011-10-03 00:05:40.0090000</td>\n",
       "      <td>2011-10-03 00:05:39.8170000</td>\n",
       "      <td>0</td>\n",
       "      <td>O_CANCELLED_DECLINED</td>\n",
       "      <td>W_Calling after sent offers</td>\n",
       "      <td>4</td>\n",
       "      <td>2</td>\n",
       "      <td>0</td>\n",
       "      <td>4</td>\n",
       "      <td>52</td>\n",
       "      <td>2</td>\n",
       "    </tr>\n",
       "    <tr>\n",
       "      <th>8</th>\n",
       "      <td>173898_4</td>\n",
       "      <td>173898</td>\n",
       "      <td>A_PREACCEPTED</td>\n",
       "      <td>role_10889</td>\n",
       "      <td>2011-10-03 17:37:05.9680000</td>\n",
       "      <td>2011-10-03 00:05:39.8170000</td>\n",
       "      <td>17</td>\n",
       "      <td>O_CANCELLED_DECLINED</td>\n",
       "      <td>W_Calling after sent offers</td>\n",
       "      <td>4</td>\n",
       "      <td>3</td>\n",
       "      <td>17</td>\n",
       "      <td>5</td>\n",
       "      <td>17</td>\n",
       "      <td>2</td>\n",
       "    </tr>\n",
       "    <tr>\n",
       "      <th>11</th>\n",
       "      <td>173898_4</td>\n",
       "      <td>173898</td>\n",
       "      <td>W_Fixing incoming lead</td>\n",
       "      <td>role_10889</td>\n",
       "      <td>2011-10-03 17:37:07.2610000</td>\n",
       "      <td>2011-10-03 00:05:39.8170000</td>\n",
       "      <td>17</td>\n",
       "      <td>O_CANCELLED_DECLINED</td>\n",
       "      <td>W_Calling after sent offers</td>\n",
       "      <td>4</td>\n",
       "      <td>4</td>\n",
       "      <td>0</td>\n",
       "      <td>15</td>\n",
       "      <td>17</td>\n",
       "      <td>2</td>\n",
       "    </tr>\n",
       "    <tr>\n",
       "      <th>14</th>\n",
       "      <td>173898_4</td>\n",
       "      <td>173898</td>\n",
       "      <td>W_Filling in information for the application</td>\n",
       "      <td>role_000</td>\n",
       "      <td>2011-10-03 21:58:22.0150000</td>\n",
       "      <td>2011-10-03 00:05:39.8170000</td>\n",
       "      <td>21</td>\n",
       "      <td>O_CANCELLED_DECLINED</td>\n",
       "      <td>W_Calling after sent offers</td>\n",
       "      <td>4</td>\n",
       "      <td>5</td>\n",
       "      <td>4</td>\n",
       "      <td>14</td>\n",
       "      <td>1</td>\n",
       "      <td>2</td>\n",
       "    </tr>\n",
       "  </tbody>\n",
       "</table>\n",
       "</div>"
      ]
     },
     "metadata": {},
     "execution_count": 14
    }
   ],
   "metadata": {
    "id": "Z0tv0BAAIHoA",
    "colab": {
     "base_uri": "https://localhost:8080/",
     "height": 428
    },
    "executionInfo": {
     "status": "ok",
     "timestamp": 1629792479608,
     "user_tz": -600,
     "elapsed": 754,
     "user": {
      "displayName": "Bemali Wickramanayake",
      "photoUrl": "",
      "userId": "06528833813357396771"
     }
    },
    "outputId": "58738394-4f34-43e6-c2fd-51ebd6bc87d0"
   }
  },
  {
   "cell_type": "code",
   "execution_count": null,
   "source": [
    "print(ne_index)"
   ],
   "outputs": [
    {
     "output_type": "stream",
     "name": "stdout",
     "text": [
      "{'A_APPROVED_ACTIVATED': 0, 'A_CANCELLED_DECLINED': 1, 'O_CANCELLED_DECLINED': 2, 'O_SENT_BACK': 3, 'W_Assessing the application': 4}\n"
     ]
    }
   ],
   "metadata": {
    "id": "8nahWKYfIHoA",
    "colab": {
     "base_uri": "https://localhost:8080/"
    },
    "executionInfo": {
     "status": "ok",
     "timestamp": 1629792484788,
     "user_tz": -600,
     "elapsed": 272,
     "user": {
      "displayName": "Bemali Wickramanayake",
      "photoUrl": "",
      "userId": "06528833813357396771"
     }
    },
    "outputId": "45b2fe52-c692-409b-d5f1-0c38421db818"
   }
  },
  {
   "cell_type": "markdown",
   "source": [
    "Splitting the dataframe into test and train sets\n",
    "\n",
    "Function : `split_train_test(df, percentage)`, Author: Bemali Wickramanayake"
   ],
   "metadata": {
    "id": "3F77WY4AIHoB"
   }
  },
  {
   "cell_type": "code",
   "execution_count": null,
   "source": [
    "# Split validation datasets\n",
    "log_df_train, log_df_test = split_train_test(log_df, 0.3) # 70%/30%"
   ],
   "outputs": [],
   "metadata": {
    "id": "cR8K1nb7IHoB"
   }
  },
  {
   "cell_type": "markdown",
   "source": [
    "Normalize Numerical Features\n",
    "\n",
    "Function : `normalize_events(log_df,args,numerical_features)`, Author: Manuel Camargo, Edited by: Bemali Wickramanayake\n"
   ],
   "metadata": {
    "id": "9jmhklddIHoC"
   }
  },
  {
   "cell_type": "code",
   "execution_count": null,
   "source": [
    "numerical_features = ['timelapsed']\n",
    "log_df_train = normalize_events(log_df_train,args,numerical_features)\n",
    "log_df_test = normalize_events(log_df_test,args,numerical_features)\n"
   ],
   "outputs": [],
   "metadata": {
    "id": "1aglgX-oIHoC"
   }
  },
  {
   "cell_type": "code",
   "execution_count": null,
   "source": [
    "training_traces = len(log_df_train['prefix_id'].unique())\n",
    "test_traces = len(log_df_test['prefix_id'].unique())\n",
    "\n",
    "\n",
    "print('Number of traces in training set is:'+str(training_traces))\n",
    "print('Number of traces in test set is:'+str(test_traces))\n"
   ],
   "outputs": [
    {
     "output_type": "stream",
     "name": "stdout",
     "text": [
      "Number of traces in training set is:5108\n",
      "Number of traces in test set is:2189\n"
     ]
    }
   ],
   "metadata": {
    "id": "_9QIxDkHIHoC",
    "colab": {
     "base_uri": "https://localhost:8080/"
    },
    "executionInfo": {
     "status": "ok",
     "timestamp": 1629792496251,
     "user_tz": -600,
     "elapsed": 273,
     "user": {
      "displayName": "Bemali Wickramanayake",
      "photoUrl": "",
      "userId": "06528833813357396771"
     }
    },
    "outputId": "79ac4e4a-17c6-4aa2-e673-316219c6b328"
   }
  },
  {
   "cell_type": "code",
   "execution_count": null,
   "source": [
    "#Checking the Balance of the Dataset, by the target variable\n",
    "print('training dataset')\n",
    "print(log_df_train.groupby(['next_activity'])['prefix_id'].nunique())\n",
    "print(\"\")\n",
    "print('test dataset')\n",
    "print(log_df_test.groupby(['next_activity'])['prefix_id'].nunique())\n",
    "print(\"\")\n",
    "\n"
   ],
   "outputs": [
    {
     "output_type": "stream",
     "name": "stdout",
     "text": [
      "training dataset\n",
      "next_activity\n",
      "A_APPROVED_ACTIVATED            157\n",
      "A_CANCELLED_DECLINED            638\n",
      "O_CANCELLED_DECLINED            930\n",
      "O_SENT_BACK                    1897\n",
      "W_Assessing the application    1486\n",
      "Name: prefix_id, dtype: int64\n",
      "\n",
      "test dataset\n",
      "next_activity\n",
      "A_APPROVED_ACTIVATED            74\n",
      "A_CANCELLED_DECLINED           308\n",
      "O_CANCELLED_DECLINED           383\n",
      "O_SENT_BACK                    796\n",
      "W_Assessing the application    628\n",
      "Name: prefix_id, dtype: int64\n",
      "\n"
     ]
    }
   ],
   "metadata": {
    "id": "4Ie865-LIHoC",
    "colab": {
     "base_uri": "https://localhost:8080/"
    },
    "executionInfo": {
     "status": "ok",
     "timestamp": 1629792499169,
     "user_tz": -600,
     "elapsed": 465,
     "user": {
      "displayName": "Bemali Wickramanayake",
      "photoUrl": "",
      "userId": "06528833813357396771"
     }
    },
    "outputId": "9d8789ce-52ef-4269-cfe0-0414576d9987"
   }
  },
  {
   "cell_type": "markdown",
   "source": [
    "Reformat events: converting the dataframe into a dictionary to aid vectorization\n",
    "\n",
    "Function : `reformat_events(log_df, ac_index, rl_index,ne_index)`, Author: Renuka Sindagatta/ Manuel Camargo, Edited by: Bemali Wickramanayake\n",
    "\n",
    "\n"
   ],
   "metadata": {
    "id": "lyVvDPp_IHoC"
   }
  },
  {
   "cell_type": "code",
   "execution_count": null,
   "source": [
    "log_train = reformat_events(log_df_train, ac_index, rl_index,ne_index)\n",
    "log_test = reformat_events(log_df_test, ac_index, rl_index,ne_index)\n",
    "#log_val = reformat_events(log_df_val, ac_index, rl_index,ne_index)\n",
    "\n",
    "#print a sample of the dictionary\n",
    "print(log_train[200])"
   ],
   "outputs": [
    {
     "output_type": "stream",
     "name": "stdout",
     "text": [
      "{'caseid': '184270_4', 'ac_order': [13, 13, 13, 14, 10, 8, 3, 9, 1, 14, 14, 14, 14, 5, 4, 6], 'rl_order': [16, 1, 45, 45, 45, 45, 45, 45, 45, 45, 45, 54, 1, 52, 52, 52], 'tbtw': [1.3260224673890262, 1.32430867824182, 0.47385408599814755, 0.47385408599814755, 0.47385408599814755, 0.47385408599814755, 0.47385408599814755, 0.47385408599814755, 0.47385408599814755, 0.47385408599814755, 0.47385408599814755, 0.2616084848951091, 0.13767749871470736, -1.1919807893442844, -1.1919807893442844, -1.1919807893442844], 'next_activity': 1}\n"
     ]
    }
   ],
   "metadata": {
    "id": "9OJqB0XhIHoD",
    "colab": {
     "base_uri": "https://localhost:8080/"
    },
    "executionInfo": {
     "status": "ok",
     "timestamp": 1629792506846,
     "user_tz": -600,
     "elapsed": 3203,
     "user": {
      "displayName": "Bemali Wickramanayake",
      "photoUrl": "",
      "userId": "06528833813357396771"
     }
    },
    "outputId": "e60642b9-1dfc-480d-86b1-73971c4e1625"
   }
  },
  {
   "cell_type": "markdown",
   "source": [
    "Vectorization: Convert the data dictionaries into trainable multi dimensional tensors\n",
    "\n",
    "Function: `vectorization(log,ac_index, rl_index, ne_index,trc_len,cases)` , Author: Bemali Wickramanayake, Inspired by the code of: Renuka Sindagatta\n",
    "\n",
    "\n",
    "\n"
   ],
   "metadata": {
    "id": "Z8TQxVwjIHoD"
   }
  },
  {
   "cell_type": "code",
   "execution_count": null,
   "source": [
    "#Obtain the maximum trc_len and cases for each set\n",
    "\n",
    "trc_len_train, cases_train = lengths(log_train)\n",
    "trc_len_test, cases_test = lengths(log_test)\n",
    "#trc_len_val, cases_val = lengths(log_val)\n",
    "\n",
    "trc_len = max([trc_len_train, trc_len_test])\n",
    "\n",
    "print(\"trace_length: \"+str(trc_len)+\", training cases: \"+str(cases_train)+\", test cases: \"+str(cases_test) )"
   ],
   "outputs": [
    {
     "output_type": "stream",
     "name": "stdout",
     "text": [
      "trace_length: 60, training cases: 5109, test cases: 2190\n"
     ]
    }
   ],
   "metadata": {
    "id": "XQ0mu3uxIHoD",
    "colab": {
     "base_uri": "https://localhost:8080/"
    },
    "executionInfo": {
     "status": "ok",
     "timestamp": 1629792511592,
     "user_tz": -600,
     "elapsed": 465,
     "user": {
      "displayName": "Bemali Wickramanayake",
      "photoUrl": "",
      "userId": "06528833813357396771"
     }
    },
    "outputId": "09f445a8-b4ae-4340-d4e8-eaca773560a9"
   }
  },
  {
   "cell_type": "markdown",
   "source": [
    "converting the training log (dictionary) into a Tensor"
   ],
   "metadata": {
    "id": "w02WNjjnIHoD"
   }
  },
  {
   "cell_type": "code",
   "execution_count": null,
   "source": [
    "vec_train = vectorization(log_train,ac_index, rl_index, ne_index,trc_len,cases_train)\n",
    "vec_test = vectorization(log_test,ac_index, rl_index, ne_index,trc_len,cases_test)\n",
    "#vec_val = vectorization(log_val,ac_index, rl_index, ne_index,trc_len,cases_val)"
   ],
   "outputs": [],
   "metadata": {
    "id": "cvTWoyKcIHoD"
   }
  },
  {
   "cell_type": "code",
   "execution_count": null,
   "source": [
    "vec_train['prefixes']['x_ac_inp']"
   ],
   "outputs": [
    {
     "output_type": "execute_result",
     "data": {
      "text/plain": [
       "array([[13., 11., 13., ...,  0.,  0.,  0.],\n",
       "       [13., 11., 13., ...,  0.,  0.,  0.],\n",
       "       [13., 13., 13., ...,  0.,  0.,  0.],\n",
       "       ...,\n",
       "       [13., 13., 14., ...,  0.,  0.,  0.],\n",
       "       [13., 11., 13., ...,  0.,  0.,  0.],\n",
       "       [13., 13., 13., ...,  0.,  0.,  0.]])"
      ]
     },
     "metadata": {},
     "execution_count": 23
    }
   ],
   "metadata": {
    "id": "4eKZMlg0IHoD",
    "colab": {
     "base_uri": "https://localhost:8080/"
    },
    "executionInfo": {
     "status": "ok",
     "timestamp": 1629792526545,
     "user_tz": -600,
     "elapsed": 274,
     "user": {
      "displayName": "Bemali Wickramanayake",
      "photoUrl": "",
      "userId": "06528833813357396771"
     }
    },
    "outputId": "f628e10b-9608-4570-94b3-1dee71ef0c90"
   }
  },
  {
   "cell_type": "markdown",
   "source": [
    "#### Generating Initial Embedding Weights for shared Model"
   ],
   "metadata": {
    "id": "0wXFsmDUIHoD"
   }
  },
  {
   "cell_type": "code",
   "execution_count": null,
   "source": [
    "ac_weights = to_categorical(sorted(index_ac.keys()), num_classes = len(ac_index))\n",
    "ac_weights[0] = 0 # embedding weights for label none = 0\n",
    "\n",
    "rl_weights =  to_categorical(sorted(index_rl.keys()), num_classes = len(rl_index))\n",
    "rl_weights[0] = 0 # embeddig weights for label none = 0\n"
   ],
   "outputs": [],
   "metadata": {
    "id": "FKHX2nznIHoD"
   }
  },
  {
   "cell_type": "markdown",
   "source": [
    "#### Saving the Processed Tensor and Other Support Data"
   ],
   "metadata": {
    "id": "-1j-ifErIHoE"
   }
  },
  {
   "cell_type": "code",
   "execution_count": null,
   "source": [
    "# saving the processed tensor\n",
    "dirname = os.path.dirname(args['processed_training_vec'])\n",
    "\n",
    "if not os.path.exists(dirname):\n",
    "    os.makedirs(dirname)\n",
    "\n",
    "with open(args['processed_training_vec'], 'wb') as fp:\n",
    "    pickle.dump(vec_train, fp, protocol=pickle.HIGHEST_PROTOCOL)\n",
    "with open(args['processed_test_vec'], 'wb') as fp:\n",
    "    pickle.dump(vec_test, fp, protocol=pickle.HIGHEST_PROTOCOL)\n",
    "\n",
    "\n",
    "# converting the weights into a dictionary and saving\n",
    "weights = {'ac_weights':ac_weights, 'rl_weights':rl_weights, 'next_activity':len(ne_index)}\n",
    "with open(args['weights'], 'wb') as fp:\n",
    "    pickle.dump(weights, fp, protocol=pickle.HIGHEST_PROTOCOL)\n",
    "\n",
    "# converting the weights into a dictionary and saving\n",
    "indexes = {'index_ac':index_ac, 'index_rl':index_rl,'index_ne':index_ne}\n",
    "with open(args['indexes'], 'wb') as fp:\n",
    "    pickle.dump(indexes, fp, protocol=pickle.HIGHEST_PROTOCOL)\n",
    "\n",
    "# converting the weights into a dictionary and saving\n",
    "pre_index = {'ac_index':ac_index, 'rl_index':rl_index,'ne_index':ne_index}\n",
    "with open(args['pre_index'], 'wb') as fp:\n",
    "    pickle.dump(pre_index, fp, protocol=pickle.HIGHEST_PROTOCOL)\n",
    "\n",
    "#saving the arguements (args)\n",
    "with open(args['args'], 'wb') as fp:\n",
    "    pickle.dump(args, fp, protocol=pickle.HIGHEST_PROTOCOL)\n"
   ],
   "outputs": [],
   "metadata": {
    "id": "1Y0VR83cIHoE"
   }
  },
  {
   "cell_type": "markdown",
   "source": [
    "### Experiments"
   ],
   "metadata": {
    "id": "nHcqgs3UMaG7"
   }
  },
  {
   "cell_type": "markdown",
   "source": [
    "#### Load the Required Libraries"
   ],
   "metadata": {
    "id": "_vzctgVbMhXF"
   }
  },
  {
   "cell_type": "code",
   "execution_count": 6,
   "source": [
    "!pip3 install pyflowchart\n",
    "!pip install --upgrade plotly\n"
   ],
   "outputs": [
    {
     "output_type": "stream",
     "name": "stdout",
     "text": [
      "Requirement already satisfied: pyflowchart in /usr/local/lib/python3.7/dist-packages (0.1.4)\n",
      "Requirement already satisfied: astunparse in /usr/local/lib/python3.7/dist-packages (from pyflowchart) (1.6.3)\n",
      "Requirement already satisfied: chardet in /usr/local/lib/python3.7/dist-packages (from pyflowchart) (3.0.4)\n",
      "Requirement already satisfied: six<2.0,>=1.6.1 in /usr/local/lib/python3.7/dist-packages (from astunparse->pyflowchart) (1.15.0)\n",
      "Requirement already satisfied: wheel<1.0,>=0.23.0 in /usr/local/lib/python3.7/dist-packages (from astunparse->pyflowchart) (0.37.0)\n",
      "Requirement already satisfied: plotly in /usr/local/lib/python3.7/dist-packages (5.2.2)\n",
      "Requirement already satisfied: six in /usr/local/lib/python3.7/dist-packages (from plotly) (1.15.0)\n",
      "Requirement already satisfied: tenacity>=6.2.0 in /usr/local/lib/python3.7/dist-packages (from plotly) (8.0.1)\n"
     ]
    }
   ],
   "metadata": {
    "colab": {
     "base_uri": "https://localhost:8080/"
    },
    "id": "RXq7qHiWMf6z",
    "executionInfo": {
     "status": "ok",
     "timestamp": 1630045648479,
     "user_tz": -600,
     "elapsed": 6280,
     "user": {
      "displayName": "Bemali Wickramanayake",
      "photoUrl": "",
      "userId": "06528833813357396771"
     }
    },
    "outputId": "9e09e9e2-e4db-41ce-f98c-1f2d620b0fea"
   }
  },
  {
   "cell_type": "code",
   "execution_count": 7,
   "source": [
    "import os\n",
    "import pickle\n",
    "import numpy as np\n",
    "import pandas as pd\n",
    "\n",
    "import tensorflow as tf\n",
    "from tensorflow.keras import callbacks, Model\n",
    "from tensorflow.keras.utils import to_categorical\n",
    "from tensorflow.keras.models import load_model\n",
    "\n",
    "import seaborn as sn\n",
    "import matplotlib.pyplot as plt\n",
    "from sklearn.metrics import confusion_matrix, classification_report\n",
    "from pyflowchart import *\n",
    "import plotly.express as px\n",
    "\n",
    "from models.shared import *\n",
    "from models.specialised import *\n",
    "from models.explain import *"
   ],
   "outputs": [],
   "metadata": {
    "id": "Yu0bDEemIHoE",
    "executionInfo": {
     "status": "ok",
     "timestamp": 1630045655313,
     "user_tz": -600,
     "elapsed": 1271,
     "user": {
      "displayName": "Bemali Wickramanayake",
      "photoUrl": "",
      "userId": "06528833813357396771"
     }
    }
   }
  },
  {
   "cell_type": "markdown",
   "source": [
    "#### Load the Required Parameters"
   ],
   "metadata": {
    "id": "WkUsQ2-iMurb"
   }
  },
  {
   "cell_type": "code",
   "execution_count": 8,
   "source": [
    "#with open(os.path.join(MILESTONE_DIR,'args.p'), 'rb') as fp:\n",
    "    #args = pickle.load(fp)\n",
    "\n",
    "with open(args['processed_training_vec'], 'rb') as fp:\n",
    "    vec_train = pickle.load(fp)\n",
    "with open(args['processed_test_vec'], 'rb') as fp:\n",
    "    vec_test = pickle.load(fp)\n",
    "    \n",
    "with open(args['weights'], 'rb') as fp:\n",
    "    weights = pickle.load(fp)\n",
    "ac_weights = weights['ac_weights']\n",
    "rl_weights = weights['rl_weights']\n",
    "next_activity = weights['next_activity']\n",
    "\n",
    "with open(args['indexes'], 'rb') as fp:\n",
    "    indexes = pickle.load(fp)\n",
    "    index_ac = indexes['index_ac']\n",
    "    index_rl = indexes['index_rl']\n",
    "    index_ne = indexes['index_ne']\n",
    "\n",
    "with open(args['pre_index'], 'rb') as fp:\n",
    "    pre_index = pickle.load(fp)\n",
    "    ac_index = pre_index['ac_index']\n",
    "    rl_index = pre_index['rl_index']\n",
    "    ne_index = pre_index['ne_index']"
   ],
   "outputs": [],
   "metadata": {
    "id": "gHqEtyhBMyp8",
    "executionInfo": {
     "status": "ok",
     "timestamp": 1630045659580,
     "user_tz": -600,
     "elapsed": 308,
     "user": {
      "displayName": "Bemali Wickramanayake",
      "photoUrl": "",
      "userId": "06528833813357396771"
     }
    }
   }
  },
  {
   "cell_type": "markdown",
   "source": [
    "#### shared Model : (Sindhagatta et al, 2020) DOI: https://doi.org/10.1007/978-3-030-58666-9_15"
   ],
   "metadata": {
    "id": "a2CluNJ3ODrH"
   }
  },
  {
   "cell_type": "code",
   "execution_count": null,
   "source": [
    "shared = shared_model(vec_train, weights, indexes, pre_index, args)"
   ],
   "outputs": [],
   "metadata": {
    "id": "29MaVs3APDQo"
   }
  },
  {
   "cell_type": "code",
   "execution_count": null,
   "source": [
    "shared.compile(loss='categorical_crossentropy', optimizer='Adam', metrics=['accuracy'])\n",
    "shared.summary()"
   ],
   "outputs": [
    {
     "output_type": "stream",
     "name": "stdout",
     "text": [
      "Model: \"model\"\n",
      "__________________________________________________________________________________________________\n",
      "Layer (type)                    Output Shape         Param #     Connected to                     \n",
      "==================================================================================================\n",
      "ac_input (InputLayer)           [(None, 5)]          0                                            \n",
      "__________________________________________________________________________________________________\n",
      "rl_input (InputLayer)           [(None, 5)]          0                                            \n",
      "__________________________________________________________________________________________________\n",
      "ac_embedding (Embedding)        (None, 5, 16)        256         ac_input[0][0]                   \n",
      "__________________________________________________________________________________________________\n",
      "rl_embedding (Embedding)        (None, 5, 66)        4356        rl_input[0][0]                   \n",
      "__________________________________________________________________________________________________\n",
      "t_input (InputLayer)            [(None, 5, 1)]       0                                            \n",
      "__________________________________________________________________________________________________\n",
      "full_embs (Concatenate)         (None, 5, 83)        0           ac_embedding[0][0]               \n",
      "                                                                 rl_embedding[0][0]               \n",
      "                                                                 t_input[0][0]                    \n",
      "__________________________________________________________________________________________________\n",
      "dropout (Dropout)               (None, 5, 83)        0           full_embs[0][0]                  \n",
      "__________________________________________________________________________________________________\n",
      "alpha (Bidirectional)           (None, 5, 100)       53600       dropout[0][0]                    \n",
      "__________________________________________________________________________________________________\n",
      "alpha_dense (TimeDistributed)   (None, 5, 1)         101         alpha[0][0]                      \n",
      "__________________________________________________________________________________________________\n",
      "beta (Bidirectional)            (None, 5, 100)       53600       dropout[0][0]                    \n",
      "__________________________________________________________________________________________________\n",
      "timestep_attention (Softmax)    (None, 5, 1)         0           alpha_dense[0][0]                \n",
      "__________________________________________________________________________________________________\n",
      "feature_attention (TimeDistribu (None, 5, 83)        8383        beta[0][0]                       \n",
      "__________________________________________________________________________________________________\n",
      "feature_importance (Multiply)   (None, 5, 83)        0           timestep_attention[0][0]         \n",
      "                                                                 feature_attention[0][0]          \n",
      "                                                                 dropout[0][0]                    \n",
      "__________________________________________________________________________________________________\n",
      "lambda (Lambda)                 (None, 83)           0           feature_importance[0][0]         \n",
      "__________________________________________________________________________________________________\n",
      "dropout_1 (Dropout)             (None, 83)           0           lambda[0][0]                     \n",
      "__________________________________________________________________________________________________\n",
      "act_output (Dense)              (None, 5)            420         dropout_1[0][0]                  \n",
      "==================================================================================================\n",
      "Total params: 120,716\n",
      "Trainable params: 120,716\n",
      "Non-trainable params: 0\n",
      "__________________________________________________________________________________________________\n"
     ]
    }
   ],
   "metadata": {
    "colab": {
     "base_uri": "https://localhost:8080/"
    },
    "id": "AZ-qm5c5PIxi",
    "executionInfo": {
     "status": "ok",
     "timestamp": 1629792559313,
     "user_tz": -600,
     "elapsed": 286,
     "user": {
      "displayName": "Bemali Wickramanayake",
      "photoUrl": "",
      "userId": "06528833813357396771"
     }
    },
    "outputId": "a437c6d4-439b-4021-b74a-6cd85a2f0294"
   }
  },
  {
   "cell_type": "code",
   "execution_count": null,
   "source": [
    "batch_size = 256 # 32, 64, 128, 256\n",
    "epochs = 100"
   ],
   "outputs": [],
   "metadata": {
    "id": "L_Xs-4aXPQKz"
   }
  },
  {
   "cell_type": "code",
   "execution_count": null,
   "source": [
    "shared_history = shared_model_fit(vec_train, shared, indexes, pre_index, MY_WORKSPACE_DIR, batch_size, epochs, args)"
   ],
   "outputs": [
    {
     "output_type": "stream",
     "name": "stdout",
     "text": [
      "Epoch 1/100\n",
      "17/17 [==============================] - 12s 170ms/step - loss: 1.6065 - accuracy: 0.3869 - val_loss: 1.5860 - val_accuracy: 0.6154\n",
      "Epoch 2/100\n",
      "17/17 [==============================] - 1s 65ms/step - loss: 1.5689 - accuracy: 0.5389 - val_loss: 1.5224 - val_accuracy: 0.7145\n",
      "Epoch 3/100\n",
      "17/17 [==============================] - 1s 60ms/step - loss: 1.4606 - accuracy: 0.6094 - val_loss: 1.2921 - val_accuracy: 0.7549\n",
      "Epoch 4/100\n",
      "17/17 [==============================] - 1s 66ms/step - loss: 1.2286 - accuracy: 0.6274 - val_loss: 1.0023 - val_accuracy: 0.7653\n",
      "Epoch 5/100\n",
      "17/17 [==============================] - 1s 62ms/step - loss: 1.0698 - accuracy: 0.6400 - val_loss: 0.8848 - val_accuracy: 0.7666\n",
      "Epoch 6/100\n",
      "17/17 [==============================] - 1s 60ms/step - loss: 1.0061 - accuracy: 0.6435 - val_loss: 0.8419 - val_accuracy: 0.7679\n",
      "Epoch 7/100\n",
      "17/17 [==============================] - 1s 58ms/step - loss: 0.9718 - accuracy: 0.6509 - val_loss: 0.8197 - val_accuracy: 0.7705\n",
      "Epoch 8/100\n",
      "17/17 [==============================] - 1s 59ms/step - loss: 0.9471 - accuracy: 0.6555 - val_loss: 0.7948 - val_accuracy: 0.7757\n",
      "Epoch 9/100\n",
      "17/17 [==============================] - 1s 59ms/step - loss: 0.9349 - accuracy: 0.6557 - val_loss: 0.7853 - val_accuracy: 0.7744\n",
      "Epoch 10/100\n",
      "17/17 [==============================] - 1s 60ms/step - loss: 0.9145 - accuracy: 0.6598 - val_loss: 0.7831 - val_accuracy: 0.7771\n",
      "Epoch 11/100\n",
      "17/17 [==============================] - 1s 59ms/step - loss: 0.9106 - accuracy: 0.6598 - val_loss: 0.7841 - val_accuracy: 0.7731\n",
      "Epoch 12/100\n",
      "17/17 [==============================] - 1s 60ms/step - loss: 0.8998 - accuracy: 0.6624 - val_loss: 0.7696 - val_accuracy: 0.7731\n",
      "Epoch 13/100\n",
      "17/17 [==============================] - 1s 60ms/step - loss: 0.8928 - accuracy: 0.6647 - val_loss: 0.7695 - val_accuracy: 0.7757\n",
      "Epoch 14/100\n",
      "17/17 [==============================] - 1s 60ms/step - loss: 0.8866 - accuracy: 0.6667 - val_loss: 0.7643 - val_accuracy: 0.7731\n",
      "Epoch 15/100\n",
      "17/17 [==============================] - 1s 59ms/step - loss: 0.8854 - accuracy: 0.6635 - val_loss: 0.7677 - val_accuracy: 0.7744\n",
      "Epoch 16/100\n",
      "17/17 [==============================] - 1s 59ms/step - loss: 0.8788 - accuracy: 0.6672 - val_loss: 0.7661 - val_accuracy: 0.7718\n",
      "Epoch 17/100\n",
      "17/17 [==============================] - 1s 60ms/step - loss: 0.8757 - accuracy: 0.6661 - val_loss: 0.7611 - val_accuracy: 0.7757\n",
      "Epoch 18/100\n",
      "17/17 [==============================] - 1s 59ms/step - loss: 0.8740 - accuracy: 0.6697 - val_loss: 0.7635 - val_accuracy: 0.7679\n",
      "Epoch 19/100\n",
      "17/17 [==============================] - 1s 58ms/step - loss: 0.8738 - accuracy: 0.6651 - val_loss: 0.7629 - val_accuracy: 0.7692\n",
      "Epoch 20/100\n",
      "17/17 [==============================] - 1s 59ms/step - loss: 0.8733 - accuracy: 0.6642 - val_loss: 0.7595 - val_accuracy: 0.7705\n",
      "Epoch 21/100\n",
      "17/17 [==============================] - 1s 60ms/step - loss: 0.8680 - accuracy: 0.6633 - val_loss: 0.7587 - val_accuracy: 0.7718\n",
      "Epoch 22/100\n",
      "17/17 [==============================] - 1s 61ms/step - loss: 0.8669 - accuracy: 0.6626 - val_loss: 0.7616 - val_accuracy: 0.7666\n",
      "Epoch 23/100\n",
      "17/17 [==============================] - 1s 60ms/step - loss: 0.8626 - accuracy: 0.6723 - val_loss: 0.7654 - val_accuracy: 0.7588\n",
      "Epoch 24/100\n",
      "17/17 [==============================] - 1s 59ms/step - loss: 0.8604 - accuracy: 0.6707 - val_loss: 0.7607 - val_accuracy: 0.7653\n",
      "Epoch 25/100\n",
      "17/17 [==============================] - 1s 58ms/step - loss: 0.8600 - accuracy: 0.6637 - val_loss: 0.7658 - val_accuracy: 0.7614\n",
      "Epoch 26/100\n",
      "17/17 [==============================] - 1s 60ms/step - loss: 0.8519 - accuracy: 0.6753 - val_loss: 0.7592 - val_accuracy: 0.7640\n",
      "Epoch 27/100\n",
      "17/17 [==============================] - 1s 59ms/step - loss: 0.8552 - accuracy: 0.6707 - val_loss: 0.7546 - val_accuracy: 0.7679\n",
      "Epoch 28/100\n",
      "17/17 [==============================] - 1s 59ms/step - loss: 0.8527 - accuracy: 0.6766 - val_loss: 0.7539 - val_accuracy: 0.7666\n",
      "Epoch 29/100\n",
      "17/17 [==============================] - 1s 60ms/step - loss: 0.8498 - accuracy: 0.6716 - val_loss: 0.7542 - val_accuracy: 0.7653\n",
      "Epoch 30/100\n",
      "17/17 [==============================] - 1s 59ms/step - loss: 0.8480 - accuracy: 0.6743 - val_loss: 0.7575 - val_accuracy: 0.7653\n",
      "Epoch 31/100\n",
      "17/17 [==============================] - 1s 60ms/step - loss: 0.8446 - accuracy: 0.6737 - val_loss: 0.7566 - val_accuracy: 0.7640\n",
      "Epoch 32/100\n",
      "17/17 [==============================] - 1s 59ms/step - loss: 0.8394 - accuracy: 0.6794 - val_loss: 0.7679 - val_accuracy: 0.7536\n",
      "Epoch 33/100\n",
      "17/17 [==============================] - 1s 60ms/step - loss: 0.8408 - accuracy: 0.6766 - val_loss: 0.7622 - val_accuracy: 0.7575\n",
      "Epoch 34/100\n",
      "17/17 [==============================] - 1s 60ms/step - loss: 0.8382 - accuracy: 0.6746 - val_loss: 0.7650 - val_accuracy: 0.7601\n",
      "Epoch 35/100\n",
      "17/17 [==============================] - 1s 58ms/step - loss: 0.8312 - accuracy: 0.6778 - val_loss: 0.7642 - val_accuracy: 0.7562\n",
      "Epoch 36/100\n",
      "17/17 [==============================] - 1s 58ms/step - loss: 0.8347 - accuracy: 0.6780 - val_loss: 0.7592 - val_accuracy: 0.7562\n",
      "Epoch 37/100\n",
      "17/17 [==============================] - 1s 59ms/step - loss: 0.8299 - accuracy: 0.6789 - val_loss: 0.7648 - val_accuracy: 0.7523\n",
      "Epoch 38/100\n",
      "17/17 [==============================] - 1s 60ms/step - loss: 0.8295 - accuracy: 0.6787 - val_loss: 0.7705 - val_accuracy: 0.7497\n"
     ]
    }
   ],
   "metadata": {
    "colab": {
     "base_uri": "https://localhost:8080/"
    },
    "id": "Im-Yh40EPTDC",
    "executionInfo": {
     "status": "ok",
     "timestamp": 1629792615007,
     "user_tz": -600,
     "elapsed": 49624,
     "user": {
      "displayName": "Bemali Wickramanayake",
      "photoUrl": "",
      "userId": "06528833813357396771"
     }
    },
    "outputId": "a189b62c-daf4-4fc3-9de0-cad11428141c"
   }
  },
  {
   "cell_type": "code",
   "execution_count": null,
   "source": [
    "plot_shared(shared_history)"
   ],
   "outputs": [
    {
     "output_type": "display_data",
     "data": {
      "text/plain": [
       "<Figure size 432x288 with 1 Axes>"
      ],
      "image/png": "[encoded data removed]"
     },
     "metadata": {
      "needs_background": "light"
     }
    }
   ],
   "metadata": {
    "colab": {
     "base_uri": "https://localhost:8080/",
     "height": 295
    },
    "id": "pFUpLxGxR8s5",
    "executionInfo": {
     "status": "ok",
     "timestamp": 1629792869163,
     "user_tz": -600,
     "elapsed": 339,
     "user": {
      "displayName": "Bemali Wickramanayake",
      "photoUrl": "",
      "userId": "06528833813357396771"
     }
    },
    "outputId": "ad1bb5b9-14fd-4cb4-c273-dfa1aded81dd"
   }
  },
  {
   "cell_type": "code",
   "execution_count": null,
   "source": [
    "trained_model = os.path.join(os.path.join(MILESTONE_DIR, 'trained_models'),'shared_model.h5')\n",
    "shared.save(trained_model)"
   ],
   "outputs": [
    {
     "output_type": "stream",
     "name": "stderr",
     "text": [
      "/usr/local/lib/python3.7/dist-packages/keras/utils/generic_utils.py:497: CustomMaskWarning:\n",
      "\n",
      "Custom mask layers require a config and must override get_config. When loading, the custom mask layer must be passed to the custom_objects argument.\n",
      "\n"
     ]
    }
   ],
   "metadata": {
    "colab": {
     "base_uri": "https://localhost:8080/"
    },
    "id": "np6TVoRjSGxH",
    "executionInfo": {
     "status": "ok",
     "timestamp": 1629792873305,
     "user_tz": -600,
     "elapsed": 279,
     "user": {
      "displayName": "Bemali Wickramanayake",
      "photoUrl": "",
      "userId": "06528833813357396771"
     }
    },
    "outputId": "8ccfea60-2149-449f-edcb-13e489b4d735"
   }
  },
  {
   "cell_type": "markdown",
   "source": [
    "##### Load Saved Model and Evaluate"
   ],
   "metadata": {
    "id": "XPwUdZODSPux"
   }
  },
  {
   "cell_type": "code",
   "execution_count": 13,
   "source": [
    "shared_trained_model = os.path.join(os.path.join(MILESTONE_DIR, 'trained_models'),'shared_model.h5')\n",
    "shared_model = load_model(shared_trained_model)"
   ],
   "outputs": [],
   "metadata": {
    "id": "XIQ5FEFaSLkx",
    "executionInfo": {
     "status": "ok",
     "timestamp": 1630045700380,
     "user_tz": -600,
     "elapsed": 1727,
     "user": {
      "displayName": "Bemali Wickramanayake",
      "photoUrl": "",
      "userId": "06528833813357396771"
     }
    }
   }
  },
  {
   "cell_type": "code",
   "execution_count": 14,
   "source": [
    "x_test,y_test = generate_inputs_shared(vec_test,args,indexes)\n",
    "\n",
    "print(\"Evaluate on test data\")\n",
    "\n",
    "results = shared_model.evaluate(x_test, y_test, batch_size=100)\n",
    "y_pred_shared = shared_model.predict(x_test)\n",
    "print(\"test loss, test acc:\", results)"
   ],
   "outputs": [
    {
     "output_type": "stream",
     "name": "stdout",
     "text": [
      "Evaluate on test data\n",
      "22/22 [==============================] - 2s 8ms/step - loss: 0.9025 - accuracy: 0.6571\n",
      "test loss, test acc: [0.9024692177772522, 0.6570776104927063]\n"
     ]
    }
   ],
   "metadata": {
    "colab": {
     "base_uri": "https://localhost:8080/"
    },
    "id": "maeWwG0mSkfQ",
    "executionInfo": {
     "status": "ok",
     "timestamp": 1630045706336,
     "user_tz": -600,
     "elapsed": 3763,
     "user": {
      "displayName": "Bemali Wickramanayake",
      "photoUrl": "",
      "userId": "06528833813357396771"
     }
    },
    "outputId": "19873c66-e101-448d-85be-a5278e29f395"
   }
  },
  {
   "cell_type": "markdown",
   "source": [
    "Classification Report"
   ],
   "metadata": {
    "id": "C0Jviia-UN2b"
   }
  },
  {
   "cell_type": "code",
   "execution_count": 12,
   "source": [
    "target_names = [index_ne[i] for i in range(len(index_ne))]\n",
    "\n",
    "print(classification_report(y_test.argmax(axis=1), y_pred_shared.argmax(axis=1), target_names=target_names))"
   ],
   "outputs": [
    {
     "output_type": "stream",
     "name": "stdout",
     "text": [
      "                             precision    recall  f1-score   support\n",
      "\n",
      "       A_APPROVED_ACTIVATED       0.00      0.00      0.00        74\n",
      "       A_CANCELLED_DECLINED       0.37      0.27      0.31       308\n",
      "       O_CANCELLED_DECLINED       0.31      0.11      0.16       383\n",
      "                O_SENT_BACK       0.69      0.86      0.76       797\n",
      "W_Assessing the application       0.76      1.00      0.86       628\n",
      "\n",
      "                   accuracy                           0.66      2190\n",
      "                  macro avg       0.42      0.45      0.42      2190\n",
      "               weighted avg       0.57      0.66      0.60      2190\n",
      "\n"
     ]
    },
    {
     "output_type": "stream",
     "name": "stderr",
     "text": [
      "/usr/local/lib/python3.7/dist-packages/sklearn/metrics/_classification.py:1272: UndefinedMetricWarning: Precision and F-score are ill-defined and being set to 0.0 in labels with no predicted samples. Use `zero_division` parameter to control this behavior.\n",
      "  _warn_prf(average, modifier, msg_start, len(result))\n"
     ]
    }
   ],
   "metadata": {
    "colab": {
     "base_uri": "https://localhost:8080/"
    },
    "id": "vSQeUeZmT7gG",
    "executionInfo": {
     "status": "ok",
     "timestamp": 1630045163343,
     "user_tz": -600,
     "elapsed": 6,
     "user": {
      "displayName": "Bemali Wickramanayake",
      "photoUrl": "",
      "userId": "06528833813357396771"
     }
    },
    "outputId": "eacb85b4-3ac5-468e-c0b6-3a4c29559dbe"
   }
  },
  {
   "cell_type": "markdown",
   "source": [
    "Confusion Matrix"
   ],
   "metadata": {
    "id": "pnT3CS20URYn"
   }
  },
  {
   "cell_type": "code",
   "execution_count": null,
   "source": [
    "matrix = confusion_matrix(y_test.argmax(axis=1), y_pred_shared.argmax(axis=1))\n",
    "print(matrix)\n",
    "matrix_sum = np.sum(matrix, axis=1).reshape(-1,1)\n",
    "matrix_perc = matrix / matrix_sum\n",
    "df_cm = pd.DataFrame(matrix_perc, index = [index_ne[i] for i in range(len(index_ne))],\n",
    "                  columns = [index_ne[i] for i in range(len(index_ne))])\n",
    "\n",
    "plt.figure(figsize = (10,7))\n",
    "sn.heatmap(df_cm, annot=True)"
   ],
   "outputs": [
    {
     "output_type": "stream",
     "name": "stdout",
     "text": [
      "[[  0   0   0   0  74]\n",
      " [  0  83  42 127  56]\n",
      " [  0  84  42 187  70]\n",
      " [  0  54  53 689   1]\n",
      " [  0   1   0   2 625]]\n"
     ]
    },
    {
     "output_type": "execute_result",
     "data": {
      "text/plain": [
       "<matplotlib.axes._subplots.AxesSubplot at 0x7f2d911fec90>"
      ]
     },
     "metadata": {},
     "execution_count": 12
    },
    {
     "output_type": "display_data",
     "data": {
      "text/plain": [
       "<Figure size 720x504 with 2 Axes>"
      ],
      "image/png": "[encoded data removed]"
     },
     "metadata": {
      "needs_background": "light"
     }
    }
   ],
   "metadata": {
    "colab": {
     "base_uri": "https://localhost:8080/",
     "height": 671
    },
    "id": "--c_tWW3UTm9",
    "executionInfo": {
     "status": "ok",
     "timestamp": 1629981101801,
     "user_tz": -600,
     "elapsed": 851,
     "user": {
      "displayName": "Bemali Wickramanayake",
      "photoUrl": "",
      "userId": "06528833813357396771"
     }
    },
    "outputId": "315232bb-7cc6-4510-e239-64caf1eba8b7"
   }
  },
  {
   "cell_type": "markdown",
   "source": [
    "##### Generating Explanations with Attention Layer"
   ],
   "metadata": {
    "id": "X5FoczRkY818"
   }
  },
  {
   "cell_type": "code",
   "execution_count": 15,
   "source": [
    "shared_model_attn_weights = Model(inputs=shared_model.input,\n",
    "              outputs=[shared_model.output, shared_model.get_layer('timestep_attention').output, shared_model.get_layer('feature_importance').output])\n",
    "\n",
    "shared_output_with_attention = shared_model_attn_weights.predict(x_test)"
   ],
   "outputs": [],
   "metadata": {
    "id": "09AGVngnZJdA",
    "executionInfo": {
     "status": "ok",
     "timestamp": 1630045711937,
     "user_tz": -600,
     "elapsed": 2288,
     "user": {
      "displayName": "Bemali Wickramanayake",
      "photoUrl": "",
      "userId": "06528833813357396771"
     }
    }
   }
  },
  {
   "cell_type": "markdown",
   "source": [
    "###### Global Explanations"
   ],
   "metadata": {
    "id": "bLNem5V1ZEZS"
   }
  },
  {
   "cell_type": "code",
   "execution_count": 22,
   "source": [
    "shared_explain_global(shared_output_with_attention,x_test,y_test,index_ac,index_rl,3,prediction = 2 )"
   ],
   "outputs": [
    {
     "output_type": "display_data",
     "data": {
      "text/html": [
       "<html>\n",
       "<head><meta charset=\"utf-8\" /></head>\n",
       "<body>\n",
       "    <div>            <script src=\"https://cdnjs.cloudflare.com/ajax/libs/mathjax/2.7.5/MathJax.js?config=TeX-AMS-MML_SVG\"></script><script type=\"text/javascript\">if (window.MathJax) {MathJax.Hub.Config({SVG: {font: \"STIX-Web\"}});}</script>                <script type=\"text/javascript\">window.PlotlyConfig = {MathJaxConfig: 'local'};</script>\n",
       "        <script src=\"https://cdn.plot.ly/plotly-2.3.1.min.js\"></script>                <div id=\"4ac3abfd-5164-40e8-bf71-18269808cf8e\" class=\"plotly-graph-div\" style=\"height:600px; width:1000px;\"></div>            <script type=\"text/javascript\">                                    window.PLOTLYENV=window.PLOTLYENV || {};                                    if (document.getElementById(\"4ac3abfd-5164-40e8-bf71-18269808cf8e\")) {                    Plotly.newPlot(                        \"4ac3abfd-5164-40e8-bf71-18269808cf8e\",                        [{\"alignmentgroup\":\"True\",\"hovertemplate\":\"feature_category=activity<br>timestep=%{x}<br>Feature Contribution in key timesteps=%{y}<br>feature=%{text}<extra></extra>\",\"legendgroup\":\"activity\",\"marker\":{\"color\":\"darkcyan\",\"pattern\":{\"shape\":\"\"}},\"name\":\"activity\",\"offsetgroup\":\"activity\",\"orientation\":\"v\",\"showlegend\":true,\"text\":[\"W_Calling after sent offers\",\"W_Calling after sent offers\",\"W_Calling after sent offers\",\"W_Calling after sent offers\",\"W_Calling after sent offers\"],\"textangle\":90,\"textfont\":{\"size\":14},\"textposition\":\"auto\",\"type\":\"bar\",\"x\":[5.0,4.0,3.0,2.0,1.0],\"xaxis\":\"x\",\"y\":[0.04667103409778561,0.027843313018370175,0.000743577500449441,null,null],\"yaxis\":\"y\"},{\"alignmentgroup\":\"True\",\"hovertemplate\":\"feature_category=role<br>timestep=%{x}<br>Feature Contribution in key timesteps=%{y}<br>feature=%{text}<extra></extra>\",\"legendgroup\":\"role\",\"marker\":{\"color\":\"darkslateblue\",\"pattern\":{\"shape\":\"\"}},\"name\":\"role\",\"offsetgroup\":\"role\",\"orientation\":\"v\",\"showlegend\":true,\"text\":[\"role_000\",\"role_11181\",\"role_11181\",\"role_000\",\"role_000\"],\"textangle\":90,\"textfont\":{\"size\":14},\"textposition\":\"auto\",\"type\":\"bar\",\"x\":[5.0,4.0,3.0,2.0,1.0],\"xaxis\":\"x\",\"y\":[0.032679581371820365,0.0349724310943591,0.005959998082637696,null,null],\"yaxis\":\"y\"},{\"alignmentgroup\":\"True\",\"hovertemplate\":\"feature_category=time_lapsed<br>timestep=%{x}<br>Feature Contribution in key timesteps=%{y}<br>feature=%{text}<extra></extra>\",\"legendgroup\":\"time_lapsed\",\"marker\":{\"color\":\"lightslategray\",\"pattern\":{\"shape\":\"\"}},\"name\":\"time_lapsed\",\"offsetgroup\":\"time_lapsed\",\"orientation\":\"v\",\"showlegend\":true,\"text\":[\"t_lapsed\",\"t_lapsed\",\"t_lapsed\",\"t_lapsed\",\"t_lapsed\"],\"textangle\":90,\"textfont\":{\"size\":14},\"textposition\":\"auto\",\"type\":\"bar\",\"x\":[5.0,4.0,3.0,2.0,1.0],\"xaxis\":\"x\",\"y\":[0.208562021659203,0.15227527494996718,0.0231917763402798,null,null],\"yaxis\":\"y\"}],                        {\"bargap\":0.01,\"barmode\":\"group\",\"height\":600,\"legend\":{\"title\":{\"text\":\"feature_category\"},\"tracegroupgap\":0},\"plot_bgcolor\":\"rgb(182,182,184)\",\"template\":{\"data\":{\"bar\":[{\"error_x\":{\"color\":\"#2a3f5f\"},\"error_y\":{\"color\":\"#2a3f5f\"},\"marker\":{\"line\":{\"color\":\"#E5ECF6\",\"width\":0.5},\"pattern\":{\"fillmode\":\"overlay\",\"size\":10,\"solidity\":0.2}},\"type\":\"bar\"}],\"barpolar\":[{\"marker\":{\"line\":{\"color\":\"#E5ECF6\",\"width\":0.5},\"pattern\":{\"fillmode\":\"overlay\",\"size\":10,\"solidity\":0.2}},\"type\":\"barpolar\"}],\"carpet\":[{\"aaxis\":{\"endlinecolor\":\"#2a3f5f\",\"gridcolor\":\"white\",\"linecolor\":\"white\",\"minorgridcolor\":\"white\",\"startlinecolor\":\"#2a3f5f\"},\"baxis\":{\"endlinecolor\":\"#2a3f5f\",\"gridcolor\":\"white\",\"linecolor\":\"white\",\"minorgridcolor\":\"white\",\"startlinecolor\":\"#2a3f5f\"},\"type\":\"carpet\"}],\"choropleth\":[{\"colorbar\":{\"outlinewidth\":0,\"ticks\":\"\"},\"type\":\"choropleth\"}],\"contour\":[{\"colorbar\":{\"outlinewidth\":0,\"ticks\":\"\"},\"colorscale\":[[0.0,\"#0d0887\"],[0.1111111111111111,\"#46039f\"],[0.2222222222222222,\"#7201a8\"],[0.3333333333333333,\"#9c179e\"],[0.4444444444444444,\"#bd3786\"],[0.5555555555555556,\"#d8576b\"],[0.6666666666666666,\"#ed7953\"],[0.7777777777777778,\"#fb9f3a\"],[0.8888888888888888,\"#fdca26\"],[1.0,\"#f0f921\"]],\"type\":\"contour\"}],\"contourcarpet\":[{\"colorbar\":{\"outlinewidth\":0,\"ticks\":\"\"},\"type\":\"contourcarpet\"}],\"heatmap\":[{\"colorbar\":{\"outlinewidth\":0,\"ticks\":\"\"},\"colorscale\":[[0.0,\"#0d0887\"],[0.1111111111111111,\"#46039f\"],[0.2222222222222222,\"#7201a8\"],[0.3333333333333333,\"#9c179e\"],[0.4444444444444444,\"#bd3786\"],[0.5555555555555556,\"#d8576b\"],[0.6666666666666666,\"#ed7953\"],[0.7777777777777778,\"#fb9f3a\"],[0.8888888888888888,\"#fdca26\"],[1.0,\"#f0f921\"]],\"type\":\"heatmap\"}],\"heatmapgl\":[{\"colorbar\":{\"outlinewidth\":0,\"ticks\":\"\"},\"colorscale\":[[0.0,\"#0d0887\"],[0.1111111111111111,\"#46039f\"],[0.2222222222222222,\"#7201a8\"],[0.3333333333333333,\"#9c179e\"],[0.4444444444444444,\"#bd3786\"],[0.5555555555555556,\"#d8576b\"],[0.6666666666666666,\"#ed7953\"],[0.7777777777777778,\"#fb9f3a\"],[0.8888888888888888,\"#fdca26\"],[1.0,\"#f0f921\"]],\"type\":\"heatmapgl\"}],\"histogram\":[{\"marker\":{\"pattern\":{\"fillmode\":\"overlay\",\"size\":10,\"solidity\":0.2}},\"type\":\"histogram\"}],\"histogram2d\":[{\"colorbar\":{\"outlinewidth\":0,\"ticks\":\"\"},\"colorscale\":[[0.0,\"#0d0887\"],[0.1111111111111111,\"#46039f\"],[0.2222222222222222,\"#7201a8\"],[0.3333333333333333,\"#9c179e\"],[0.4444444444444444,\"#bd3786\"],[0.5555555555555556,\"#d8576b\"],[0.6666666666666666,\"#ed7953\"],[0.7777777777777778,\"#fb9f3a\"],[0.8888888888888888,\"#fdca26\"],[1.0,\"#f0f921\"]],\"type\":\"histogram2d\"}],\"histogram2dcontour\":[{\"colorbar\":{\"outlinewidth\":0,\"ticks\":\"\"},\"colorscale\":[[0.0,\"#0d0887\"],[0.1111111111111111,\"#46039f\"],[0.2222222222222222,\"#7201a8\"],[0.3333333333333333,\"#9c179e\"],[0.4444444444444444,\"#bd3786\"],[0.5555555555555556,\"#d8576b\"],[0.6666666666666666,\"#ed7953\"],[0.7777777777777778,\"#fb9f3a\"],[0.8888888888888888,\"#fdca26\"],[1.0,\"#f0f921\"]],\"type\":\"histogram2dcontour\"}],\"mesh3d\":[{\"colorbar\":{\"outlinewidth\":0,\"ticks\":\"\"},\"type\":\"mesh3d\"}],\"parcoords\":[{\"line\":{\"colorbar\":{\"outlinewidth\":0,\"ticks\":\"\"}},\"type\":\"parcoords\"}],\"pie\":[{\"automargin\":true,\"type\":\"pie\"}],\"scatter\":[{\"marker\":{\"colorbar\":{\"outlinewidth\":0,\"ticks\":\"\"}},\"type\":\"scatter\"}],\"scatter3d\":[{\"line\":{\"colorbar\":{\"outlinewidth\":0,\"ticks\":\"\"}},\"marker\":{\"colorbar\":{\"outlinewidth\":0,\"ticks\":\"\"}},\"type\":\"scatter3d\"}],\"scattercarpet\":[{\"marker\":{\"colorbar\":{\"outlinewidth\":0,\"ticks\":\"\"}},\"type\":\"scattercarpet\"}],\"scattergeo\":[{\"marker\":{\"colorbar\":{\"outlinewidth\":0,\"ticks\":\"\"}},\"type\":\"scattergeo\"}],\"scattergl\":[{\"marker\":{\"colorbar\":{\"outlinewidth\":0,\"ticks\":\"\"}},\"type\":\"scattergl\"}],\"scattermapbox\":[{\"marker\":{\"colorbar\":{\"outlinewidth\":0,\"ticks\":\"\"}},\"type\":\"scattermapbox\"}],\"scatterpolar\":[{\"marker\":{\"colorbar\":{\"outlinewidth\":0,\"ticks\":\"\"}},\"type\":\"scatterpolar\"}],\"scatterpolargl\":[{\"marker\":{\"colorbar\":{\"outlinewidth\":0,\"ticks\":\"\"}},\"type\":\"scatterpolargl\"}],\"scatterternary\":[{\"marker\":{\"colorbar\":{\"outlinewidth\":0,\"ticks\":\"\"}},\"type\":\"scatterternary\"}],\"surface\":[{\"colorbar\":{\"outlinewidth\":0,\"ticks\":\"\"},\"colorscale\":[[0.0,\"#0d0887\"],[0.1111111111111111,\"#46039f\"],[0.2222222222222222,\"#7201a8\"],[0.3333333333333333,\"#9c179e\"],[0.4444444444444444,\"#bd3786\"],[0.5555555555555556,\"#d8576b\"],[0.6666666666666666,\"#ed7953\"],[0.7777777777777778,\"#fb9f3a\"],[0.8888888888888888,\"#fdca26\"],[1.0,\"#f0f921\"]],\"type\":\"surface\"}],\"table\":[{\"cells\":{\"fill\":{\"color\":\"#EBF0F8\"},\"line\":{\"color\":\"white\"}},\"header\":{\"fill\":{\"color\":\"#C8D4E3\"},\"line\":{\"color\":\"white\"}},\"type\":\"table\"}]},\"layout\":{\"annotationdefaults\":{\"arrowcolor\":\"#2a3f5f\",\"arrowhead\":0,\"arrowwidth\":1},\"autotypenumbers\":\"strict\",\"coloraxis\":{\"colorbar\":{\"outlinewidth\":0,\"ticks\":\"\"}},\"colorscale\":{\"diverging\":[[0,\"#8e0152\"],[0.1,\"#c51b7d\"],[0.2,\"#de77ae\"],[0.3,\"#f1b6da\"],[0.4,\"#fde0ef\"],[0.5,\"#f7f7f7\"],[0.6,\"#e6f5d0\"],[0.7,\"#b8e186\"],[0.8,\"#7fbc41\"],[0.9,\"#4d9221\"],[1,\"#276419\"]],\"sequential\":[[0.0,\"#0d0887\"],[0.1111111111111111,\"#46039f\"],[0.2222222222222222,\"#7201a8\"],[0.3333333333333333,\"#9c179e\"],[0.4444444444444444,\"#bd3786\"],[0.5555555555555556,\"#d8576b\"],[0.6666666666666666,\"#ed7953\"],[0.7777777777777778,\"#fb9f3a\"],[0.8888888888888888,\"#fdca26\"],[1.0,\"#f0f921\"]],\"sequentialminus\":[[0.0,\"#0d0887\"],[0.1111111111111111,\"#46039f\"],[0.2222222222222222,\"#7201a8\"],[0.3333333333333333,\"#9c179e\"],[0.4444444444444444,\"#bd3786\"],[0.5555555555555556,\"#d8576b\"],[0.6666666666666666,\"#ed7953\"],[0.7777777777777778,\"#fb9f3a\"],[0.8888888888888888,\"#fdca26\"],[1.0,\"#f0f921\"]]},\"colorway\":[\"#636efa\",\"#EF553B\",\"#00cc96\",\"#ab63fa\",\"#FFA15A\",\"#19d3f3\",\"#FF6692\",\"#B6E880\",\"#FF97FF\",\"#FECB52\"],\"font\":{\"color\":\"#2a3f5f\"},\"geo\":{\"bgcolor\":\"white\",\"lakecolor\":\"white\",\"landcolor\":\"#E5ECF6\",\"showlakes\":true,\"showland\":true,\"subunitcolor\":\"white\"},\"hoverlabel\":{\"align\":\"left\"},\"hovermode\":\"closest\",\"mapbox\":{\"style\":\"light\"},\"paper_bgcolor\":\"white\",\"plot_bgcolor\":\"#E5ECF6\",\"polar\":{\"angularaxis\":{\"gridcolor\":\"white\",\"linecolor\":\"white\",\"ticks\":\"\"},\"bgcolor\":\"#E5ECF6\",\"radialaxis\":{\"gridcolor\":\"white\",\"linecolor\":\"white\",\"ticks\":\"\"}},\"scene\":{\"xaxis\":{\"backgroundcolor\":\"#E5ECF6\",\"gridcolor\":\"white\",\"gridwidth\":2,\"linecolor\":\"white\",\"showbackground\":true,\"ticks\":\"\",\"zerolinecolor\":\"white\"},\"yaxis\":{\"backgroundcolor\":\"#E5ECF6\",\"gridcolor\":\"white\",\"gridwidth\":2,\"linecolor\":\"white\",\"showbackground\":true,\"ticks\":\"\",\"zerolinecolor\":\"white\"},\"zaxis\":{\"backgroundcolor\":\"#E5ECF6\",\"gridcolor\":\"white\",\"gridwidth\":2,\"linecolor\":\"white\",\"showbackground\":true,\"ticks\":\"\",\"zerolinecolor\":\"white\"}},\"shapedefaults\":{\"line\":{\"color\":\"#2a3f5f\"}},\"ternary\":{\"aaxis\":{\"gridcolor\":\"white\",\"linecolor\":\"white\",\"ticks\":\"\"},\"baxis\":{\"gridcolor\":\"white\",\"linecolor\":\"white\",\"ticks\":\"\"},\"bgcolor\":\"#E5ECF6\",\"caxis\":{\"gridcolor\":\"white\",\"linecolor\":\"white\",\"ticks\":\"\"}},\"title\":{\"x\":0.05},\"xaxis\":{\"automargin\":true,\"gridcolor\":\"white\",\"linecolor\":\"white\",\"ticks\":\"\",\"title\":{\"standoff\":15},\"zerolinecolor\":\"white\",\"zerolinewidth\":2},\"yaxis\":{\"automargin\":true,\"gridcolor\":\"white\",\"linecolor\":\"white\",\"ticks\":\"\",\"title\":{\"standoff\":15},\"zerolinecolor\":\"white\",\"zerolinewidth\":2}}},\"title\":{\"text\":\"Feature Contribution\"},\"uniformtext\":{\"minsize\":14,\"mode\":\"show\"},\"width\":1000,\"xaxis\":{\"anchor\":\"y\",\"domain\":[0.0,1.0],\"title\":{\"text\":\"timestep\"}},\"yaxis\":{\"anchor\":\"x\",\"domain\":[0.0,1.0],\"title\":{\"text\":\"Feature Contribution in key timesteps\"}}},                        {\"responsive\": true}                    ).then(function(){\n",
       "                            \n",
       "var gd = document.getElementById('4ac3abfd-5164-40e8-bf71-18269808cf8e');\n",
       "var x = new MutationObserver(function (mutations, observer) {{\n",
       "        var display = window.getComputedStyle(gd).display;\n",
       "        if (!display || display === 'none') {{\n",
       "            console.log([gd, 'removed!']);\n",
       "            Plotly.purge(gd);\n",
       "            observer.disconnect();\n",
       "        }}\n",
       "}});\n",
       "\n",
       "// Listen for the removal of the full notebook cells\n",
       "var notebookContainer = gd.closest('#notebook-container');\n",
       "if (notebookContainer) {{\n",
       "    x.observe(notebookContainer, {childList: true});\n",
       "}}\n",
       "\n",
       "// Listen for the clearing of the current output cell\n",
       "var outputEl = gd.closest('.output');\n",
       "if (outputEl) {{\n",
       "    x.observe(outputEl, {childList: true});\n",
       "}}\n",
       "\n",
       "                        })                };                            </script>        </div>\n",
       "</body>\n",
       "</html>"
      ]
     },
     "metadata": {}
    }
   ],
   "metadata": {
    "colab": {
     "base_uri": "https://localhost:8080/",
     "height": 616
    },
    "id": "sEjdMSovZIIH",
    "executionInfo": {
     "status": "ok",
     "timestamp": 1630047179947,
     "user_tz": -600,
     "elapsed": 329,
     "user": {
      "displayName": "Bemali Wickramanayake",
      "photoUrl": "",
      "userId": "06528833813357396771"
     }
    },
    "outputId": "52727645-87c4-4d33-e9ba-ce7b1037bb06"
   }
  },
  {
   "cell_type": "markdown",
   "source": [
    "###### Local Explanations"
   ],
   "metadata": {
    "id": "Hl8NpaHBd7Rv"
   }
  },
  {
   "cell_type": "code",
   "execution_count": null,
   "source": [
    "df_results_shared = results_df(y_test,y_pred_shared,index_ne)\n",
    "df_results_shared [(df_results_shared ['prediction'] == 'O_SENT_BACK') & (df_results_shared ['pred_class'] == False) & (df_results_shared ['prediction_prob'] >=0.7) ].head(3)"
   ],
   "outputs": [
    {
     "output_type": "execute_result",
     "data": {
      "text/plain": [
       "    sample_index   prediction  ... prediction_prob  pred_class\n",
       "29            29  O_SENT_BACK  ...          0.7211       False\n",
       "45            45  O_SENT_BACK  ...          0.7150       False\n",
       "53            53  O_SENT_BACK  ...          0.7994       False\n",
       "\n",
       "[3 rows x 5 columns]"
      ],
      "text/html": [
       "<div>\n",
       "<style scoped>\n",
       "    .dataframe tbody tr th:only-of-type {\n",
       "        vertical-align: middle;\n",
       "    }\n",
       "\n",
       "    .dataframe tbody tr th {\n",
       "        vertical-align: top;\n",
       "    }\n",
       "\n",
       "    .dataframe thead th {\n",
       "        text-align: right;\n",
       "    }\n",
       "</style>\n",
       "<table border=\"1\" class=\"dataframe\">\n",
       "  <thead>\n",
       "    <tr style=\"text-align: right;\">\n",
       "      <th></th>\n",
       "      <th>sample_index</th>\n",
       "      <th>prediction</th>\n",
       "      <th>ground_truth</th>\n",
       "      <th>prediction_prob</th>\n",
       "      <th>pred_class</th>\n",
       "    </tr>\n",
       "  </thead>\n",
       "  <tbody>\n",
       "    <tr>\n",
       "      <th>29</th>\n",
       "      <td>29</td>\n",
       "      <td>O_SENT_BACK</td>\n",
       "      <td>A_CANCELLED_DECLINED</td>\n",
       "      <td>0.7211</td>\n",
       "      <td>False</td>\n",
       "    </tr>\n",
       "    <tr>\n",
       "      <th>45</th>\n",
       "      <td>45</td>\n",
       "      <td>O_SENT_BACK</td>\n",
       "      <td>O_CANCELLED_DECLINED</td>\n",
       "      <td>0.7150</td>\n",
       "      <td>False</td>\n",
       "    </tr>\n",
       "    <tr>\n",
       "      <th>53</th>\n",
       "      <td>53</td>\n",
       "      <td>O_SENT_BACK</td>\n",
       "      <td>O_CANCELLED_DECLINED</td>\n",
       "      <td>0.7994</td>\n",
       "      <td>False</td>\n",
       "    </tr>\n",
       "  </tbody>\n",
       "</table>\n",
       "</div>"
      ]
     },
     "metadata": {},
     "execution_count": 24
    }
   ],
   "metadata": {
    "colab": {
     "base_uri": "https://localhost:8080/",
     "height": 141
    },
    "id": "V9_ShTfXeGUc",
    "executionInfo": {
     "status": "ok",
     "timestamp": 1629982034708,
     "user_tz": -600,
     "elapsed": 285,
     "user": {
      "displayName": "Bemali Wickramanayake",
      "photoUrl": "",
      "userId": "06528833813357396771"
     }
    },
    "outputId": "c0d63531-239f-47da-f51c-8b36160b7e87"
   }
  },
  {
   "cell_type": "code",
   "execution_count": 21,
   "source": [
    "shared_explain_local(shared_output_with_attention,x_test,y_test,index_ac, index_rl, index_ne, 3,53) #53 false, #1 true\n"
   ],
   "outputs": [
    {
     "output_type": "stream",
     "name": "stdout",
     "text": [
      "prediction: O_SENT_BACK\n",
      "ground truth: O_CANCELLED_DECLINED\n",
      "prediction probability:0.7994\n"
     ]
    },
    {
     "output_type": "display_data",
     "data": {
      "text/html": [
       "<html>\n",
       "<head><meta charset=\"utf-8\" /></head>\n",
       "<body>\n",
       "    <div>            <script src=\"https://cdnjs.cloudflare.com/ajax/libs/mathjax/2.7.5/MathJax.js?config=TeX-AMS-MML_SVG\"></script><script type=\"text/javascript\">if (window.MathJax) {MathJax.Hub.Config({SVG: {font: \"STIX-Web\"}});}</script>                <script type=\"text/javascript\">window.PlotlyConfig = {MathJaxConfig: 'local'};</script>\n",
       "        <script src=\"https://cdn.plot.ly/plotly-2.3.1.min.js\"></script>                <div id=\"de89d264-18e4-4917-8397-2eacfd8a977f\" class=\"plotly-graph-div\" style=\"height:600px; width:1000px;\"></div>            <script type=\"text/javascript\">                                    window.PLOTLYENV=window.PLOTLYENV || {};                                    if (document.getElementById(\"de89d264-18e4-4917-8397-2eacfd8a977f\")) {                    Plotly.newPlot(                        \"de89d264-18e4-4917-8397-2eacfd8a977f\",                        [{\"alignmentgroup\":\"True\",\"hovertemplate\":\"feature_category=activity<br>timestep=%{x}<br>Feature Contribution in key timesteps=%{y}<br>feature=%{text}<extra></extra>\",\"legendgroup\":\"activity\",\"marker\":{\"color\":\"darkcyan\",\"pattern\":{\"shape\":\"\"}},\"name\":\"activity\",\"offsetgroup\":\"activity\",\"orientation\":\"v\",\"showlegend\":true,\"text\":[\"W_Calling after sent offers\",\"W_Calling after sent offers\",\"W_Calling after sent offers\",\"W_Filling in information for the application\",\"O_SENT\"],\"textangle\":90,\"textfont\":{\"size\":14},\"textposition\":\"auto\",\"type\":\"bar\",\"x\":[5.0,4.0,3.0,2.0,1.0],\"xaxis\":\"x\",\"y\":[0.04315733156947177,0.31367735347480163,0.019796003433955045,null,null],\"yaxis\":\"y\"},{\"alignmentgroup\":\"True\",\"hovertemplate\":\"feature_category=role<br>timestep=%{x}<br>Feature Contribution in key timesteps=%{y}<br>feature=%{text}<extra></extra>\",\"legendgroup\":\"role\",\"marker\":{\"color\":\"darkslateblue\",\"pattern\":{\"shape\":\"\"}},\"name\":\"role\",\"offsetgroup\":\"role\",\"orientation\":\"v\",\"showlegend\":true,\"text\":[\"role_10982\",\"role_11119\",\"role_11119\",\"role_11169\",\"role_11169\"],\"textangle\":90,\"textfont\":{\"size\":14},\"textposition\":\"auto\",\"type\":\"bar\",\"x\":[5.0,4.0,3.0,2.0,1.0],\"xaxis\":\"x\",\"y\":[0.058709308094241575,0.41118248688992054,0.026230728143421533,null,null],\"yaxis\":\"y\"},{\"alignmentgroup\":\"True\",\"hovertemplate\":\"feature_category=time_lapsed<br>timestep=%{x}<br>Feature Contribution in key timesteps=%{y}<br>feature=%{text}<extra></extra>\",\"legendgroup\":\"time_lapsed\",\"marker\":{\"color\":\"lightslategray\",\"pattern\":{\"shape\":\"\"}},\"name\":\"time_lapsed\",\"offsetgroup\":\"time_lapsed\",\"orientation\":\"v\",\"showlegend\":true,\"text\":[\"t_lapsed\",\"t_lapsed\",\"t_lapsed\",\"t_lapsed\",\"t_lapsed\"],\"textangle\":90,\"textfont\":{\"size\":14},\"textposition\":\"auto\",\"type\":\"bar\",\"x\":[5.0,4.0,3.0,2.0,1.0],\"xaxis\":\"x\",\"y\":[0.052781841046140254,0.37342059559207996,0.013534522317273368,null,null],\"yaxis\":\"y\"}],                        {\"bargap\":0.05,\"barmode\":\"group\",\"height\":600,\"legend\":{\"title\":{\"text\":\"feature_category\"},\"tracegroupgap\":0},\"plot_bgcolor\":\"rgb(182,182,184)\",\"template\":{\"data\":{\"bar\":[{\"error_x\":{\"color\":\"#2a3f5f\"},\"error_y\":{\"color\":\"#2a3f5f\"},\"marker\":{\"line\":{\"color\":\"#E5ECF6\",\"width\":0.5},\"pattern\":{\"fillmode\":\"overlay\",\"size\":10,\"solidity\":0.2}},\"type\":\"bar\"}],\"barpolar\":[{\"marker\":{\"line\":{\"color\":\"#E5ECF6\",\"width\":0.5},\"pattern\":{\"fillmode\":\"overlay\",\"size\":10,\"solidity\":0.2}},\"type\":\"barpolar\"}],\"carpet\":[{\"aaxis\":{\"endlinecolor\":\"#2a3f5f\",\"gridcolor\":\"white\",\"linecolor\":\"white\",\"minorgridcolor\":\"white\",\"startlinecolor\":\"#2a3f5f\"},\"baxis\":{\"endlinecolor\":\"#2a3f5f\",\"gridcolor\":\"white\",\"linecolor\":\"white\",\"minorgridcolor\":\"white\",\"startlinecolor\":\"#2a3f5f\"},\"type\":\"carpet\"}],\"choropleth\":[{\"colorbar\":{\"outlinewidth\":0,\"ticks\":\"\"},\"type\":\"choropleth\"}],\"contour\":[{\"colorbar\":{\"outlinewidth\":0,\"ticks\":\"\"},\"colorscale\":[[0.0,\"#0d0887\"],[0.1111111111111111,\"#46039f\"],[0.2222222222222222,\"#7201a8\"],[0.3333333333333333,\"#9c179e\"],[0.4444444444444444,\"#bd3786\"],[0.5555555555555556,\"#d8576b\"],[0.6666666666666666,\"#ed7953\"],[0.7777777777777778,\"#fb9f3a\"],[0.8888888888888888,\"#fdca26\"],[1.0,\"#f0f921\"]],\"type\":\"contour\"}],\"contourcarpet\":[{\"colorbar\":{\"outlinewidth\":0,\"ticks\":\"\"},\"type\":\"contourcarpet\"}],\"heatmap\":[{\"colorbar\":{\"outlinewidth\":0,\"ticks\":\"\"},\"colorscale\":[[0.0,\"#0d0887\"],[0.1111111111111111,\"#46039f\"],[0.2222222222222222,\"#7201a8\"],[0.3333333333333333,\"#9c179e\"],[0.4444444444444444,\"#bd3786\"],[0.5555555555555556,\"#d8576b\"],[0.6666666666666666,\"#ed7953\"],[0.7777777777777778,\"#fb9f3a\"],[0.8888888888888888,\"#fdca26\"],[1.0,\"#f0f921\"]],\"type\":\"heatmap\"}],\"heatmapgl\":[{\"colorbar\":{\"outlinewidth\":0,\"ticks\":\"\"},\"colorscale\":[[0.0,\"#0d0887\"],[0.1111111111111111,\"#46039f\"],[0.2222222222222222,\"#7201a8\"],[0.3333333333333333,\"#9c179e\"],[0.4444444444444444,\"#bd3786\"],[0.5555555555555556,\"#d8576b\"],[0.6666666666666666,\"#ed7953\"],[0.7777777777777778,\"#fb9f3a\"],[0.8888888888888888,\"#fdca26\"],[1.0,\"#f0f921\"]],\"type\":\"heatmapgl\"}],\"histogram\":[{\"marker\":{\"pattern\":{\"fillmode\":\"overlay\",\"size\":10,\"solidity\":0.2}},\"type\":\"histogram\"}],\"histogram2d\":[{\"colorbar\":{\"outlinewidth\":0,\"ticks\":\"\"},\"colorscale\":[[0.0,\"#0d0887\"],[0.1111111111111111,\"#46039f\"],[0.2222222222222222,\"#7201a8\"],[0.3333333333333333,\"#9c179e\"],[0.4444444444444444,\"#bd3786\"],[0.5555555555555556,\"#d8576b\"],[0.6666666666666666,\"#ed7953\"],[0.7777777777777778,\"#fb9f3a\"],[0.8888888888888888,\"#fdca26\"],[1.0,\"#f0f921\"]],\"type\":\"histogram2d\"}],\"histogram2dcontour\":[{\"colorbar\":{\"outlinewidth\":0,\"ticks\":\"\"},\"colorscale\":[[0.0,\"#0d0887\"],[0.1111111111111111,\"#46039f\"],[0.2222222222222222,\"#7201a8\"],[0.3333333333333333,\"#9c179e\"],[0.4444444444444444,\"#bd3786\"],[0.5555555555555556,\"#d8576b\"],[0.6666666666666666,\"#ed7953\"],[0.7777777777777778,\"#fb9f3a\"],[0.8888888888888888,\"#fdca26\"],[1.0,\"#f0f921\"]],\"type\":\"histogram2dcontour\"}],\"mesh3d\":[{\"colorbar\":{\"outlinewidth\":0,\"ticks\":\"\"},\"type\":\"mesh3d\"}],\"parcoords\":[{\"line\":{\"colorbar\":{\"outlinewidth\":0,\"ticks\":\"\"}},\"type\":\"parcoords\"}],\"pie\":[{\"automargin\":true,\"type\":\"pie\"}],\"scatter\":[{\"marker\":{\"colorbar\":{\"outlinewidth\":0,\"ticks\":\"\"}},\"type\":\"scatter\"}],\"scatter3d\":[{\"line\":{\"colorbar\":{\"outlinewidth\":0,\"ticks\":\"\"}},\"marker\":{\"colorbar\":{\"outlinewidth\":0,\"ticks\":\"\"}},\"type\":\"scatter3d\"}],\"scattercarpet\":[{\"marker\":{\"colorbar\":{\"outlinewidth\":0,\"ticks\":\"\"}},\"type\":\"scattercarpet\"}],\"scattergeo\":[{\"marker\":{\"colorbar\":{\"outlinewidth\":0,\"ticks\":\"\"}},\"type\":\"scattergeo\"}],\"scattergl\":[{\"marker\":{\"colorbar\":{\"outlinewidth\":0,\"ticks\":\"\"}},\"type\":\"scattergl\"}],\"scattermapbox\":[{\"marker\":{\"colorbar\":{\"outlinewidth\":0,\"ticks\":\"\"}},\"type\":\"scattermapbox\"}],\"scatterpolar\":[{\"marker\":{\"colorbar\":{\"outlinewidth\":0,\"ticks\":\"\"}},\"type\":\"scatterpolar\"}],\"scatterpolargl\":[{\"marker\":{\"colorbar\":{\"outlinewidth\":0,\"ticks\":\"\"}},\"type\":\"scatterpolargl\"}],\"scatterternary\":[{\"marker\":{\"colorbar\":{\"outlinewidth\":0,\"ticks\":\"\"}},\"type\":\"scatterternary\"}],\"surface\":[{\"colorbar\":{\"outlinewidth\":0,\"ticks\":\"\"},\"colorscale\":[[0.0,\"#0d0887\"],[0.1111111111111111,\"#46039f\"],[0.2222222222222222,\"#7201a8\"],[0.3333333333333333,\"#9c179e\"],[0.4444444444444444,\"#bd3786\"],[0.5555555555555556,\"#d8576b\"],[0.6666666666666666,\"#ed7953\"],[0.7777777777777778,\"#fb9f3a\"],[0.8888888888888888,\"#fdca26\"],[1.0,\"#f0f921\"]],\"type\":\"surface\"}],\"table\":[{\"cells\":{\"fill\":{\"color\":\"#EBF0F8\"},\"line\":{\"color\":\"white\"}},\"header\":{\"fill\":{\"color\":\"#C8D4E3\"},\"line\":{\"color\":\"white\"}},\"type\":\"table\"}]},\"layout\":{\"annotationdefaults\":{\"arrowcolor\":\"#2a3f5f\",\"arrowhead\":0,\"arrowwidth\":1},\"autotypenumbers\":\"strict\",\"coloraxis\":{\"colorbar\":{\"outlinewidth\":0,\"ticks\":\"\"}},\"colorscale\":{\"diverging\":[[0,\"#8e0152\"],[0.1,\"#c51b7d\"],[0.2,\"#de77ae\"],[0.3,\"#f1b6da\"],[0.4,\"#fde0ef\"],[0.5,\"#f7f7f7\"],[0.6,\"#e6f5d0\"],[0.7,\"#b8e186\"],[0.8,\"#7fbc41\"],[0.9,\"#4d9221\"],[1,\"#276419\"]],\"sequential\":[[0.0,\"#0d0887\"],[0.1111111111111111,\"#46039f\"],[0.2222222222222222,\"#7201a8\"],[0.3333333333333333,\"#9c179e\"],[0.4444444444444444,\"#bd3786\"],[0.5555555555555556,\"#d8576b\"],[0.6666666666666666,\"#ed7953\"],[0.7777777777777778,\"#fb9f3a\"],[0.8888888888888888,\"#fdca26\"],[1.0,\"#f0f921\"]],\"sequentialminus\":[[0.0,\"#0d0887\"],[0.1111111111111111,\"#46039f\"],[0.2222222222222222,\"#7201a8\"],[0.3333333333333333,\"#9c179e\"],[0.4444444444444444,\"#bd3786\"],[0.5555555555555556,\"#d8576b\"],[0.6666666666666666,\"#ed7953\"],[0.7777777777777778,\"#fb9f3a\"],[0.8888888888888888,\"#fdca26\"],[1.0,\"#f0f921\"]]},\"colorway\":[\"#636efa\",\"#EF553B\",\"#00cc96\",\"#ab63fa\",\"#FFA15A\",\"#19d3f3\",\"#FF6692\",\"#B6E880\",\"#FF97FF\",\"#FECB52\"],\"font\":{\"color\":\"#2a3f5f\"},\"geo\":{\"bgcolor\":\"white\",\"lakecolor\":\"white\",\"landcolor\":\"#E5ECF6\",\"showlakes\":true,\"showland\":true,\"subunitcolor\":\"white\"},\"hoverlabel\":{\"align\":\"left\"},\"hovermode\":\"closest\",\"mapbox\":{\"style\":\"light\"},\"paper_bgcolor\":\"white\",\"plot_bgcolor\":\"#E5ECF6\",\"polar\":{\"angularaxis\":{\"gridcolor\":\"white\",\"linecolor\":\"white\",\"ticks\":\"\"},\"bgcolor\":\"#E5ECF6\",\"radialaxis\":{\"gridcolor\":\"white\",\"linecolor\":\"white\",\"ticks\":\"\"}},\"scene\":{\"xaxis\":{\"backgroundcolor\":\"#E5ECF6\",\"gridcolor\":\"white\",\"gridwidth\":2,\"linecolor\":\"white\",\"showbackground\":true,\"ticks\":\"\",\"zerolinecolor\":\"white\"},\"yaxis\":{\"backgroundcolor\":\"#E5ECF6\",\"gridcolor\":\"white\",\"gridwidth\":2,\"linecolor\":\"white\",\"showbackground\":true,\"ticks\":\"\",\"zerolinecolor\":\"white\"},\"zaxis\":{\"backgroundcolor\":\"#E5ECF6\",\"gridcolor\":\"white\",\"gridwidth\":2,\"linecolor\":\"white\",\"showbackground\":true,\"ticks\":\"\",\"zerolinecolor\":\"white\"}},\"shapedefaults\":{\"line\":{\"color\":\"#2a3f5f\"}},\"ternary\":{\"aaxis\":{\"gridcolor\":\"white\",\"linecolor\":\"white\",\"ticks\":\"\"},\"baxis\":{\"gridcolor\":\"white\",\"linecolor\":\"white\",\"ticks\":\"\"},\"bgcolor\":\"#E5ECF6\",\"caxis\":{\"gridcolor\":\"white\",\"linecolor\":\"white\",\"ticks\":\"\"}},\"title\":{\"x\":0.05},\"xaxis\":{\"automargin\":true,\"gridcolor\":\"white\",\"linecolor\":\"white\",\"ticks\":\"\",\"title\":{\"standoff\":15},\"zerolinecolor\":\"white\",\"zerolinewidth\":2},\"yaxis\":{\"automargin\":true,\"gridcolor\":\"white\",\"linecolor\":\"white\",\"ticks\":\"\",\"title\":{\"standoff\":15},\"zerolinecolor\":\"white\",\"zerolinewidth\":2}}},\"title\":{\"text\":\"Feature Contribution\"},\"uniformtext\":{\"minsize\":14,\"mode\":\"show\"},\"width\":1000,\"xaxis\":{\"anchor\":\"y\",\"domain\":[0.0,1.0],\"title\":{\"text\":\"timestep\"}},\"yaxis\":{\"anchor\":\"x\",\"domain\":[0.0,1.0],\"title\":{\"text\":\"Feature Contribution in key timesteps\"}}},                        {\"responsive\": true}                    ).then(function(){\n",
       "                            \n",
       "var gd = document.getElementById('de89d264-18e4-4917-8397-2eacfd8a977f');\n",
       "var x = new MutationObserver(function (mutations, observer) {{\n",
       "        var display = window.getComputedStyle(gd).display;\n",
       "        if (!display || display === 'none') {{\n",
       "            console.log([gd, 'removed!']);\n",
       "            Plotly.purge(gd);\n",
       "            observer.disconnect();\n",
       "        }}\n",
       "}});\n",
       "\n",
       "// Listen for the removal of the full notebook cells\n",
       "var notebookContainer = gd.closest('#notebook-container');\n",
       "if (notebookContainer) {{\n",
       "    x.observe(notebookContainer, {childList: true});\n",
       "}}\n",
       "\n",
       "// Listen for the clearing of the current output cell\n",
       "var outputEl = gd.closest('.output');\n",
       "if (outputEl) {{\n",
       "    x.observe(outputEl, {childList: true});\n",
       "}}\n",
       "\n",
       "                        })                };                            </script>        </div>\n",
       "</body>\n",
       "</html>"
      ]
     },
     "metadata": {}
    },
    {
     "output_type": "stream",
     "name": "stdout",
     "text": [
      "process flowchart\n",
      "st18=>start: start O_SENT_role:role_11169\n",
      "op19=>operation: W_Filling in information for the application_role:role_11169\n",
      "op20=>operation: W_Calling after sent offers_role:role_11119\n",
      "op21=>operation: W_Calling after sent offers_role:role_11119\n",
      "op22=>operation: W_Calling after sent offers_role:role_10982\n",
      "\n",
      "st18->op19\n",
      "op19->op20\n",
      "op20->op21\n",
      "op21->op22\n",
      "\n",
      "\n",
      "\n"
     ]
    }
   ],
   "metadata": {
    "colab": {
     "base_uri": "https://localhost:8080/",
     "height": 918
    },
    "id": "jztG_lBmeZyH",
    "executionInfo": {
     "status": "ok",
     "timestamp": 1630046829239,
     "user_tz": -600,
     "elapsed": 315,
     "user": {
      "displayName": "Bemali Wickramanayake",
      "photoUrl": "",
      "userId": "06528833813357396771"
     }
    },
    "outputId": "c314242e-f1b5-4053-bcfc-0a438130303d"
   }
  },
  {
   "cell_type": "markdown",
   "source": [
    "#### specialised Model"
   ],
   "metadata": {
    "id": "TYDX8pgPUiTB"
   }
  },
  {
   "cell_type": "code",
   "execution_count": null,
   "source": [
    "specialised = specialised_model(vec_train, weights, indexes, pre_index, args)\n"
   ],
   "outputs": [],
   "metadata": {
    "id": "T3WYdAJPVSu3"
   }
  },
  {
   "cell_type": "code",
   "execution_count": null,
   "source": [
    "specialised.compile(loss='categorical_crossentropy', optimizer='Adam', metrics=['accuracy'])"
   ],
   "outputs": [],
   "metadata": {
    "id": "aZLpgcR5fqhz"
   }
  },
  {
   "cell_type": "code",
   "execution_count": null,
   "source": [
    "specialised.summary()"
   ],
   "outputs": [
    {
     "output_type": "stream",
     "name": "stdout",
     "text": [
      "Model: \"model_2\"\n",
      "__________________________________________________________________________________________________\n",
      "Layer (type)                    Output Shape         Param #     Connected to                     \n",
      "==================================================================================================\n",
      "ac_input (InputLayer)           [(None, 5, 16)]      0                                            \n",
      "__________________________________________________________________________________________________\n",
      "rl_input (InputLayer)           [(None, 5, 66)]      0                                            \n",
      "__________________________________________________________________________________________________\n",
      "t_input (InputLayer)            [(None, 5, 1)]       0                                            \n",
      "__________________________________________________________________________________________________\n",
      "beta_ac (Bidirectional)         (None, 5, 100)       26800       ac_input[0][0]                   \n",
      "__________________________________________________________________________________________________\n",
      "beta_rl (Bidirectional)         (None, 5, 100)       46800       rl_input[0][0]                   \n",
      "__________________________________________________________________________________________________\n",
      "beta_t (Bidirectional)          (None, 5, 100)       20800       t_input[0][0]                    \n",
      "__________________________________________________________________________________________________\n",
      "feature_attention_ac (TimeDistr (None, 5, 16)        1616        beta_ac[0][0]                    \n",
      "__________________________________________________________________________________________________\n",
      "feature_attention_rl (TimeDistr (None, 5, 66)        6666        beta_rl[0][0]                    \n",
      "__________________________________________________________________________________________________\n",
      "feature_attention_t (TimeDistri (None, 5, 1)         101         beta_t[0][0]                     \n",
      "__________________________________________________________________________________________________\n",
      "ac_importance (Multiply)        (None, 5, 16)        0           feature_attention_ac[0][0]       \n",
      "                                                                 ac_input[0][0]                   \n",
      "__________________________________________________________________________________________________\n",
      "rl_importance (Multiply)        (None, 5, 66)        0           feature_attention_rl[0][0]       \n",
      "                                                                 rl_input[0][0]                   \n",
      "__________________________________________________________________________________________________\n",
      "t_importance (Multiply)         (None, 5, 1)         0           feature_attention_t[0][0]        \n",
      "                                                                 t_input[0][0]                    \n",
      "__________________________________________________________________________________________________\n",
      "concat (Concatenate)            (None, 5, 83)        0           ac_importance[0][0]              \n",
      "                                                                 rl_importance[0][0]              \n",
      "                                                                 t_importance[0][0]               \n",
      "__________________________________________________________________________________________________\n",
      "alpha (Bidirectional)           (None, 5, 100)       53600       concat[0][0]                     \n",
      "__________________________________________________________________________________________________\n",
      "alpha_dense (TimeDistributed)   (None, 5, 1)         101         alpha[0][0]                      \n",
      "__________________________________________________________________________________________________\n",
      "timestep_attention (Softmax)    (None, 5, 1)         0           alpha_dense[0][0]                \n",
      "__________________________________________________________________________________________________\n",
      "multiply (Multiply)             (None, 5, 83)        0           timestep_attention[0][0]         \n",
      "                                                                 concat[0][0]                     \n",
      "__________________________________________________________________________________________________\n",
      "lambda_1 (Lambda)               (None, 83)           0           multiply[0][0]                   \n",
      "__________________________________________________________________________________________________\n",
      "dropout_2 (Dropout)             (None, 83)           0           lambda_1[0][0]                   \n",
      "__________________________________________________________________________________________________\n",
      "act_output (Dense)              (None, 5)            420         dropout_2[0][0]                  \n",
      "==================================================================================================\n",
      "Total params: 156,904\n",
      "Trainable params: 156,904\n",
      "Non-trainable params: 0\n",
      "__________________________________________________________________________________________________\n"
     ]
    }
   ],
   "metadata": {
    "colab": {
     "base_uri": "https://localhost:8080/"
    },
    "id": "JpHEBmWAhZSI",
    "executionInfo": {
     "status": "ok",
     "timestamp": 1629793007742,
     "user_tz": -600,
     "elapsed": 2,
     "user": {
      "displayName": "Bemali Wickramanayake",
      "photoUrl": "",
      "userId": "06528833813357396771"
     }
    },
    "outputId": "82acc4f6-b493-4621-c2ff-4963e918c1aa"
   }
  },
  {
   "cell_type": "code",
   "execution_count": null,
   "source": [
    "batch_size = 256 # 32, 64, 128, 256\n",
    "epochs = 100"
   ],
   "outputs": [],
   "metadata": {
    "id": "8kft1GPghr95"
   }
  },
  {
   "cell_type": "code",
   "execution_count": null,
   "source": [
    "specialised_history = specialised_model_fit(vec_train, specialised, indexes, pre_index, MY_WORKSPACE_DIR, batch_size, epochs, args)"
   ],
   "outputs": [
    {
     "output_type": "stream",
     "name": "stdout",
     "text": [
      "This is the output file path  /content/drive/My Drive/KBS-SI-Paper-main/BPIC12/models/model_updated_W_Calling after sent offers_{epoch:02d}-{val_loss:.2f}.h5\n",
      "Epoch 1/100\n",
      "17/17 [==============================] - 18s 288ms/step - loss: 1.6103 - accuracy: 0.3722 - val_loss: 1.5857 - val_accuracy: 0.5515\n",
      "Epoch 2/100\n",
      "17/17 [==============================] - 1s 80ms/step - loss: 1.5745 - accuracy: 0.4512 - val_loss: 1.5346 - val_accuracy: 0.6271\n",
      "Epoch 3/100\n",
      "17/17 [==============================] - 1s 85ms/step - loss: 1.5247 - accuracy: 0.5143 - val_loss: 1.4565 - val_accuracy: 0.7158\n",
      "Epoch 4/100\n",
      "17/17 [==============================] - 1s 84ms/step - loss: 1.4565 - accuracy: 0.5666 - val_loss: 1.3622 - val_accuracy: 0.7536\n",
      "Epoch 5/100\n",
      "17/17 [==============================] - 1s 79ms/step - loss: 1.3890 - accuracy: 0.6053 - val_loss: 1.2834 - val_accuracy: 0.7731\n",
      "Epoch 6/100\n",
      "17/17 [==============================] - 1s 81ms/step - loss: 1.3312 - accuracy: 0.6221 - val_loss: 1.2125 - val_accuracy: 0.7718\n",
      "Epoch 7/100\n",
      "17/17 [==============================] - 1s 80ms/step - loss: 1.2730 - accuracy: 0.6271 - val_loss: 1.1549 - val_accuracy: 0.7718\n",
      "Epoch 8/100\n",
      "17/17 [==============================] - 1s 80ms/step - loss: 1.2337 - accuracy: 0.6283 - val_loss: 1.1148 - val_accuracy: 0.7744\n",
      "Epoch 9/100\n",
      "17/17 [==============================] - 1s 79ms/step - loss: 1.2029 - accuracy: 0.6301 - val_loss: 1.0837 - val_accuracy: 0.7757\n",
      "Epoch 10/100\n",
      "17/17 [==============================] - 1s 79ms/step - loss: 1.1716 - accuracy: 0.6373 - val_loss: 1.0605 - val_accuracy: 0.7731\n",
      "Epoch 11/100\n",
      "17/17 [==============================] - 2s 94ms/step - loss: 1.1544 - accuracy: 0.6393 - val_loss: 1.0389 - val_accuracy: 0.7757\n",
      "Epoch 12/100\n",
      "17/17 [==============================] - 1s 84ms/step - loss: 1.1388 - accuracy: 0.6373 - val_loss: 1.0198 - val_accuracy: 0.7718\n",
      "Epoch 13/100\n",
      "17/17 [==============================] - 1s 87ms/step - loss: 1.1226 - accuracy: 0.6375 - val_loss: 1.0035 - val_accuracy: 0.7744\n",
      "Epoch 14/100\n",
      "17/17 [==============================] - 1s 83ms/step - loss: 1.1069 - accuracy: 0.6377 - val_loss: 0.9895 - val_accuracy: 0.7705\n",
      "Epoch 15/100\n",
      "17/17 [==============================] - 1s 79ms/step - loss: 1.0962 - accuracy: 0.6428 - val_loss: 0.9746 - val_accuracy: 0.7718\n",
      "Epoch 16/100\n",
      "17/17 [==============================] - 1s 79ms/step - loss: 1.0849 - accuracy: 0.6430 - val_loss: 0.9630 - val_accuracy: 0.7744\n",
      "Epoch 17/100\n",
      "17/17 [==============================] - 1s 78ms/step - loss: 1.0749 - accuracy: 0.6483 - val_loss: 0.9517 - val_accuracy: 0.7705\n",
      "Epoch 18/100\n",
      "17/17 [==============================] - 1s 81ms/step - loss: 1.0623 - accuracy: 0.6502 - val_loss: 0.9409 - val_accuracy: 0.7705\n",
      "Epoch 19/100\n",
      "17/17 [==============================] - 1s 79ms/step - loss: 1.0571 - accuracy: 0.6506 - val_loss: 0.9315 - val_accuracy: 0.7731\n",
      "Epoch 20/100\n",
      "17/17 [==============================] - 1s 79ms/step - loss: 1.0398 - accuracy: 0.6525 - val_loss: 0.9231 - val_accuracy: 0.7692\n",
      "Epoch 21/100\n",
      "17/17 [==============================] - 1s 82ms/step - loss: 1.0367 - accuracy: 0.6552 - val_loss: 0.9144 - val_accuracy: 0.7679\n",
      "Epoch 22/100\n",
      "17/17 [==============================] - 1s 81ms/step - loss: 1.0275 - accuracy: 0.6594 - val_loss: 0.9062 - val_accuracy: 0.7718\n",
      "Epoch 23/100\n",
      "17/17 [==============================] - 1s 80ms/step - loss: 1.0254 - accuracy: 0.6548 - val_loss: 0.8989 - val_accuracy: 0.7731\n",
      "Epoch 24/100\n",
      "17/17 [==============================] - 1s 80ms/step - loss: 1.0148 - accuracy: 0.6515 - val_loss: 0.8935 - val_accuracy: 0.7705\n",
      "Epoch 25/100\n",
      "17/17 [==============================] - 1s 81ms/step - loss: 1.0130 - accuracy: 0.6543 - val_loss: 0.8866 - val_accuracy: 0.7679\n",
      "Epoch 26/100\n",
      "17/17 [==============================] - 1s 80ms/step - loss: 1.0000 - accuracy: 0.6578 - val_loss: 0.8812 - val_accuracy: 0.7666\n",
      "Epoch 27/100\n",
      "17/17 [==============================] - 1s 81ms/step - loss: 0.9981 - accuracy: 0.6596 - val_loss: 0.8730 - val_accuracy: 0.7692\n",
      "Epoch 28/100\n",
      "17/17 [==============================] - 1s 81ms/step - loss: 0.9921 - accuracy: 0.6550 - val_loss: 0.8689 - val_accuracy: 0.7692\n",
      "Epoch 29/100\n",
      "17/17 [==============================] - 1s 89ms/step - loss: 0.9813 - accuracy: 0.6614 - val_loss: 0.8621 - val_accuracy: 0.7692\n",
      "Epoch 30/100\n",
      "17/17 [==============================] - 1s 80ms/step - loss: 0.9808 - accuracy: 0.6649 - val_loss: 0.8570 - val_accuracy: 0.7679\n",
      "Epoch 31/100\n",
      "17/17 [==============================] - 1s 80ms/step - loss: 0.9756 - accuracy: 0.6628 - val_loss: 0.8527 - val_accuracy: 0.7653\n",
      "Epoch 32/100\n",
      "17/17 [==============================] - 2s 90ms/step - loss: 0.9716 - accuracy: 0.6679 - val_loss: 0.8500 - val_accuracy: 0.7627\n",
      "Epoch 33/100\n",
      "17/17 [==============================] - 1s 79ms/step - loss: 0.9668 - accuracy: 0.6658 - val_loss: 0.8458 - val_accuracy: 0.7627\n",
      "Epoch 34/100\n",
      "17/17 [==============================] - 1s 80ms/step - loss: 0.9672 - accuracy: 0.6663 - val_loss: 0.8425 - val_accuracy: 0.7653\n",
      "Epoch 35/100\n",
      "17/17 [==============================] - 1s 80ms/step - loss: 0.9646 - accuracy: 0.6644 - val_loss: 0.8369 - val_accuracy: 0.7679\n",
      "Epoch 36/100\n",
      "17/17 [==============================] - 1s 83ms/step - loss: 0.9544 - accuracy: 0.6656 - val_loss: 0.8349 - val_accuracy: 0.7666\n",
      "Epoch 37/100\n",
      "17/17 [==============================] - 1s 80ms/step - loss: 0.9519 - accuracy: 0.6713 - val_loss: 0.8327 - val_accuracy: 0.7614\n",
      "Epoch 38/100\n",
      "17/17 [==============================] - 1s 81ms/step - loss: 0.9528 - accuracy: 0.6700 - val_loss: 0.8288 - val_accuracy: 0.7640\n",
      "Epoch 39/100\n",
      "17/17 [==============================] - 1s 80ms/step - loss: 0.9526 - accuracy: 0.6695 - val_loss: 0.8256 - val_accuracy: 0.7614\n",
      "Epoch 40/100\n",
      "17/17 [==============================] - 1s 82ms/step - loss: 0.9508 - accuracy: 0.6674 - val_loss: 0.8226 - val_accuracy: 0.7666\n",
      "Epoch 41/100\n",
      "17/17 [==============================] - 1s 80ms/step - loss: 0.9455 - accuracy: 0.6727 - val_loss: 0.8215 - val_accuracy: 0.7640\n",
      "Epoch 42/100\n",
      "17/17 [==============================] - 1s 80ms/step - loss: 0.9371 - accuracy: 0.6737 - val_loss: 0.8196 - val_accuracy: 0.7601\n",
      "Epoch 43/100\n",
      "17/17 [==============================] - 1s 81ms/step - loss: 0.9366 - accuracy: 0.6713 - val_loss: 0.8177 - val_accuracy: 0.7562\n",
      "Epoch 44/100\n",
      "17/17 [==============================] - 1s 79ms/step - loss: 0.9352 - accuracy: 0.6741 - val_loss: 0.8148 - val_accuracy: 0.7588\n",
      "Epoch 45/100\n",
      "17/17 [==============================] - 1s 80ms/step - loss: 0.9295 - accuracy: 0.6760 - val_loss: 0.8125 - val_accuracy: 0.7601\n",
      "Epoch 46/100\n",
      "17/17 [==============================] - 1s 82ms/step - loss: 0.9287 - accuracy: 0.6716 - val_loss: 0.8100 - val_accuracy: 0.7614\n",
      "Epoch 47/100\n",
      "17/17 [==============================] - 2s 92ms/step - loss: 0.9267 - accuracy: 0.6709 - val_loss: 0.8084 - val_accuracy: 0.7640\n",
      "Epoch 48/100\n",
      "17/17 [==============================] - 1s 82ms/step - loss: 0.9149 - accuracy: 0.6762 - val_loss: 0.8094 - val_accuracy: 0.7549\n",
      "Epoch 49/100\n",
      "17/17 [==============================] - 1s 83ms/step - loss: 0.9264 - accuracy: 0.6734 - val_loss: 0.8062 - val_accuracy: 0.7588\n",
      "Epoch 50/100\n",
      "17/17 [==============================] - 1s 84ms/step - loss: 0.9258 - accuracy: 0.6734 - val_loss: 0.8057 - val_accuracy: 0.7575\n",
      "Epoch 51/100\n",
      "17/17 [==============================] - 1s 84ms/step - loss: 0.9141 - accuracy: 0.6819 - val_loss: 0.8040 - val_accuracy: 0.7549\n",
      "Epoch 52/100\n",
      "17/17 [==============================] - 1s 83ms/step - loss: 0.9204 - accuracy: 0.6732 - val_loss: 0.8025 - val_accuracy: 0.7523\n",
      "Epoch 53/100\n",
      "17/17 [==============================] - 1s 88ms/step - loss: 0.9124 - accuracy: 0.6737 - val_loss: 0.7979 - val_accuracy: 0.7588\n",
      "Epoch 54/100\n",
      "17/17 [==============================] - 1s 83ms/step - loss: 0.9185 - accuracy: 0.6753 - val_loss: 0.7963 - val_accuracy: 0.7562\n",
      "Epoch 55/100\n",
      "17/17 [==============================] - 1s 82ms/step - loss: 0.9076 - accuracy: 0.6766 - val_loss: 0.7949 - val_accuracy: 0.7562\n",
      "Epoch 56/100\n",
      "17/17 [==============================] - 1s 83ms/step - loss: 0.9129 - accuracy: 0.6803 - val_loss: 0.7945 - val_accuracy: 0.7536\n",
      "Epoch 57/100\n",
      "17/17 [==============================] - 2s 90ms/step - loss: 0.9055 - accuracy: 0.6847 - val_loss: 0.7939 - val_accuracy: 0.7484\n",
      "Epoch 58/100\n",
      "17/17 [==============================] - 1s 82ms/step - loss: 0.8992 - accuracy: 0.6838 - val_loss: 0.7926 - val_accuracy: 0.7497\n",
      "Epoch 59/100\n",
      "17/17 [==============================] - 1s 80ms/step - loss: 0.9034 - accuracy: 0.6785 - val_loss: 0.7899 - val_accuracy: 0.7575\n",
      "Epoch 60/100\n",
      "17/17 [==============================] - 1s 80ms/step - loss: 0.9025 - accuracy: 0.6822 - val_loss: 0.7936 - val_accuracy: 0.7484\n",
      "Epoch 61/100\n",
      "17/17 [==============================] - 2s 91ms/step - loss: 0.9078 - accuracy: 0.6817 - val_loss: 0.7896 - val_accuracy: 0.7471\n",
      "Epoch 62/100\n",
      "17/17 [==============================] - 2s 95ms/step - loss: 0.9011 - accuracy: 0.6875 - val_loss: 0.7899 - val_accuracy: 0.7549\n",
      "Epoch 63/100\n",
      "17/17 [==============================] - 2s 94ms/step - loss: 0.9006 - accuracy: 0.6840 - val_loss: 0.7864 - val_accuracy: 0.7536\n",
      "Epoch 64/100\n",
      "17/17 [==============================] - 2s 91ms/step - loss: 0.9019 - accuracy: 0.6842 - val_loss: 0.7867 - val_accuracy: 0.7575\n",
      "Epoch 65/100\n",
      "17/17 [==============================] - 1s 86ms/step - loss: 0.8978 - accuracy: 0.6845 - val_loss: 0.7862 - val_accuracy: 0.7523\n",
      "Epoch 66/100\n",
      "17/17 [==============================] - 1s 81ms/step - loss: 0.8928 - accuracy: 0.6803 - val_loss: 0.7838 - val_accuracy: 0.7497\n",
      "Epoch 67/100\n",
      "17/17 [==============================] - 1s 83ms/step - loss: 0.8881 - accuracy: 0.6891 - val_loss: 0.7861 - val_accuracy: 0.7471\n",
      "Epoch 68/100\n",
      "17/17 [==============================] - 1s 84ms/step - loss: 0.8925 - accuracy: 0.6854 - val_loss: 0.7840 - val_accuracy: 0.7497\n",
      "Epoch 69/100\n",
      "17/17 [==============================] - 2s 91ms/step - loss: 0.8889 - accuracy: 0.6847 - val_loss: 0.7876 - val_accuracy: 0.7432\n",
      "Epoch 70/100\n",
      "17/17 [==============================] - 1s 83ms/step - loss: 0.8916 - accuracy: 0.6859 - val_loss: 0.7849 - val_accuracy: 0.7419\n",
      "Epoch 71/100\n",
      "17/17 [==============================] - 1s 82ms/step - loss: 0.8857 - accuracy: 0.6861 - val_loss: 0.7842 - val_accuracy: 0.7458\n",
      "Epoch 72/100\n",
      "17/17 [==============================] - 1s 84ms/step - loss: 0.8846 - accuracy: 0.6882 - val_loss: 0.7818 - val_accuracy: 0.7458\n",
      "Epoch 73/100\n",
      "17/17 [==============================] - 1s 81ms/step - loss: 0.8848 - accuracy: 0.6854 - val_loss: 0.7843 - val_accuracy: 0.7458\n",
      "Epoch 74/100\n",
      "17/17 [==============================] - 1s 88ms/step - loss: 0.8799 - accuracy: 0.6863 - val_loss: 0.7845 - val_accuracy: 0.7432\n",
      "Epoch 75/100\n",
      "17/17 [==============================] - 1s 81ms/step - loss: 0.8773 - accuracy: 0.6951 - val_loss: 0.7836 - val_accuracy: 0.7432\n",
      "Epoch 76/100\n",
      "17/17 [==============================] - 1s 80ms/step - loss: 0.8764 - accuracy: 0.6944 - val_loss: 0.7825 - val_accuracy: 0.7445\n",
      "Epoch 77/100\n",
      "17/17 [==============================] - 1s 84ms/step - loss: 0.8753 - accuracy: 0.6905 - val_loss: 0.7843 - val_accuracy: 0.7471\n",
      "Epoch 78/100\n",
      "17/17 [==============================] - 1s 83ms/step - loss: 0.8759 - accuracy: 0.6962 - val_loss: 0.7857 - val_accuracy: 0.7445\n",
      "Epoch 79/100\n",
      "17/17 [==============================] - 1s 81ms/step - loss: 0.8709 - accuracy: 0.6889 - val_loss: 0.7835 - val_accuracy: 0.7458\n",
      "Epoch 80/100\n",
      "17/17 [==============================] - 1s 85ms/step - loss: 0.8718 - accuracy: 0.6900 - val_loss: 0.7845 - val_accuracy: 0.7445\n",
      "Epoch 81/100\n",
      "17/17 [==============================] - 1s 81ms/step - loss: 0.8706 - accuracy: 0.6935 - val_loss: 0.7844 - val_accuracy: 0.7471\n",
      "Epoch 82/100\n",
      "17/17 [==============================] - 1s 83ms/step - loss: 0.8729 - accuracy: 0.6895 - val_loss: 0.7912 - val_accuracy: 0.7379\n"
     ]
    }
   ],
   "metadata": {
    "colab": {
     "base_uri": "https://localhost:8080/"
    },
    "id": "ytiypvnWfv9r",
    "executionInfo": {
     "status": "ok",
     "timestamp": 1629793148849,
     "user_tz": -600,
     "elapsed": 132490,
     "user": {
      "displayName": "Bemali Wickramanayake",
      "photoUrl": "",
      "userId": "06528833813357396771"
     }
    },
    "outputId": "ead886f1-b123-4b52-8ffb-e089b637e0dc"
   }
  },
  {
   "cell_type": "code",
   "execution_count": null,
   "source": [
    "plot_specialised(specialised_history)"
   ],
   "outputs": [
    {
     "output_type": "display_data",
     "data": {
      "text/plain": [
       "<Figure size 432x288 with 1 Axes>"
      ],
      "image/png": "[encoded data removed]"
     },
     "metadata": {
      "needs_background": "light"
     }
    }
   ],
   "metadata": {
    "colab": {
     "base_uri": "https://localhost:8080/",
     "height": 295
    },
    "id": "RL4yLqunf1s8",
    "executionInfo": {
     "status": "ok",
     "timestamp": 1629793254698,
     "user_tz": -600,
     "elapsed": 356,
     "user": {
      "displayName": "Bemali Wickramanayake",
      "photoUrl": "",
      "userId": "06528833813357396771"
     }
    },
    "outputId": "4e55e141-b13b-4dbb-c16c-941caebab5bf"
   }
  },
  {
   "cell_type": "code",
   "execution_count": null,
   "source": [
    "trained_model = os.path.join(os.path.join(MILESTONE_DIR, 'trained_models'),'specialised_model.h5')\n",
    "specialised.save(trained_model)"
   ],
   "outputs": [
    {
     "output_type": "stream",
     "name": "stderr",
     "text": [
      "/usr/local/lib/python3.7/dist-packages/keras/utils/generic_utils.py:497: CustomMaskWarning:\n",
      "\n",
      "Custom mask layers require a config and must override get_config. When loading, the custom mask layer must be passed to the custom_objects argument.\n",
      "\n"
     ]
    }
   ],
   "metadata": {
    "colab": {
     "base_uri": "https://localhost:8080/"
    },
    "id": "I12h5Jy5ja-J",
    "executionInfo": {
     "status": "ok",
     "timestamp": 1629793259803,
     "user_tz": -600,
     "elapsed": 342,
     "user": {
      "displayName": "Bemali Wickramanayake",
      "photoUrl": "",
      "userId": "06528833813357396771"
     }
    },
    "outputId": "8f5aa798-ff6b-4ef2-bb3f-bff7cd73b5be"
   }
  },
  {
   "cell_type": "markdown",
   "source": [
    "##### Load Saved Model and Evaluate"
   ],
   "metadata": {
    "id": "yl1FJKp5jd8_"
   }
  },
  {
   "cell_type": "code",
   "execution_count": 9,
   "source": [
    "trained_model = os.path.join(os.path.join(MILESTONE_DIR, 'trained_models'),'specialised_model.h5')\n",
    "specialised_model = load_model(trained_model)"
   ],
   "outputs": [],
   "metadata": {
    "id": "LxnZ75VmjpHW",
    "executionInfo": {
     "status": "ok",
     "timestamp": 1630045670572,
     "user_tz": -600,
     "elapsed": 2913,
     "user": {
      "displayName": "Bemali Wickramanayake",
      "photoUrl": "",
      "userId": "06528833813357396771"
     }
    }
   }
  },
  {
   "cell_type": "markdown",
   "source": [
    "Evaluating Prediction Performance"
   ],
   "metadata": {
    "id": "Yk0cYz2okDBJ"
   }
  },
  {
   "cell_type": "code",
   "execution_count": 10,
   "source": [
    "# Generating Inputs\n",
    "\n",
    "x_test_ohe,y_test = generate_inputs(vec_test,args,indexes,experiment)\n",
    "\n",
    "# Evaluate the model on the test data using `evaluate`\n",
    "print(\"Evaluate on test data\")\n",
    "\n",
    "results = specialised_model.evaluate(x_test_ohe, y_test, batch_size=100)\n",
    "y_pred = specialised_model.predict(x_test_ohe)\n",
    "print(\"test loss, test acc:\", results)"
   ],
   "outputs": [
    {
     "output_type": "stream",
     "name": "stdout",
     "text": [
      "Evaluate on test data\n",
      "22/22 [==============================] - 3s 12ms/step - loss: 0.9254 - accuracy: 0.6502\n",
      "test loss, test acc: [0.9253650307655334, 0.6502283215522766]\n"
     ]
    }
   ],
   "metadata": {
    "colab": {
     "base_uri": "https://localhost:8080/"
    },
    "id": "YqaL1vLmkGKb",
    "executionInfo": {
     "status": "ok",
     "timestamp": 1630045680039,
     "user_tz": -600,
     "elapsed": 6962,
     "user": {
      "displayName": "Bemali Wickramanayake",
      "photoUrl": "",
      "userId": "06528833813357396771"
     }
    },
    "outputId": "2c391c40-056f-4702-d241-9c04dfef81b4"
   }
  },
  {
   "cell_type": "code",
   "execution_count": 17,
   "source": [
    "target_names = [index_ne[i] for i in range(len(index_ne))]\n",
    "\n",
    "print(classification_report(y_test.argmax(axis=1), y_pred.argmax(axis=1), target_names=target_names))"
   ],
   "outputs": [
    {
     "output_type": "stream",
     "name": "stdout",
     "text": [
      "                             precision    recall  f1-score   support\n",
      "\n",
      "       A_APPROVED_ACTIVATED       0.00      0.00      0.00        74\n",
      "       A_CANCELLED_DECLINED       0.37      0.23      0.28       308\n",
      "       O_CANCELLED_DECLINED       0.32      0.18      0.23       383\n",
      "                O_SENT_BACK       0.69      0.82      0.75       797\n",
      "W_Assessing the application       0.76      1.00      0.86       628\n",
      "\n",
      "                   accuracy                           0.65      2190\n",
      "                  macro avg       0.43      0.45      0.43      2190\n",
      "               weighted avg       0.58      0.65      0.60      2190\n",
      "\n"
     ]
    },
    {
     "output_type": "stream",
     "name": "stderr",
     "text": [
      "/usr/local/lib/python3.7/dist-packages/sklearn/metrics/_classification.py:1272: UndefinedMetricWarning:\n",
      "\n",
      "Precision and F-score are ill-defined and being set to 0.0 in labels with no predicted samples. Use `zero_division` parameter to control this behavior.\n",
      "\n"
     ]
    }
   ],
   "metadata": {
    "colab": {
     "base_uri": "https://localhost:8080/"
    },
    "id": "2vb-WjixkIiB",
    "executionInfo": {
     "status": "ok",
     "timestamp": 1630045399570,
     "user_tz": -600,
     "elapsed": 305,
     "user": {
      "displayName": "Bemali Wickramanayake",
      "photoUrl": "",
      "userId": "06528833813357396771"
     }
    },
    "outputId": "3c14f4de-1b22-41ac-afbb-cdef69ae8973"
   }
  },
  {
   "cell_type": "markdown",
   "source": [
    "Confusion Matrix"
   ],
   "metadata": {
    "id": "ctf7BFx0kQz8"
   }
  },
  {
   "cell_type": "code",
   "execution_count": null,
   "source": [
    "matrix = confusion_matrix(y_test.argmax(axis=1), y_pred.argmax(axis=1))\n",
    "print(matrix)\n",
    "matrix_sum = np.sum(matrix, axis=1).reshape(-1,1)\n",
    "matrix_perc = matrix / matrix_sum\n",
    "df_cm = pd.DataFrame(matrix_perc, index = [index_ne[i] for i in range(len(index_ne))],\n",
    "                  columns = [index_ne[i] for i in range(len(index_ne))])\n",
    "\n",
    "plt.figure(figsize = (10,7))\n",
    "sn.heatmap(df_cm, annot=True)"
   ],
   "outputs": [
    {
     "output_type": "stream",
     "name": "stdout",
     "text": [
      "[[  0   0   0   0  74]\n",
      " [  0  71  58 123  56]\n",
      " [  0  72  70 171  70]\n",
      " [  0  49  91 657   0]\n",
      " [  0   0   0   2 626]]\n"
     ]
    },
    {
     "output_type": "execute_result",
     "data": {
      "text/plain": [
       "<matplotlib.axes._subplots.AxesSubplot at 0x7f2d9115dad0>"
      ]
     },
     "metadata": {},
     "execution_count": 20
    },
    {
     "output_type": "display_data",
     "data": {
      "text/plain": [
       "<Figure size 720x504 with 2 Axes>"
      ],
      "image/png": "[encoded data removed]"
     },
     "metadata": {
      "needs_background": "light"
     }
    }
   ],
   "metadata": {
    "colab": {
     "base_uri": "https://localhost:8080/",
     "height": 671
    },
    "id": "ugdYpihIkS8w",
    "executionInfo": {
     "status": "ok",
     "timestamp": 1629981184806,
     "user_tz": -600,
     "elapsed": 1007,
     "user": {
      "displayName": "Bemali Wickramanayake",
      "photoUrl": "",
      "userId": "06528833813357396771"
     }
    },
    "outputId": "363ed6f3-663a-44df-ae51-d9c3fb2816de"
   }
  },
  {
   "cell_type": "markdown",
   "source": [
    "##### Generating Explanations with Attention Layer"
   ],
   "metadata": {
    "id": "4c1OdJbbiI5d"
   }
  },
  {
   "cell_type": "code",
   "execution_count": 11,
   "source": [
    "model_attn_weights = Model(inputs=specialised_model.input,\n",
    "              outputs=[specialised_model.output, specialised_model.get_layer('timestep_attention').output,specialised_model.get_layer('ac_importance').output ,specialised_model.get_layer('rl_importance').output,specialised_model.get_layer('t_importance').output])\n",
    "\n",
    "output_with_attention = model_attn_weights.predict(x_test_ohe)"
   ],
   "outputs": [],
   "metadata": {
    "id": "Pj3GsGqAiHro",
    "executionInfo": {
     "status": "ok",
     "timestamp": 1630045687537,
     "user_tz": -600,
     "elapsed": 3435,
     "user": {
      "displayName": "Bemali Wickramanayake",
      "photoUrl": "",
      "userId": "06528833813357396771"
     }
    }
   }
  },
  {
   "cell_type": "markdown",
   "source": [
    "###### Global Explanations"
   ],
   "metadata": {
    "id": "Z9irBxBBicA8"
   }
  },
  {
   "cell_type": "code",
   "execution_count": 23,
   "source": [
    "explain_global(output_with_attention,x_test,y_test,index_ac, index_rl,3,prediction=2)"
   ],
   "outputs": [
    {
     "output_type": "stream",
     "name": "stderr",
     "text": [
      "/usr/local/lib/python3.7/dist-packages/numpy/core/_asarray.py:83: VisibleDeprecationWarning:\n",
      "\n",
      "Creating an ndarray from ragged nested sequences (which is a list-or-tuple of lists-or-tuples-or ndarrays with different lengths or shapes) is deprecated. If you meant to do this, you must specify 'dtype=object' when creating the ndarray\n",
      "\n"
     ]
    },
    {
     "output_type": "display_data",
     "data": {
      "text/html": [
       "<html>\n",
       "<head><meta charset=\"utf-8\" /></head>\n",
       "<body>\n",
       "    <div>            <script src=\"https://cdnjs.cloudflare.com/ajax/libs/mathjax/2.7.5/MathJax.js?config=TeX-AMS-MML_SVG\"></script><script type=\"text/javascript\">if (window.MathJax) {MathJax.Hub.Config({SVG: {font: \"STIX-Web\"}});}</script>                <script type=\"text/javascript\">window.PlotlyConfig = {MathJaxConfig: 'local'};</script>\n",
       "        <script src=\"https://cdn.plot.ly/plotly-2.3.1.min.js\"></script>                <div id=\"b1dc62ad-f51d-45cd-b101-fbf323a8c370\" class=\"plotly-graph-div\" style=\"height:600px; width:1000px;\"></div>            <script type=\"text/javascript\">                                    window.PLOTLYENV=window.PLOTLYENV || {};                                    if (document.getElementById(\"b1dc62ad-f51d-45cd-b101-fbf323a8c370\")) {                    Plotly.newPlot(                        \"b1dc62ad-f51d-45cd-b101-fbf323a8c370\",                        [{\"alignmentgroup\":\"True\",\"hovertemplate\":\"feature_category=activity<br>timestep=%{x}<br>Feature Contribution in key timesteps=%{y}<br>feature=%{text}<extra></extra>\",\"legendgroup\":\"activity\",\"marker\":{\"color\":\"darkcyan\",\"pattern\":{\"shape\":\"\"}},\"name\":\"activity\",\"offsetgroup\":\"activity\",\"orientation\":\"v\",\"showlegend\":true,\"text\":[\"none\",\"none\",\"W_Calling after sent offers\",\"W_Calling after sent offers\",\"W_Calling after sent offers\"],\"textangle\":90,\"textfont\":{\"size\":14},\"textposition\":\"auto\",\"type\":\"bar\",\"x\":[5.0,4.0,3.0,2.0,1.0],\"xaxis\":\"x\",\"y\":[null,null,0.18968808996263675,0.1461033252232653,0.1741235490607096],\"yaxis\":\"y\"},{\"alignmentgroup\":\"True\",\"hovertemplate\":\"feature_category=role<br>timestep=%{x}<br>Feature Contribution in key timesteps=%{y}<br>feature=%{text}<extra></extra>\",\"legendgroup\":\"role\",\"marker\":{\"color\":\"darkslateblue\",\"pattern\":{\"shape\":\"\"}},\"name\":\"role\",\"offsetgroup\":\"role\",\"orientation\":\"v\",\"showlegend\":true,\"text\":[\"none\",\"none\",\"role_11203\",\"role_11119\",\"role_11203\"],\"textangle\":90,\"textfont\":{\"size\":14},\"textposition\":\"auto\",\"type\":\"bar\",\"x\":[5.0,4.0,3.0,2.0,1.0],\"xaxis\":\"x\",\"y\":[null,null,0.018254015755430508,0.013182553606744918,0.019018186969349093],\"yaxis\":\"y\"},{\"alignmentgroup\":\"True\",\"hovertemplate\":\"feature_category=time_lapsed<br>timestep=%{x}<br>Feature Contribution in key timesteps=%{y}<br>feature=%{text}<extra></extra>\",\"legendgroup\":\"time_lapsed\",\"marker\":{\"color\":\"lightslategray\",\"pattern\":{\"shape\":\"\"}},\"name\":\"time_lapsed\",\"offsetgroup\":\"time_lapsed\",\"orientation\":\"v\",\"showlegend\":true,\"text\":[\"t_lapsed\",\"t_lapsed\",\"t_lapsed\",\"t_lapsed\",\"t_lapsed\"],\"textangle\":90,\"textfont\":{\"size\":14},\"textposition\":\"auto\",\"type\":\"bar\",\"x\":[5.0,4.0,3.0,2.0,1.0],\"xaxis\":\"x\",\"y\":[null,null,0.33778668144900337,0.2054166011084657,0.09770799372380345],\"yaxis\":\"y\"}],                        {\"bargap\":0.05,\"barmode\":\"group\",\"height\":600,\"legend\":{\"title\":{\"text\":\"feature_category\"},\"tracegroupgap\":0},\"plot_bgcolor\":\"rgb(237,237,235)\",\"template\":{\"data\":{\"bar\":[{\"error_x\":{\"color\":\"#2a3f5f\"},\"error_y\":{\"color\":\"#2a3f5f\"},\"marker\":{\"line\":{\"color\":\"#E5ECF6\",\"width\":0.5},\"pattern\":{\"fillmode\":\"overlay\",\"size\":10,\"solidity\":0.2}},\"type\":\"bar\"}],\"barpolar\":[{\"marker\":{\"line\":{\"color\":\"#E5ECF6\",\"width\":0.5},\"pattern\":{\"fillmode\":\"overlay\",\"size\":10,\"solidity\":0.2}},\"type\":\"barpolar\"}],\"carpet\":[{\"aaxis\":{\"endlinecolor\":\"#2a3f5f\",\"gridcolor\":\"white\",\"linecolor\":\"white\",\"minorgridcolor\":\"white\",\"startlinecolor\":\"#2a3f5f\"},\"baxis\":{\"endlinecolor\":\"#2a3f5f\",\"gridcolor\":\"white\",\"linecolor\":\"white\",\"minorgridcolor\":\"white\",\"startlinecolor\":\"#2a3f5f\"},\"type\":\"carpet\"}],\"choropleth\":[{\"colorbar\":{\"outlinewidth\":0,\"ticks\":\"\"},\"type\":\"choropleth\"}],\"contour\":[{\"colorbar\":{\"outlinewidth\":0,\"ticks\":\"\"},\"colorscale\":[[0.0,\"#0d0887\"],[0.1111111111111111,\"#46039f\"],[0.2222222222222222,\"#7201a8\"],[0.3333333333333333,\"#9c179e\"],[0.4444444444444444,\"#bd3786\"],[0.5555555555555556,\"#d8576b\"],[0.6666666666666666,\"#ed7953\"],[0.7777777777777778,\"#fb9f3a\"],[0.8888888888888888,\"#fdca26\"],[1.0,\"#f0f921\"]],\"type\":\"contour\"}],\"contourcarpet\":[{\"colorbar\":{\"outlinewidth\":0,\"ticks\":\"\"},\"type\":\"contourcarpet\"}],\"heatmap\":[{\"colorbar\":{\"outlinewidth\":0,\"ticks\":\"\"},\"colorscale\":[[0.0,\"#0d0887\"],[0.1111111111111111,\"#46039f\"],[0.2222222222222222,\"#7201a8\"],[0.3333333333333333,\"#9c179e\"],[0.4444444444444444,\"#bd3786\"],[0.5555555555555556,\"#d8576b\"],[0.6666666666666666,\"#ed7953\"],[0.7777777777777778,\"#fb9f3a\"],[0.8888888888888888,\"#fdca26\"],[1.0,\"#f0f921\"]],\"type\":\"heatmap\"}],\"heatmapgl\":[{\"colorbar\":{\"outlinewidth\":0,\"ticks\":\"\"},\"colorscale\":[[0.0,\"#0d0887\"],[0.1111111111111111,\"#46039f\"],[0.2222222222222222,\"#7201a8\"],[0.3333333333333333,\"#9c179e\"],[0.4444444444444444,\"#bd3786\"],[0.5555555555555556,\"#d8576b\"],[0.6666666666666666,\"#ed7953\"],[0.7777777777777778,\"#fb9f3a\"],[0.8888888888888888,\"#fdca26\"],[1.0,\"#f0f921\"]],\"type\":\"heatmapgl\"}],\"histogram\":[{\"marker\":{\"pattern\":{\"fillmode\":\"overlay\",\"size\":10,\"solidity\":0.2}},\"type\":\"histogram\"}],\"histogram2d\":[{\"colorbar\":{\"outlinewidth\":0,\"ticks\":\"\"},\"colorscale\":[[0.0,\"#0d0887\"],[0.1111111111111111,\"#46039f\"],[0.2222222222222222,\"#7201a8\"],[0.3333333333333333,\"#9c179e\"],[0.4444444444444444,\"#bd3786\"],[0.5555555555555556,\"#d8576b\"],[0.6666666666666666,\"#ed7953\"],[0.7777777777777778,\"#fb9f3a\"],[0.8888888888888888,\"#fdca26\"],[1.0,\"#f0f921\"]],\"type\":\"histogram2d\"}],\"histogram2dcontour\":[{\"colorbar\":{\"outlinewidth\":0,\"ticks\":\"\"},\"colorscale\":[[0.0,\"#0d0887\"],[0.1111111111111111,\"#46039f\"],[0.2222222222222222,\"#7201a8\"],[0.3333333333333333,\"#9c179e\"],[0.4444444444444444,\"#bd3786\"],[0.5555555555555556,\"#d8576b\"],[0.6666666666666666,\"#ed7953\"],[0.7777777777777778,\"#fb9f3a\"],[0.8888888888888888,\"#fdca26\"],[1.0,\"#f0f921\"]],\"type\":\"histogram2dcontour\"}],\"mesh3d\":[{\"colorbar\":{\"outlinewidth\":0,\"ticks\":\"\"},\"type\":\"mesh3d\"}],\"parcoords\":[{\"line\":{\"colorbar\":{\"outlinewidth\":0,\"ticks\":\"\"}},\"type\":\"parcoords\"}],\"pie\":[{\"automargin\":true,\"type\":\"pie\"}],\"scatter\":[{\"marker\":{\"colorbar\":{\"outlinewidth\":0,\"ticks\":\"\"}},\"type\":\"scatter\"}],\"scatter3d\":[{\"line\":{\"colorbar\":{\"outlinewidth\":0,\"ticks\":\"\"}},\"marker\":{\"colorbar\":{\"outlinewidth\":0,\"ticks\":\"\"}},\"type\":\"scatter3d\"}],\"scattercarpet\":[{\"marker\":{\"colorbar\":{\"outlinewidth\":0,\"ticks\":\"\"}},\"type\":\"scattercarpet\"}],\"scattergeo\":[{\"marker\":{\"colorbar\":{\"outlinewidth\":0,\"ticks\":\"\"}},\"type\":\"scattergeo\"}],\"scattergl\":[{\"marker\":{\"colorbar\":{\"outlinewidth\":0,\"ticks\":\"\"}},\"type\":\"scattergl\"}],\"scattermapbox\":[{\"marker\":{\"colorbar\":{\"outlinewidth\":0,\"ticks\":\"\"}},\"type\":\"scattermapbox\"}],\"scatterpolar\":[{\"marker\":{\"colorbar\":{\"outlinewidth\":0,\"ticks\":\"\"}},\"type\":\"scatterpolar\"}],\"scatterpolargl\":[{\"marker\":{\"colorbar\":{\"outlinewidth\":0,\"ticks\":\"\"}},\"type\":\"scatterpolargl\"}],\"scatterternary\":[{\"marker\":{\"colorbar\":{\"outlinewidth\":0,\"ticks\":\"\"}},\"type\":\"scatterternary\"}],\"surface\":[{\"colorbar\":{\"outlinewidth\":0,\"ticks\":\"\"},\"colorscale\":[[0.0,\"#0d0887\"],[0.1111111111111111,\"#46039f\"],[0.2222222222222222,\"#7201a8\"],[0.3333333333333333,\"#9c179e\"],[0.4444444444444444,\"#bd3786\"],[0.5555555555555556,\"#d8576b\"],[0.6666666666666666,\"#ed7953\"],[0.7777777777777778,\"#fb9f3a\"],[0.8888888888888888,\"#fdca26\"],[1.0,\"#f0f921\"]],\"type\":\"surface\"}],\"table\":[{\"cells\":{\"fill\":{\"color\":\"#EBF0F8\"},\"line\":{\"color\":\"white\"}},\"header\":{\"fill\":{\"color\":\"#C8D4E3\"},\"line\":{\"color\":\"white\"}},\"type\":\"table\"}]},\"layout\":{\"annotationdefaults\":{\"arrowcolor\":\"#2a3f5f\",\"arrowhead\":0,\"arrowwidth\":1},\"autotypenumbers\":\"strict\",\"coloraxis\":{\"colorbar\":{\"outlinewidth\":0,\"ticks\":\"\"}},\"colorscale\":{\"diverging\":[[0,\"#8e0152\"],[0.1,\"#c51b7d\"],[0.2,\"#de77ae\"],[0.3,\"#f1b6da\"],[0.4,\"#fde0ef\"],[0.5,\"#f7f7f7\"],[0.6,\"#e6f5d0\"],[0.7,\"#b8e186\"],[0.8,\"#7fbc41\"],[0.9,\"#4d9221\"],[1,\"#276419\"]],\"sequential\":[[0.0,\"#0d0887\"],[0.1111111111111111,\"#46039f\"],[0.2222222222222222,\"#7201a8\"],[0.3333333333333333,\"#9c179e\"],[0.4444444444444444,\"#bd3786\"],[0.5555555555555556,\"#d8576b\"],[0.6666666666666666,\"#ed7953\"],[0.7777777777777778,\"#fb9f3a\"],[0.8888888888888888,\"#fdca26\"],[1.0,\"#f0f921\"]],\"sequentialminus\":[[0.0,\"#0d0887\"],[0.1111111111111111,\"#46039f\"],[0.2222222222222222,\"#7201a8\"],[0.3333333333333333,\"#9c179e\"],[0.4444444444444444,\"#bd3786\"],[0.5555555555555556,\"#d8576b\"],[0.6666666666666666,\"#ed7953\"],[0.7777777777777778,\"#fb9f3a\"],[0.8888888888888888,\"#fdca26\"],[1.0,\"#f0f921\"]]},\"colorway\":[\"#636efa\",\"#EF553B\",\"#00cc96\",\"#ab63fa\",\"#FFA15A\",\"#19d3f3\",\"#FF6692\",\"#B6E880\",\"#FF97FF\",\"#FECB52\"],\"font\":{\"color\":\"#2a3f5f\"},\"geo\":{\"bgcolor\":\"white\",\"lakecolor\":\"white\",\"landcolor\":\"#E5ECF6\",\"showlakes\":true,\"showland\":true,\"subunitcolor\":\"white\"},\"hoverlabel\":{\"align\":\"left\"},\"hovermode\":\"closest\",\"mapbox\":{\"style\":\"light\"},\"paper_bgcolor\":\"white\",\"plot_bgcolor\":\"#E5ECF6\",\"polar\":{\"angularaxis\":{\"gridcolor\":\"white\",\"linecolor\":\"white\",\"ticks\":\"\"},\"bgcolor\":\"#E5ECF6\",\"radialaxis\":{\"gridcolor\":\"white\",\"linecolor\":\"white\",\"ticks\":\"\"}},\"scene\":{\"xaxis\":{\"backgroundcolor\":\"#E5ECF6\",\"gridcolor\":\"white\",\"gridwidth\":2,\"linecolor\":\"white\",\"showbackground\":true,\"ticks\":\"\",\"zerolinecolor\":\"white\"},\"yaxis\":{\"backgroundcolor\":\"#E5ECF6\",\"gridcolor\":\"white\",\"gridwidth\":2,\"linecolor\":\"white\",\"showbackground\":true,\"ticks\":\"\",\"zerolinecolor\":\"white\"},\"zaxis\":{\"backgroundcolor\":\"#E5ECF6\",\"gridcolor\":\"white\",\"gridwidth\":2,\"linecolor\":\"white\",\"showbackground\":true,\"ticks\":\"\",\"zerolinecolor\":\"white\"}},\"shapedefaults\":{\"line\":{\"color\":\"#2a3f5f\"}},\"ternary\":{\"aaxis\":{\"gridcolor\":\"white\",\"linecolor\":\"white\",\"ticks\":\"\"},\"baxis\":{\"gridcolor\":\"white\",\"linecolor\":\"white\",\"ticks\":\"\"},\"bgcolor\":\"#E5ECF6\",\"caxis\":{\"gridcolor\":\"white\",\"linecolor\":\"white\",\"ticks\":\"\"}},\"title\":{\"x\":0.05},\"xaxis\":{\"automargin\":true,\"gridcolor\":\"white\",\"linecolor\":\"white\",\"ticks\":\"\",\"title\":{\"standoff\":15},\"zerolinecolor\":\"white\",\"zerolinewidth\":2},\"yaxis\":{\"automargin\":true,\"gridcolor\":\"white\",\"linecolor\":\"white\",\"ticks\":\"\",\"title\":{\"standoff\":15},\"zerolinecolor\":\"white\",\"zerolinewidth\":2}}},\"title\":{\"text\":\"Feature Contribution\"},\"uniformtext\":{\"minsize\":14,\"mode\":\"show\"},\"width\":1000,\"xaxis\":{\"anchor\":\"y\",\"domain\":[0.0,1.0],\"title\":{\"text\":\"timestep\"}},\"yaxis\":{\"anchor\":\"x\",\"domain\":[0.0,1.0],\"title\":{\"text\":\"Feature Contribution in key timesteps\"}}},                        {\"responsive\": true}                    ).then(function(){\n",
       "                            \n",
       "var gd = document.getElementById('b1dc62ad-f51d-45cd-b101-fbf323a8c370');\n",
       "var x = new MutationObserver(function (mutations, observer) {{\n",
       "        var display = window.getComputedStyle(gd).display;\n",
       "        if (!display || display === 'none') {{\n",
       "            console.log([gd, 'removed!']);\n",
       "            Plotly.purge(gd);\n",
       "            observer.disconnect();\n",
       "        }}\n",
       "}});\n",
       "\n",
       "// Listen for the removal of the full notebook cells\n",
       "var notebookContainer = gd.closest('#notebook-container');\n",
       "if (notebookContainer) {{\n",
       "    x.observe(notebookContainer, {childList: true});\n",
       "}}\n",
       "\n",
       "// Listen for the clearing of the current output cell\n",
       "var outputEl = gd.closest('.output');\n",
       "if (outputEl) {{\n",
       "    x.observe(outputEl, {childList: true});\n",
       "}}\n",
       "\n",
       "                        })                };                            </script>        </div>\n",
       "</body>\n",
       "</html>"
      ]
     },
     "metadata": {}
    }
   ],
   "metadata": {
    "colab": {
     "base_uri": "https://localhost:8080/",
     "height": 687
    },
    "id": "AfjdTwwbia3O",
    "executionInfo": {
     "status": "ok",
     "timestamp": 1630047203215,
     "user_tz": -600,
     "elapsed": 318,
     "user": {
      "displayName": "Bemali Wickramanayake",
      "photoUrl": "",
      "userId": "06528833813357396771"
     }
    },
    "outputId": "af950ab5-931f-4b13-f40b-db2482f43b59"
   }
  },
  {
   "cell_type": "markdown",
   "source": [
    "###### Local Explanations"
   ],
   "metadata": {
    "id": "RoHphz4Sixwm"
   }
  },
  {
   "cell_type": "code",
   "execution_count": null,
   "source": [
    "df_results = results_df(y_test,y_pred,index_ne)\n",
    "df_results [(df_results ['prediction'] == 'W_Assessing the application') & (df_results ['pred_class'] == True) & (df_results ['prediction_prob'] >=0.7) ].head(3)"
   ],
   "outputs": [
    {
     "output_type": "execute_result",
     "data": {
      "text/plain": [
       "    sample_index                   prediction  ... prediction_prob  pred_class\n",
       "3              3  W_Assessing the application  ...          0.7529        True\n",
       "9              9  W_Assessing the application  ...          0.7353        True\n",
       "15            15  W_Assessing the application  ...          0.7370        True\n",
       "\n",
       "[3 rows x 5 columns]"
      ],
      "text/html": [
       "<div>\n",
       "<style scoped>\n",
       "    .dataframe tbody tr th:only-of-type {\n",
       "        vertical-align: middle;\n",
       "    }\n",
       "\n",
       "    .dataframe tbody tr th {\n",
       "        vertical-align: top;\n",
       "    }\n",
       "\n",
       "    .dataframe thead th {\n",
       "        text-align: right;\n",
       "    }\n",
       "</style>\n",
       "<table border=\"1\" class=\"dataframe\">\n",
       "  <thead>\n",
       "    <tr style=\"text-align: right;\">\n",
       "      <th></th>\n",
       "      <th>sample_index</th>\n",
       "      <th>prediction</th>\n",
       "      <th>ground_truth</th>\n",
       "      <th>prediction_prob</th>\n",
       "      <th>pred_class</th>\n",
       "    </tr>\n",
       "  </thead>\n",
       "  <tbody>\n",
       "    <tr>\n",
       "      <th>3</th>\n",
       "      <td>3</td>\n",
       "      <td>W_Assessing the application</td>\n",
       "      <td>W_Assessing the application</td>\n",
       "      <td>0.7529</td>\n",
       "      <td>True</td>\n",
       "    </tr>\n",
       "    <tr>\n",
       "      <th>9</th>\n",
       "      <td>9</td>\n",
       "      <td>W_Assessing the application</td>\n",
       "      <td>W_Assessing the application</td>\n",
       "      <td>0.7353</td>\n",
       "      <td>True</td>\n",
       "    </tr>\n",
       "    <tr>\n",
       "      <th>15</th>\n",
       "      <td>15</td>\n",
       "      <td>W_Assessing the application</td>\n",
       "      <td>W_Assessing the application</td>\n",
       "      <td>0.7370</td>\n",
       "      <td>True</td>\n",
       "    </tr>\n",
       "  </tbody>\n",
       "</table>\n",
       "</div>"
      ]
     },
     "metadata": {},
     "execution_count": 64
    }
   ],
   "metadata": {
    "colab": {
     "base_uri": "https://localhost:8080/",
     "height": 142
    },
    "id": "oTLOh-XYi0_v",
    "executionInfo": {
     "status": "ok",
     "timestamp": 1629793442224,
     "user_tz": -600,
     "elapsed": 293,
     "user": {
      "displayName": "Bemali Wickramanayake",
      "photoUrl": "",
      "userId": "06528833813357396771"
     }
    },
    "outputId": "eebfdbd6-54a6-4851-9d6c-43e5ffe1b949"
   }
  },
  {
   "cell_type": "code",
   "execution_count": 20,
   "source": [
    "explain_local(output_with_attention,x_test,y_test,index_ac,index_rl,index_ne,3,53)"
   ],
   "outputs": [
    {
     "output_type": "stream",
     "name": "stdout",
     "text": [
      "prediction: O_SENT_BACK\n",
      "ground truth: O_CANCELLED_DECLINED\n",
      "prediction probability:0.8064\n"
     ]
    },
    {
     "output_type": "stream",
     "name": "stderr",
     "text": [
      "/usr/local/lib/python3.7/dist-packages/numpy/core/_asarray.py:83: VisibleDeprecationWarning:\n",
      "\n",
      "Creating an ndarray from ragged nested sequences (which is a list-or-tuple of lists-or-tuples-or ndarrays with different lengths or shapes) is deprecated. If you meant to do this, you must specify 'dtype=object' when creating the ndarray\n",
      "\n"
     ]
    },
    {
     "output_type": "display_data",
     "data": {
      "text/html": [
       "<html>\n",
       "<head><meta charset=\"utf-8\" /></head>\n",
       "<body>\n",
       "    <div>            <script src=\"https://cdnjs.cloudflare.com/ajax/libs/mathjax/2.7.5/MathJax.js?config=TeX-AMS-MML_SVG\"></script><script type=\"text/javascript\">if (window.MathJax) {MathJax.Hub.Config({SVG: {font: \"STIX-Web\"}});}</script>                <script type=\"text/javascript\">window.PlotlyConfig = {MathJaxConfig: 'local'};</script>\n",
       "        <script src=\"https://cdn.plot.ly/plotly-2.3.1.min.js\"></script>                <div id=\"9912d9ab-82c7-4dfa-a084-d2cdec5858ee\" class=\"plotly-graph-div\" style=\"height:600px; width:1000px;\"></div>            <script type=\"text/javascript\">                                    window.PLOTLYENV=window.PLOTLYENV || {};                                    if (document.getElementById(\"9912d9ab-82c7-4dfa-a084-d2cdec5858ee\")) {                    Plotly.newPlot(                        \"9912d9ab-82c7-4dfa-a084-d2cdec5858ee\",                        [{\"alignmentgroup\":\"True\",\"hovertemplate\":\"feature_category=activity<br>timestep=%{x}<br>Feature Contribution in key timesteps=%{y}<br>feature=%{text}<extra></extra>\",\"legendgroup\":\"activity\",\"marker\":{\"color\":\"darkcyan\",\"pattern\":{\"shape\":\"\"}},\"name\":\"activity\",\"offsetgroup\":\"activity\",\"orientation\":\"v\",\"showlegend\":true,\"text\":[\"W_Calling after sent offers\",\"none\",\"none\",\"none\",\"O_SENT\"],\"textangle\":90,\"textfont\":{\"size\":14},\"textposition\":\"auto\",\"type\":\"bar\",\"x\":[5.0,4.0,3.0,2.0,1.0],\"xaxis\":\"x\",\"y\":[2.7069266262527513e-08,null,null,null,0.9984099337539902],\"yaxis\":\"y\"},{\"alignmentgroup\":\"True\",\"hovertemplate\":\"feature_category=role<br>timestep=%{x}<br>Feature Contribution in key timesteps=%{y}<br>feature=%{text}<extra></extra>\",\"legendgroup\":\"role\",\"marker\":{\"color\":\"darkslateblue\",\"pattern\":{\"shape\":\"\"}},\"name\":\"role\",\"offsetgroup\":\"role\",\"orientation\":\"v\",\"showlegend\":true,\"text\":[\"none\",\"none\",\"none\",\"role_11169\",\"role_11169\"],\"textangle\":90,\"textfont\":{\"size\":14},\"textposition\":\"auto\",\"type\":\"bar\",\"x\":[5.0,4.0,3.0,2.0,1.0],\"xaxis\":\"x\",\"y\":[null,null,null,8.309214514234942e-05,0.9885430913771671],\"yaxis\":\"y\"},{\"alignmentgroup\":\"True\",\"hovertemplate\":\"feature_category=time_lapsed<br>timestep=%{x}<br>Feature Contribution in key timesteps=%{y}<br>feature=%{text}<extra></extra>\",\"legendgroup\":\"time_lapsed\",\"marker\":{\"color\":\"lightslategray\",\"pattern\":{\"shape\":\"\"}},\"name\":\"time_lapsed\",\"offsetgroup\":\"time_lapsed\",\"orientation\":\"v\",\"showlegend\":true,\"text\":[\"t_lapsed\",\"t_lapsed\",\"t_lapsed\",\"t_lapsed\",\"t_lapsed\"],\"textangle\":90,\"textfont\":{\"size\":14},\"textposition\":\"auto\",\"type\":\"bar\",\"x\":[5.0,4.0,3.0,2.0,1.0],\"xaxis\":\"x\",\"y\":[3.366981733018306e-08,null,null,1.466830487862128e-05,0.13523036960786783],\"yaxis\":\"y\"}],                        {\"bargap\":0.05,\"barmode\":\"group\",\"height\":600,\"legend\":{\"title\":{\"text\":\"feature_category\"},\"tracegroupgap\":0},\"plot_bgcolor\":\"rgb(237,237,235)\",\"template\":{\"data\":{\"bar\":[{\"error_x\":{\"color\":\"#2a3f5f\"},\"error_y\":{\"color\":\"#2a3f5f\"},\"marker\":{\"line\":{\"color\":\"#E5ECF6\",\"width\":0.5},\"pattern\":{\"fillmode\":\"overlay\",\"size\":10,\"solidity\":0.2}},\"type\":\"bar\"}],\"barpolar\":[{\"marker\":{\"line\":{\"color\":\"#E5ECF6\",\"width\":0.5},\"pattern\":{\"fillmode\":\"overlay\",\"size\":10,\"solidity\":0.2}},\"type\":\"barpolar\"}],\"carpet\":[{\"aaxis\":{\"endlinecolor\":\"#2a3f5f\",\"gridcolor\":\"white\",\"linecolor\":\"white\",\"minorgridcolor\":\"white\",\"startlinecolor\":\"#2a3f5f\"},\"baxis\":{\"endlinecolor\":\"#2a3f5f\",\"gridcolor\":\"white\",\"linecolor\":\"white\",\"minorgridcolor\":\"white\",\"startlinecolor\":\"#2a3f5f\"},\"type\":\"carpet\"}],\"choropleth\":[{\"colorbar\":{\"outlinewidth\":0,\"ticks\":\"\"},\"type\":\"choropleth\"}],\"contour\":[{\"colorbar\":{\"outlinewidth\":0,\"ticks\":\"\"},\"colorscale\":[[0.0,\"#0d0887\"],[0.1111111111111111,\"#46039f\"],[0.2222222222222222,\"#7201a8\"],[0.3333333333333333,\"#9c179e\"],[0.4444444444444444,\"#bd3786\"],[0.5555555555555556,\"#d8576b\"],[0.6666666666666666,\"#ed7953\"],[0.7777777777777778,\"#fb9f3a\"],[0.8888888888888888,\"#fdca26\"],[1.0,\"#f0f921\"]],\"type\":\"contour\"}],\"contourcarpet\":[{\"colorbar\":{\"outlinewidth\":0,\"ticks\":\"\"},\"type\":\"contourcarpet\"}],\"heatmap\":[{\"colorbar\":{\"outlinewidth\":0,\"ticks\":\"\"},\"colorscale\":[[0.0,\"#0d0887\"],[0.1111111111111111,\"#46039f\"],[0.2222222222222222,\"#7201a8\"],[0.3333333333333333,\"#9c179e\"],[0.4444444444444444,\"#bd3786\"],[0.5555555555555556,\"#d8576b\"],[0.6666666666666666,\"#ed7953\"],[0.7777777777777778,\"#fb9f3a\"],[0.8888888888888888,\"#fdca26\"],[1.0,\"#f0f921\"]],\"type\":\"heatmap\"}],\"heatmapgl\":[{\"colorbar\":{\"outlinewidth\":0,\"ticks\":\"\"},\"colorscale\":[[0.0,\"#0d0887\"],[0.1111111111111111,\"#46039f\"],[0.2222222222222222,\"#7201a8\"],[0.3333333333333333,\"#9c179e\"],[0.4444444444444444,\"#bd3786\"],[0.5555555555555556,\"#d8576b\"],[0.6666666666666666,\"#ed7953\"],[0.7777777777777778,\"#fb9f3a\"],[0.8888888888888888,\"#fdca26\"],[1.0,\"#f0f921\"]],\"type\":\"heatmapgl\"}],\"histogram\":[{\"marker\":{\"pattern\":{\"fillmode\":\"overlay\",\"size\":10,\"solidity\":0.2}},\"type\":\"histogram\"}],\"histogram2d\":[{\"colorbar\":{\"outlinewidth\":0,\"ticks\":\"\"},\"colorscale\":[[0.0,\"#0d0887\"],[0.1111111111111111,\"#46039f\"],[0.2222222222222222,\"#7201a8\"],[0.3333333333333333,\"#9c179e\"],[0.4444444444444444,\"#bd3786\"],[0.5555555555555556,\"#d8576b\"],[0.6666666666666666,\"#ed7953\"],[0.7777777777777778,\"#fb9f3a\"],[0.8888888888888888,\"#fdca26\"],[1.0,\"#f0f921\"]],\"type\":\"histogram2d\"}],\"histogram2dcontour\":[{\"colorbar\":{\"outlinewidth\":0,\"ticks\":\"\"},\"colorscale\":[[0.0,\"#0d0887\"],[0.1111111111111111,\"#46039f\"],[0.2222222222222222,\"#7201a8\"],[0.3333333333333333,\"#9c179e\"],[0.4444444444444444,\"#bd3786\"],[0.5555555555555556,\"#d8576b\"],[0.6666666666666666,\"#ed7953\"],[0.7777777777777778,\"#fb9f3a\"],[0.8888888888888888,\"#fdca26\"],[1.0,\"#f0f921\"]],\"type\":\"histogram2dcontour\"}],\"mesh3d\":[{\"colorbar\":{\"outlinewidth\":0,\"ticks\":\"\"},\"type\":\"mesh3d\"}],\"parcoords\":[{\"line\":{\"colorbar\":{\"outlinewidth\":0,\"ticks\":\"\"}},\"type\":\"parcoords\"}],\"pie\":[{\"automargin\":true,\"type\":\"pie\"}],\"scatter\":[{\"marker\":{\"colorbar\":{\"outlinewidth\":0,\"ticks\":\"\"}},\"type\":\"scatter\"}],\"scatter3d\":[{\"line\":{\"colorbar\":{\"outlinewidth\":0,\"ticks\":\"\"}},\"marker\":{\"colorbar\":{\"outlinewidth\":0,\"ticks\":\"\"}},\"type\":\"scatter3d\"}],\"scattercarpet\":[{\"marker\":{\"colorbar\":{\"outlinewidth\":0,\"ticks\":\"\"}},\"type\":\"scattercarpet\"}],\"scattergeo\":[{\"marker\":{\"colorbar\":{\"outlinewidth\":0,\"ticks\":\"\"}},\"type\":\"scattergeo\"}],\"scattergl\":[{\"marker\":{\"colorbar\":{\"outlinewidth\":0,\"ticks\":\"\"}},\"type\":\"scattergl\"}],\"scattermapbox\":[{\"marker\":{\"colorbar\":{\"outlinewidth\":0,\"ticks\":\"\"}},\"type\":\"scattermapbox\"}],\"scatterpolar\":[{\"marker\":{\"colorbar\":{\"outlinewidth\":0,\"ticks\":\"\"}},\"type\":\"scatterpolar\"}],\"scatterpolargl\":[{\"marker\":{\"colorbar\":{\"outlinewidth\":0,\"ticks\":\"\"}},\"type\":\"scatterpolargl\"}],\"scatterternary\":[{\"marker\":{\"colorbar\":{\"outlinewidth\":0,\"ticks\":\"\"}},\"type\":\"scatterternary\"}],\"surface\":[{\"colorbar\":{\"outlinewidth\":0,\"ticks\":\"\"},\"colorscale\":[[0.0,\"#0d0887\"],[0.1111111111111111,\"#46039f\"],[0.2222222222222222,\"#7201a8\"],[0.3333333333333333,\"#9c179e\"],[0.4444444444444444,\"#bd3786\"],[0.5555555555555556,\"#d8576b\"],[0.6666666666666666,\"#ed7953\"],[0.7777777777777778,\"#fb9f3a\"],[0.8888888888888888,\"#fdca26\"],[1.0,\"#f0f921\"]],\"type\":\"surface\"}],\"table\":[{\"cells\":{\"fill\":{\"color\":\"#EBF0F8\"},\"line\":{\"color\":\"white\"}},\"header\":{\"fill\":{\"color\":\"#C8D4E3\"},\"line\":{\"color\":\"white\"}},\"type\":\"table\"}]},\"layout\":{\"annotationdefaults\":{\"arrowcolor\":\"#2a3f5f\",\"arrowhead\":0,\"arrowwidth\":1},\"autotypenumbers\":\"strict\",\"coloraxis\":{\"colorbar\":{\"outlinewidth\":0,\"ticks\":\"\"}},\"colorscale\":{\"diverging\":[[0,\"#8e0152\"],[0.1,\"#c51b7d\"],[0.2,\"#de77ae\"],[0.3,\"#f1b6da\"],[0.4,\"#fde0ef\"],[0.5,\"#f7f7f7\"],[0.6,\"#e6f5d0\"],[0.7,\"#b8e186\"],[0.8,\"#7fbc41\"],[0.9,\"#4d9221\"],[1,\"#276419\"]],\"sequential\":[[0.0,\"#0d0887\"],[0.1111111111111111,\"#46039f\"],[0.2222222222222222,\"#7201a8\"],[0.3333333333333333,\"#9c179e\"],[0.4444444444444444,\"#bd3786\"],[0.5555555555555556,\"#d8576b\"],[0.6666666666666666,\"#ed7953\"],[0.7777777777777778,\"#fb9f3a\"],[0.8888888888888888,\"#fdca26\"],[1.0,\"#f0f921\"]],\"sequentialminus\":[[0.0,\"#0d0887\"],[0.1111111111111111,\"#46039f\"],[0.2222222222222222,\"#7201a8\"],[0.3333333333333333,\"#9c179e\"],[0.4444444444444444,\"#bd3786\"],[0.5555555555555556,\"#d8576b\"],[0.6666666666666666,\"#ed7953\"],[0.7777777777777778,\"#fb9f3a\"],[0.8888888888888888,\"#fdca26\"],[1.0,\"#f0f921\"]]},\"colorway\":[\"#636efa\",\"#EF553B\",\"#00cc96\",\"#ab63fa\",\"#FFA15A\",\"#19d3f3\",\"#FF6692\",\"#B6E880\",\"#FF97FF\",\"#FECB52\"],\"font\":{\"color\":\"#2a3f5f\"},\"geo\":{\"bgcolor\":\"white\",\"lakecolor\":\"white\",\"landcolor\":\"#E5ECF6\",\"showlakes\":true,\"showland\":true,\"subunitcolor\":\"white\"},\"hoverlabel\":{\"align\":\"left\"},\"hovermode\":\"closest\",\"mapbox\":{\"style\":\"light\"},\"paper_bgcolor\":\"white\",\"plot_bgcolor\":\"#E5ECF6\",\"polar\":{\"angularaxis\":{\"gridcolor\":\"white\",\"linecolor\":\"white\",\"ticks\":\"\"},\"bgcolor\":\"#E5ECF6\",\"radialaxis\":{\"gridcolor\":\"white\",\"linecolor\":\"white\",\"ticks\":\"\"}},\"scene\":{\"xaxis\":{\"backgroundcolor\":\"#E5ECF6\",\"gridcolor\":\"white\",\"gridwidth\":2,\"linecolor\":\"white\",\"showbackground\":true,\"ticks\":\"\",\"zerolinecolor\":\"white\"},\"yaxis\":{\"backgroundcolor\":\"#E5ECF6\",\"gridcolor\":\"white\",\"gridwidth\":2,\"linecolor\":\"white\",\"showbackground\":true,\"ticks\":\"\",\"zerolinecolor\":\"white\"},\"zaxis\":{\"backgroundcolor\":\"#E5ECF6\",\"gridcolor\":\"white\",\"gridwidth\":2,\"linecolor\":\"white\",\"showbackground\":true,\"ticks\":\"\",\"zerolinecolor\":\"white\"}},\"shapedefaults\":{\"line\":{\"color\":\"#2a3f5f\"}},\"ternary\":{\"aaxis\":{\"gridcolor\":\"white\",\"linecolor\":\"white\",\"ticks\":\"\"},\"baxis\":{\"gridcolor\":\"white\",\"linecolor\":\"white\",\"ticks\":\"\"},\"bgcolor\":\"#E5ECF6\",\"caxis\":{\"gridcolor\":\"white\",\"linecolor\":\"white\",\"ticks\":\"\"}},\"title\":{\"x\":0.05},\"xaxis\":{\"automargin\":true,\"gridcolor\":\"white\",\"linecolor\":\"white\",\"ticks\":\"\",\"title\":{\"standoff\":15},\"zerolinecolor\":\"white\",\"zerolinewidth\":2},\"yaxis\":{\"automargin\":true,\"gridcolor\":\"white\",\"linecolor\":\"white\",\"ticks\":\"\",\"title\":{\"standoff\":15},\"zerolinecolor\":\"white\",\"zerolinewidth\":2}}},\"title\":{\"text\":\"Feature Contribution\"},\"uniformtext\":{\"minsize\":14,\"mode\":\"show\"},\"width\":1000,\"xaxis\":{\"anchor\":\"y\",\"domain\":[0.0,1.0],\"title\":{\"text\":\"timestep\"}},\"yaxis\":{\"anchor\":\"x\",\"domain\":[0.0,1.0],\"title\":{\"text\":\"Feature Contribution in key timesteps\"}}},                        {\"responsive\": true}                    ).then(function(){\n",
       "                            \n",
       "var gd = document.getElementById('9912d9ab-82c7-4dfa-a084-d2cdec5858ee');\n",
       "var x = new MutationObserver(function (mutations, observer) {{\n",
       "        var display = window.getComputedStyle(gd).display;\n",
       "        if (!display || display === 'none') {{\n",
       "            console.log([gd, 'removed!']);\n",
       "            Plotly.purge(gd);\n",
       "            observer.disconnect();\n",
       "        }}\n",
       "}});\n",
       "\n",
       "// Listen for the removal of the full notebook cells\n",
       "var notebookContainer = gd.closest('#notebook-container');\n",
       "if (notebookContainer) {{\n",
       "    x.observe(notebookContainer, {childList: true});\n",
       "}}\n",
       "\n",
       "// Listen for the clearing of the current output cell\n",
       "var outputEl = gd.closest('.output');\n",
       "if (outputEl) {{\n",
       "    x.observe(outputEl, {childList: true});\n",
       "}}\n",
       "\n",
       "                        })                };                            </script>        </div>\n",
       "</body>\n",
       "</html>"
      ]
     },
     "metadata": {}
    },
    {
     "output_type": "stream",
     "name": "stdout",
     "text": [
      "process flowchart\n",
      "st12=>start: start O_SENT\n",
      "op13=>operation: W_Filling in information for the application_role_11169\n",
      "op14=>operation: W_Calling after sent offers_role_11119\n",
      "op15=>operation: W_Calling after sent offers_role_11119\n",
      "op16=>operation: W_Calling after sent offers_role_10982\n",
      "\n",
      "st12->op13\n",
      "op13->op14\n",
      "op14->op15\n",
      "op15->op16\n",
      "\n",
      "\n",
      "\n"
     ]
    }
   ],
   "metadata": {
    "colab": {
     "base_uri": "https://localhost:8080/",
     "height": 990
    },
    "id": "RVLDKnGljIny",
    "executionInfo": {
     "status": "ok",
     "timestamp": 1630046812194,
     "user_tz": -600,
     "elapsed": 666,
     "user": {
      "displayName": "Bemali Wickramanayake",
      "photoUrl": "",
      "userId": "06528833813357396771"
     }
    },
    "outputId": "c63e221d-5438-49dd-e179-a9352931e773"
   }
  }
 ]
}
