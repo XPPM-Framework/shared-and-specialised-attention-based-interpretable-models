{
 "cells": [
  {
   "cell_type": "markdown",
   "metadata": {
    "id": "oi2FRX1e7TCO"
   },
   "source": [
    "### **BPIC 2012 - No milestone**\n"
   ]
  },
  {
   "cell_type": "code",
   "execution_count": 1,
   "metadata": {
    "executionInfo": {
     "elapsed": 3680,
     "status": "ok",
     "timestamp": 1629365045611,
     "user": {
      "displayName": "Bemali Wickramanayake",
      "photoUrl": "",
      "userId": "06528833813357396771"
     },
     "user_tz": -600
    },
    "id": "p2xCTSA7IHn2"
   },
   "outputs": [],
   "source": [
    "import os\n",
    "import numpy as np\n",
    "import pandas as pd\n",
    "import seaborn as sns\n",
    "import matplotlib.pyplot as plt\n",
    "\n",
    "from data.processor import *\n",
    "from data.args import *\n",
    "\n",
    "from tensorflow.keras.utils import to_categorical\n"
   ]
  },
  {
   "cell_type": "markdown",
   "metadata": {
    "id": "ZvURHkYmIHn3"
   },
   "source": [
    "### Define the experiment parameters"
   ]
  },
  {
   "cell_type": "code",
   "execution_count": 2,
   "metadata": {
    "executionInfo": {
     "elapsed": 273,
     "status": "ok",
     "timestamp": 1629365048401,
     "user": {
      "displayName": "Bemali Wickramanayake",
      "photoUrl": "",
      "userId": "06528833813357396771"
     },
     "user_tz": -600
    },
    "id": "eMBUEMJhIHn3"
   },
   "outputs": [],
   "source": [
    "milestone = 'All' #'A_PREACCEPTED' # 'W_Nabellen offertes', 'All'\n",
    "subset = \"W\"\n",
    "experiment =  'OHE'#'Standard'#'OHE', 'No_loops'\n",
    "n_size = 5\n",
    "max_size = 1000 #  3, 5, 10, 15, 20, 30, 50, 95\n",
    "min_size = 0  # 0, 3, 5, 10, 15, 20, 30, 50"
   ]
  },
  {
   "cell_type": "markdown",
   "metadata": {
    "id": "d14smtqnCAn0"
   },
   "source": [
    "### Setting up the key parameters\n"
   ]
  },
  {
   "cell_type": "code",
   "execution_count": 3,
   "metadata": {
    "id": "62Ly-bFZIHn5"
   },
   "outputs": [],
   "source": [
    "# # For local environment only\n",
    "\n",
    "MY_WORKSPACE_DIR = os.path.join(os.getcwd(),'BPIC12')\n",
    "MILESTONE_DIR = os.path.join(os.path.join(MY_WORKSPACE_DIR, milestone),experiment)"
   ]
  },
  {
   "cell_type": "code",
   "execution_count": 4,
   "metadata": {
    "colab": {
     "base_uri": "https://localhost:8080/"
    },
    "executionInfo": {
     "elapsed": 279,
     "status": "ok",
     "timestamp": 1629365054405,
     "user": {
      "displayName": "Bemali Wickramanayake",
      "photoUrl": "",
      "userId": "06528833813357396771"
     },
     "user_tz": -600
    },
    "id": "e4CFg9VOIHn6",
    "outputId": "925a418b-f6c8-48cd-a27b-d5130550844e"
   },
   "outputs": [
    {
     "data": {
      "text/plain": [
       "{'folder': 'c:\\\\Users\\\\mithr\\\\Documents\\\\GitHub\\\\KBS-SI-Paper\\\\BPIC12\\\\All\\\\OHE\\\\output_files',\n",
       " 'lstm_act': None,\n",
       " 'dense_act': None,\n",
       " 'optim': 'Adam',\n",
       " 'norm_method': 'lognorm',\n",
       " 'model_type': 'shared_cat',\n",
       " 'l_size': 50,\n",
       " 'n_size': 5,\n",
       " 'file_name': 'c:\\\\Users\\\\mithr\\\\Documents\\\\GitHub\\\\KBS-SI-Paper\\\\BPIC12\\\\BPIC_2012_Prefixes.csv',\n",
       " 'file_name_all': 'c:\\\\Users\\\\mithr\\\\Documents\\\\GitHub\\\\KBS-SI-Paper\\\\BPIC12\\\\BPIC_2012_Prefixes_all.csv',\n",
       " 'processed_file_name': 'c:\\\\Users\\\\mithr\\\\Documents\\\\GitHub\\\\KBS-SI-Paper\\\\BPIC12\\\\All\\\\OHE\\\\BPIC_2012_Processed.csv',\n",
       " 'processed_training_vec': 'c:\\\\Users\\\\mithr\\\\Documents\\\\GitHub\\\\KBS-SI-Paper\\\\BPIC12\\\\All\\\\OHE\\\\vec_training.p',\n",
       " 'processed_test_vec': 'c:\\\\Users\\\\mithr\\\\Documents\\\\GitHub\\\\KBS-SI-Paper\\\\BPIC12\\\\All\\\\OHE\\\\vec_test.p',\n",
       " 'processed_val_vec': 'c:\\\\Users\\\\mithr\\\\Documents\\\\GitHub\\\\KBS-SI-Paper\\\\BPIC12\\\\All\\\\OHE\\\\vec_val.p',\n",
       " 'weights': 'c:\\\\Users\\\\mithr\\\\Documents\\\\GitHub\\\\KBS-SI-Paper\\\\BPIC12\\\\All\\\\OHE\\\\weights.p',\n",
       " 'indexes': 'c:\\\\Users\\\\mithr\\\\Documents\\\\GitHub\\\\KBS-SI-Paper\\\\BPIC12\\\\All\\\\OHE\\\\indexes.p',\n",
       " 'pre_index': 'c:\\\\Users\\\\mithr\\\\Documents\\\\GitHub\\\\KBS-SI-Paper\\\\BPIC12\\\\All\\\\OHE\\\\pre_index.p',\n",
       " 'args': 'c:\\\\Users\\\\mithr\\\\Documents\\\\GitHub\\\\KBS-SI-Paper\\\\BPIC12\\\\All\\\\OHE\\\\args.p',\n",
       " 'milestone': 'All',\n",
       " 'experiment': 'OHE',\n",
       " 'prefix_length': 'fixed',\n",
       " 'log_name': 'bpic12'}"
      ]
     },
     "execution_count": 4,
     "metadata": {},
     "output_type": "execute_result"
    }
   ],
   "source": [
    "args = get_parameters('bpic12', MILESTONE_DIR, MY_WORKSPACE_DIR, milestone, experiment,n_size)\n",
    "args"
   ]
  },
  {
   "cell_type": "code",
   "execution_count": 5,
   "metadata": {
    "colab": {
     "base_uri": "https://localhost:8080/"
    },
    "executionInfo": {
     "elapsed": 283,
     "status": "ok",
     "timestamp": 1629365057701,
     "user": {
      "displayName": "Bemali Wickramanayake",
      "photoUrl": "",
      "userId": "06528833813357396771"
     },
     "user_tz": -600
    },
    "id": "xO0yfuTDNsr-",
    "outputId": "e9608f8b-f6ce-4ef1-9c22-104915574331"
   },
   "outputs": [],
   "source": [
    "#This code will be specific for all next activity prediction only, since we save the models and vectors by prefix length groups\n",
    "# if milestone == 'All':\n",
    "#   args['indexes'] = MILESTONE_DIR+'indexes_'+str(max_size)+'.p'\n",
    "#   args['pre_index'] = MILESTONE_DIR+'pre_index_'+str(max_size)+'.p'\n",
    "#   args['processed_test_vec'] = MILESTONE_DIR+'vec_test_'+str(max_size)+'.p'\n",
    "#   args['processed_training_vec'] = MILESTONE_DIR+'vec_training_'+str(max_size)+'.p'\n",
    "#   args['weights'] = MILESTONE_DIR+'weights_'+str(max_size)+'.p'\n",
    "\n",
    "args['file_name_A_ex'] = os.path.join(os.path.join(MY_WORKSPACE_DIR, \"Translated_dataset\"), \"bpic12_translated_completed_A_ex.csv\" )\n",
    "args['file_name_O_ex'] = os.path.join(os.path.join(MY_WORKSPACE_DIR, \"Translated_dataset\"), \"bpic12_translated_completed_O_ex.csv\" )\n",
    "args['file_name_A_all'] = os.path.join(os.path.join(MY_WORKSPACE_DIR, \"Translated_dataset\"), \"bpic12_translated_completed_A_all.csv\" )\n",
    "args['file_name_O_all'] = os.path.join(os.path.join(MY_WORKSPACE_DIR, \"Translated_dataset\"), \"bpic12_translated_completed_O_all.csv\" )\n",
    "args['file_name_W_all'] = os.path.join(os.path.join(MY_WORKSPACE_DIR, \"Translated_dataset\"), \"bpic12_translated_completed_W_all.csv\" )"
   ]
  },
  {
   "cell_type": "markdown",
   "metadata": {
    "id": "smQs5TIjOLGO"
   },
   "source": [
    "###Data Preprocessing"
   ]
  },
  {
   "cell_type": "code",
   "execution_count": 6,
   "metadata": {
    "colab": {
     "base_uri": "https://localhost:8080/",
     "height": 202
    },
    "executionInfo": {
     "elapsed": 2246,
     "status": "ok",
     "timestamp": 1629364070857,
     "user": {
      "displayName": "Bemali Wickramanayake",
      "photoUrl": "",
      "userId": "06528833813357396771"
     },
     "user_tz": -600
    },
    "id": "NGwVWx-gO0dd",
    "outputId": "0f75735a-41c5-45c1-87b7-59534c190be4"
   },
   "outputs": [
    {
     "data": {
      "text/html": [
       "<div>\n",
       "<style scoped>\n",
       "    .dataframe tbody tr th:only-of-type {\n",
       "        vertical-align: middle;\n",
       "    }\n",
       "\n",
       "    .dataframe tbody tr th {\n",
       "        vertical-align: top;\n",
       "    }\n",
       "\n",
       "    .dataframe thead th {\n",
       "        text-align: right;\n",
       "    }\n",
       "</style>\n",
       "<table border=\"1\" class=\"dataframe\">\n",
       "  <thead>\n",
       "    <tr style=\"text-align: right;\">\n",
       "      <th></th>\n",
       "      <th>prefix_id</th>\n",
       "      <th>caseid</th>\n",
       "      <th>task</th>\n",
       "      <th>role</th>\n",
       "      <th>end_timestamp</th>\n",
       "      <th>trace_start</th>\n",
       "      <th>timelapsed</th>\n",
       "      <th>next_activity</th>\n",
       "      <th>milestone</th>\n",
       "      <th>milestone_id</th>\n",
       "      <th>task_index</th>\n",
       "      <th>prefix_length</th>\n",
       "    </tr>\n",
       "  </thead>\n",
       "  <tbody>\n",
       "    <tr>\n",
       "      <th>0</th>\n",
       "      <td>173736_6</td>\n",
       "      <td>173736</td>\n",
       "      <td>W_Filling in information for the application</td>\n",
       "      <td>role_     11019</td>\n",
       "      <td>2011-10-01 23:40:09.6220000</td>\n",
       "      <td>2011-10-01 23:40:09.6220000</td>\n",
       "      <td>0</td>\n",
       "      <td>W_Calling to add missing information to the ap...</td>\n",
       "      <td>W_Assessing the application</td>\n",
       "      <td>6</td>\n",
       "      <td>1</td>\n",
       "      <td>6</td>\n",
       "    </tr>\n",
       "    <tr>\n",
       "      <th>1</th>\n",
       "      <td>173736_4</td>\n",
       "      <td>173736</td>\n",
       "      <td>W_Filling in information for the application</td>\n",
       "      <td>role_     11019</td>\n",
       "      <td>2011-10-01 23:40:09.6220000</td>\n",
       "      <td>2011-10-01 23:40:09.6220000</td>\n",
       "      <td>0</td>\n",
       "      <td>W_Calling after sent offers</td>\n",
       "      <td>W_Calling after sent offers</td>\n",
       "      <td>4</td>\n",
       "      <td>1</td>\n",
       "      <td>4</td>\n",
       "    </tr>\n",
       "    <tr>\n",
       "      <th>2</th>\n",
       "      <td>173736_5</td>\n",
       "      <td>173736</td>\n",
       "      <td>W_Filling in information for the application</td>\n",
       "      <td>role_     11019</td>\n",
       "      <td>2011-10-01 23:40:09.6220000</td>\n",
       "      <td>2011-10-01 23:40:09.6220000</td>\n",
       "      <td>0</td>\n",
       "      <td>W_Assessing the application</td>\n",
       "      <td>W_Calling after sent offers</td>\n",
       "      <td>5</td>\n",
       "      <td>1</td>\n",
       "      <td>5</td>\n",
       "    </tr>\n",
       "    <tr>\n",
       "      <th>3</th>\n",
       "      <td>173736_12</td>\n",
       "      <td>173736</td>\n",
       "      <td>W_Filling in information for the application</td>\n",
       "      <td>role_     11019</td>\n",
       "      <td>2011-10-01 23:40:09.6220000</td>\n",
       "      <td>2011-10-01 23:40:09.6220000</td>\n",
       "      <td>0</td>\n",
       "      <td>W_Assessing the application</td>\n",
       "      <td>W_Calling to add missing information to the ap...</td>\n",
       "      <td>12</td>\n",
       "      <td>1</td>\n",
       "      <td>12</td>\n",
       "    </tr>\n",
       "    <tr>\n",
       "      <th>4</th>\n",
       "      <td>173736_1</td>\n",
       "      <td>173736</td>\n",
       "      <td>W_Filling in information for the application</td>\n",
       "      <td>role_     11019</td>\n",
       "      <td>2011-10-01 23:40:09.6220000</td>\n",
       "      <td>2011-10-01 23:40:09.6220000</td>\n",
       "      <td>0</td>\n",
       "      <td>W_Filling in information for the application</td>\n",
       "      <td>W_Filling in information for the application</td>\n",
       "      <td>1</td>\n",
       "      <td>1</td>\n",
       "      <td>1</td>\n",
       "    </tr>\n",
       "  </tbody>\n",
       "</table>\n",
       "</div>"
      ],
      "text/plain": [
       "   prefix_id  caseid                                          task  \\\n",
       "0   173736_6  173736  W_Filling in information for the application   \n",
       "1   173736_4  173736  W_Filling in information for the application   \n",
       "2   173736_5  173736  W_Filling in information for the application   \n",
       "3  173736_12  173736  W_Filling in information for the application   \n",
       "4   173736_1  173736  W_Filling in information for the application   \n",
       "\n",
       "              role                end_timestamp                  trace_start  \\\n",
       "0  role_     11019  2011-10-01 23:40:09.6220000  2011-10-01 23:40:09.6220000   \n",
       "1  role_     11019  2011-10-01 23:40:09.6220000  2011-10-01 23:40:09.6220000   \n",
       "2  role_     11019  2011-10-01 23:40:09.6220000  2011-10-01 23:40:09.6220000   \n",
       "3  role_     11019  2011-10-01 23:40:09.6220000  2011-10-01 23:40:09.6220000   \n",
       "4  role_     11019  2011-10-01 23:40:09.6220000  2011-10-01 23:40:09.6220000   \n",
       "\n",
       "   timelapsed                                      next_activity  \\\n",
       "0           0  W_Calling to add missing information to the ap...   \n",
       "1           0                        W_Calling after sent offers   \n",
       "2           0                        W_Assessing the application   \n",
       "3           0                        W_Assessing the application   \n",
       "4           0       W_Filling in information for the application   \n",
       "\n",
       "                                           milestone  milestone_id  \\\n",
       "0                        W_Assessing the application             6   \n",
       "1                        W_Calling after sent offers             4   \n",
       "2                        W_Calling after sent offers             5   \n",
       "3  W_Calling to add missing information to the ap...            12   \n",
       "4       W_Filling in information for the application             1   \n",
       "\n",
       "   task_index  prefix_length  \n",
       "0           1              6  \n",
       "1           1              4  \n",
       "2           1              5  \n",
       "3           1             12  \n",
       "4           1              1  "
      ]
     },
     "execution_count": 6,
     "metadata": {},
     "output_type": "execute_result"
    }
   ],
   "source": [
    "\n",
    "log_df = pd.read_csv(args['file_name_W_all'])\n",
    "log_df = log_df.reset_index(drop=True)\n",
    "\n",
    "\n",
    "log_df.head()"
   ]
  },
  {
   "cell_type": "markdown",
   "metadata": {
    "id": "0rx485wyd_gi"
   },
   "source": [
    "Milestone Extraction\n",
    "\n",
    "We expect to filter the prefixes by the milestone, and train the model for each milestone separately to observe if there will be an improvement in the model explainability as well as performance\n"
   ]
  },
  {
   "cell_type": "code",
   "execution_count": 7,
   "metadata": {
    "executionInfo": {
     "elapsed": 293,
     "status": "ok",
     "timestamp": 1629364074910,
     "user": {
      "displayName": "Bemali Wickramanayake",
      "photoUrl": "",
      "userId": "06528833813357396771"
     },
     "user_tz": -600
    },
    "id": "KzI8Hx4vd-oI"
   },
   "outputs": [],
   "source": [
    "if milestone != 'All':\n",
    "  log_df = log_df[log_df['milestone'] == milestone]\n",
    "else:\n",
    "  log_df = log_df[(log_df['prefix_length'] > min_size) & (log_df['prefix_length'] <= max_size) ]"
   ]
  },
  {
   "cell_type": "markdown",
   "metadata": {
    "id": "cjQGCFJdaAky"
   },
   "source": [
    "#### Data Analysis"
   ]
  },
  {
   "cell_type": "code",
   "execution_count": 8,
   "metadata": {
    "colab": {
     "base_uri": "https://localhost:8080/"
    },
    "executionInfo": {
     "elapsed": 491,
     "status": "ok",
     "timestamp": 1629364078740,
     "user": {
      "displayName": "Bemali Wickramanayake",
      "photoUrl": "",
      "userId": "06528833813357396771"
     },
     "user_tz": -600
    },
    "id": "sDzBQScYzmE3",
    "outputId": "9e988f17-6fe0-485d-cf4f-03335750ecff"
   },
   "outputs": [
    {
     "name": "stdout",
     "output_type": "stream",
     "text": [
      "Distribution of cases by the target variable - next event\n",
      "\n",
      "next_activity\n",
      "W_Assess fraud                                               133\n",
      "W_Assessing the application                                 5225\n",
      "W_Calling after sent offers                                15621\n",
      "W_Calling to add missing information to the application     7615\n",
      "W_Filling in information for the application               12967\n",
      "W_Fixing incoming lead                                       789\n",
      "Name: prefix_id, dtype: int64\n"
     ]
    }
   ],
   "source": [
    "#Checking the Balance of the Dataset, by the target variable\n",
    "print('Distribution of cases by the target variable - next event\\n')\n",
    "print(log_df.groupby(['next_activity'])['prefix_id'].nunique())"
   ]
  },
  {
   "cell_type": "markdown",
   "metadata": {
    "id": "GI1Qffm2zqdD"
   },
   "source": [
    "We can see that there is an imbalance in the dataset, by the next activity name, as well as a very high dimensionality in the target variable.\n",
    "Therefore, we can reduce the imbalance and high dimensionality of data by grouping some of the activity name.\n"
   ]
  },
  {
   "cell_type": "markdown",
   "metadata": {
    "id": "oAR81L1ZzCEL"
   },
   "source": [
    "Balancing the dataset\n"
   ]
  },
  {
   "cell_type": "code",
   "execution_count": 9,
   "metadata": {
    "executionInfo": {
     "elapsed": 276,
     "status": "ok",
     "timestamp": 1629364082449,
     "user": {
      "displayName": "Bemali Wickramanayake",
      "photoUrl": "",
      "userId": "06528833813357396771"
     },
     "user_tz": -600
    },
    "id": "1m2ON1ha0-sr"
   },
   "outputs": [],
   "source": [
    "def balance(df):\n",
    "  # Dictonary with the mapping of columns\n",
    "  \n",
    "  #based on the paper : BPIC_2012 Winner, DOI: 10.1007/978-3-642-36285-9_24\n",
    "\n",
    "  # group_dict = {'A_ACCEPTED':'A_ACCEPTED',    \n",
    "  #   'A_ACTIVATED' :   'A_APPROVED_ACTIVATED',\n",
    "  #   'A_APPROVED':  'A_APPROVED_ACTIVATED',\n",
    "  #   'A_CANCELLED': 'A_CANCELLED_DECLINED' ,\n",
    "  #   'A_DECLINED': 'A_CANCELLED_DECLINED' ,\n",
    "  #   'A_PARTLYSUBMITTED': 'REDUNDANT',\n",
    "  #   'A_PREACCEPTED':'A_PREACCEPTED',\n",
    "  #   'A_REGISTERED' : 'REDUNDANT',\n",
    "  #   'O_ACCEPTED' : 'REDUNDANT',\n",
    "  #   'O_CANCELLED' :  'O_CANCELLED_DECLINED' ,\n",
    "  #   'O_CREATED':'REDUNDANT',\n",
    "  #   'O_DECLINED' :'O_CANCELLED_DECLINED' ,\n",
    "  #   'O_SELECTED' : 'REDUNDANT', \n",
    "  #   'O_SENT':'O_SENT',\n",
    "  #   'O_SENT_BACK' : 'O_SENT_BACK'}\n",
    "\n",
    "\n",
    "  # df['next_activity'].replace(group_dict, inplace=True)\n",
    "  # #Dropping the minority classes\n",
    "  # df = df.drop(df[df.next_activity == 'REDUNDANT'].index)\n",
    " \n",
    "\n",
    "  return df"
   ]
  },
  {
   "cell_type": "code",
   "execution_count": 10,
   "metadata": {
    "executionInfo": {
     "elapsed": 272,
     "status": "ok",
     "timestamp": 1629364086108,
     "user": {
      "displayName": "Bemali Wickramanayake",
      "photoUrl": "",
      "userId": "06528833813357396771"
     },
     "user_tz": -600
    },
    "id": "65OV3Vir3RId"
   },
   "outputs": [],
   "source": [
    "log_df = balance(log_df)\n",
    "\n",
    "\n",
    "\n",
    "#replacing empty cells of categorical columns with 'none'\n",
    "log_df = log_df.fillna('none')"
   ]
  },
  {
   "cell_type": "code",
   "execution_count": 11,
   "metadata": {
    "colab": {
     "base_uri": "https://localhost:8080/"
    },
    "executionInfo": {
     "elapsed": 275,
     "status": "ok",
     "timestamp": 1629364089308,
     "user": {
      "displayName": "Bemali Wickramanayake",
      "photoUrl": "",
      "userId": "06528833813357396771"
     },
     "user_tz": -600
    },
    "id": "nGRpabpY3AYd",
    "outputId": "b6e97e4c-04fe-4af6-9a48-2f1a71c3f9f7"
   },
   "outputs": [
    {
     "name": "stdout",
     "output_type": "stream",
     "text": [
      "Distribution of cases by the target variable - next event\n",
      "\n",
      "next_activity\n",
      "W_Assess fraud                                               133\n",
      "W_Assessing the application                                 5225\n",
      "W_Calling after sent offers                                15621\n",
      "W_Calling to add missing information to the application     7615\n",
      "W_Filling in information for the application               12967\n",
      "W_Fixing incoming lead                                       789\n",
      "Name: prefix_id, dtype: int64\n"
     ]
    }
   ],
   "source": [
    "# Check the balance\n",
    "\n",
    "print('Distribution of cases by the target variable - next event\\n')\n",
    "print(log_df.groupby(['next_activity'])['prefix_id'].nunique())"
   ]
  },
  {
   "cell_type": "code",
   "execution_count": 12,
   "metadata": {
    "executionInfo": {
     "elapsed": 320,
     "status": "ok",
     "timestamp": 1629364128884,
     "user": {
      "displayName": "Bemali Wickramanayake",
      "photoUrl": "",
      "userId": "06528833813357396771"
     },
     "user_tz": -600
    },
    "id": "ixv49eHOZvKS"
   },
   "outputs": [],
   "source": [
    "\n",
    "#minority reduction. if certain samples are < 5, reduce via below\n",
    "\n",
    "#log_df = log_df.drop(log_df[log_df.next_activity == 'W_Afhandelen leads'].index)\n",
    "\n"
   ]
  },
  {
   "cell_type": "markdown",
   "metadata": {
    "id": "NR5u79qK-CAu"
   },
   "source": [
    "Reduce Loops\n",
    "\n",
    "Function : `reduce_loops(df)`, Author: Manuel Camargo, Edited by: Bemali Wickramanayake"
   ]
  },
  {
   "cell_type": "code",
   "execution_count": 13,
   "metadata": {
    "executionInfo": {
     "elapsed": 279,
     "status": "ok",
     "timestamp": 1629364133427,
     "user": {
      "displayName": "Bemali Wickramanayake",
      "photoUrl": "",
      "userId": "06528833813357396771"
     },
     "user_tz": -600
    },
    "id": "JRMw5c7AEoAc"
   },
   "outputs": [],
   "source": [
    "if experiment == 'No_Loops':\n",
    "  log_df = reduce_loops(log_df)"
   ]
  },
  {
   "cell_type": "markdown",
   "metadata": {
    "id": "c8ryArjFcKh6"
   },
   "source": [
    "#### Data Encoding and Vectorization"
   ]
  },
  {
   "cell_type": "markdown",
   "metadata": {
    "id": "pbjWsu4wIHoA"
   },
   "source": [
    "Index creating for data encoding\n",
    "Function : `create_index(log_df, column)`, Author: Manuel Camargo, Edited by: Bemali Wickramanayake"
   ]
  },
  {
   "cell_type": "code",
   "execution_count": 14,
   "metadata": {
    "colab": {
     "base_uri": "https://localhost:8080/",
     "height": 341
    },
    "executionInfo": {
     "elapsed": 293,
     "status": "ok",
     "timestamp": 1629364137432,
     "user": {
      "displayName": "Bemali Wickramanayake",
      "photoUrl": "",
      "userId": "06528833813357396771"
     },
     "user_tz": -600
    },
    "id": "Z0tv0BAAIHoA",
    "outputId": "29e8ee2c-920a-47eb-8c80-f4a44d645b31"
   },
   "outputs": [
    {
     "name": "stdout",
     "output_type": "stream",
     "text": [
      "{'none': 0, 'role_         0': 1, 'role_     10124': 2, 'role_     10125': 3, 'role_     10138': 4, 'role_     10188': 5, 'role_     10228': 6, 'role_     10609': 7, 'role_     10629': 8, 'role_     10779': 9, 'role_     10789': 10, 'role_     10809': 11, 'role_     10861': 12, 'role_     10863': 13, 'role_     10881': 14, 'role_     10889': 15, 'role_     10899': 16, 'role_     10909': 17, 'role_     10910': 18, 'role_     10912': 19, 'role_     10913': 20, 'role_     10914': 21, 'role_     10929': 22, 'role_     10931': 23, 'role_     10932': 24, 'role_     10933': 25, 'role_     10935': 26, 'role_     10939': 27, 'role_     10972': 28, 'role_     10982': 29, 'role_     11000': 30, 'role_     11001': 31, 'role_     11002': 32, 'role_     11003': 33, 'role_     11009': 34, 'role_     11019': 35, 'role_     11049': 36, 'role_     11079': 37, 'role_     11119': 38, 'role_     11121': 39, 'role_     11122': 40, 'role_     11169': 41, 'role_     11179': 42, 'role_     11180': 43, 'role_     11181': 44, 'role_     11189': 45, 'role_     11201': 46, 'role_     11203': 47, 'role_     11259': 48, 'role_     11269': 49, 'role_     11289': 50, 'role_     11299': 51, 'role_     11300': 52, 'role_     11302': 53, 'role_     11304': 54, 'role_     11309': 55, 'role_     11319': 56, 'role_     11339': 57}\n",
      "{0: 'none', 1: 'role_         0', 2: 'role_     10124', 3: 'role_     10125', 4: 'role_     10138', 5: 'role_     10188', 6: 'role_     10228', 7: 'role_     10609', 8: 'role_     10629', 9: 'role_     10779', 10: 'role_     10789', 11: 'role_     10809', 12: 'role_     10861', 13: 'role_     10863', 14: 'role_     10881', 15: 'role_     10889', 16: 'role_     10899', 17: 'role_     10909', 18: 'role_     10910', 19: 'role_     10912', 20: 'role_     10913', 21: 'role_     10914', 22: 'role_     10929', 23: 'role_     10931', 24: 'role_     10932', 25: 'role_     10933', 26: 'role_     10935', 27: 'role_     10939', 28: 'role_     10972', 29: 'role_     10982', 30: 'role_     11000', 31: 'role_     11001', 32: 'role_     11002', 33: 'role_     11003', 34: 'role_     11009', 35: 'role_     11019', 36: 'role_     11049', 37: 'role_     11079', 38: 'role_     11119', 39: 'role_     11121', 40: 'role_     11122', 41: 'role_     11169', 42: 'role_     11179', 43: 'role_     11180', 44: 'role_     11181', 45: 'role_     11189', 46: 'role_     11201', 47: 'role_     11203', 48: 'role_     11259', 49: 'role_     11269', 50: 'role_     11289', 51: 'role_     11299', 52: 'role_     11300', 53: 'role_     11302', 54: 'role_     11304', 55: 'role_     11309', 56: 'role_     11319', 57: 'role_     11339'}\n"
     ]
    },
    {
     "data": {
      "text/html": [
       "<div>\n",
       "<style scoped>\n",
       "    .dataframe tbody tr th:only-of-type {\n",
       "        vertical-align: middle;\n",
       "    }\n",
       "\n",
       "    .dataframe tbody tr th {\n",
       "        vertical-align: top;\n",
       "    }\n",
       "\n",
       "    .dataframe thead th {\n",
       "        text-align: right;\n",
       "    }\n",
       "</style>\n",
       "<table border=\"1\" class=\"dataframe\">\n",
       "  <thead>\n",
       "    <tr style=\"text-align: right;\">\n",
       "      <th></th>\n",
       "      <th>prefix_id</th>\n",
       "      <th>caseid</th>\n",
       "      <th>task</th>\n",
       "      <th>role</th>\n",
       "      <th>end_timestamp</th>\n",
       "      <th>trace_start</th>\n",
       "      <th>timelapsed</th>\n",
       "      <th>next_activity</th>\n",
       "      <th>milestone</th>\n",
       "      <th>milestone_id</th>\n",
       "      <th>task_index</th>\n",
       "      <th>prefix_length</th>\n",
       "      <th>ac_index</th>\n",
       "      <th>rl_index</th>\n",
       "      <th>ne_index</th>\n",
       "    </tr>\n",
       "  </thead>\n",
       "  <tbody>\n",
       "    <tr>\n",
       "      <th>0</th>\n",
       "      <td>173736_6</td>\n",
       "      <td>173736</td>\n",
       "      <td>W_Filling in information for the application</td>\n",
       "      <td>role_     11019</td>\n",
       "      <td>2011-10-01 23:40:09.6220000</td>\n",
       "      <td>2011-10-01 23:40:09.6220000</td>\n",
       "      <td>0</td>\n",
       "      <td>W_Calling to add missing information to the ap...</td>\n",
       "      <td>W_Assessing the application</td>\n",
       "      <td>6</td>\n",
       "      <td>1</td>\n",
       "      <td>6</td>\n",
       "      <td>5</td>\n",
       "      <td>35</td>\n",
       "      <td>3</td>\n",
       "    </tr>\n",
       "    <tr>\n",
       "      <th>1</th>\n",
       "      <td>173736_4</td>\n",
       "      <td>173736</td>\n",
       "      <td>W_Filling in information for the application</td>\n",
       "      <td>role_     11019</td>\n",
       "      <td>2011-10-01 23:40:09.6220000</td>\n",
       "      <td>2011-10-01 23:40:09.6220000</td>\n",
       "      <td>0</td>\n",
       "      <td>W_Calling after sent offers</td>\n",
       "      <td>W_Calling after sent offers</td>\n",
       "      <td>4</td>\n",
       "      <td>1</td>\n",
       "      <td>4</td>\n",
       "      <td>5</td>\n",
       "      <td>35</td>\n",
       "      <td>2</td>\n",
       "    </tr>\n",
       "    <tr>\n",
       "      <th>2</th>\n",
       "      <td>173736_5</td>\n",
       "      <td>173736</td>\n",
       "      <td>W_Filling in information for the application</td>\n",
       "      <td>role_     11019</td>\n",
       "      <td>2011-10-01 23:40:09.6220000</td>\n",
       "      <td>2011-10-01 23:40:09.6220000</td>\n",
       "      <td>0</td>\n",
       "      <td>W_Assessing the application</td>\n",
       "      <td>W_Calling after sent offers</td>\n",
       "      <td>5</td>\n",
       "      <td>1</td>\n",
       "      <td>5</td>\n",
       "      <td>5</td>\n",
       "      <td>35</td>\n",
       "      <td>1</td>\n",
       "    </tr>\n",
       "    <tr>\n",
       "      <th>3</th>\n",
       "      <td>173736_12</td>\n",
       "      <td>173736</td>\n",
       "      <td>W_Filling in information for the application</td>\n",
       "      <td>role_     11019</td>\n",
       "      <td>2011-10-01 23:40:09.6220000</td>\n",
       "      <td>2011-10-01 23:40:09.6220000</td>\n",
       "      <td>0</td>\n",
       "      <td>W_Assessing the application</td>\n",
       "      <td>W_Calling to add missing information to the ap...</td>\n",
       "      <td>12</td>\n",
       "      <td>1</td>\n",
       "      <td>12</td>\n",
       "      <td>5</td>\n",
       "      <td>35</td>\n",
       "      <td>1</td>\n",
       "    </tr>\n",
       "    <tr>\n",
       "      <th>4</th>\n",
       "      <td>173736_1</td>\n",
       "      <td>173736</td>\n",
       "      <td>W_Filling in information for the application</td>\n",
       "      <td>role_     11019</td>\n",
       "      <td>2011-10-01 23:40:09.6220000</td>\n",
       "      <td>2011-10-01 23:40:09.6220000</td>\n",
       "      <td>0</td>\n",
       "      <td>W_Filling in information for the application</td>\n",
       "      <td>W_Filling in information for the application</td>\n",
       "      <td>1</td>\n",
       "      <td>1</td>\n",
       "      <td>1</td>\n",
       "      <td>5</td>\n",
       "      <td>35</td>\n",
       "      <td>4</td>\n",
       "    </tr>\n",
       "  </tbody>\n",
       "</table>\n",
       "</div>"
      ],
      "text/plain": [
       "   prefix_id  caseid                                          task  \\\n",
       "0   173736_6  173736  W_Filling in information for the application   \n",
       "1   173736_4  173736  W_Filling in information for the application   \n",
       "2   173736_5  173736  W_Filling in information for the application   \n",
       "3  173736_12  173736  W_Filling in information for the application   \n",
       "4   173736_1  173736  W_Filling in information for the application   \n",
       "\n",
       "              role                end_timestamp                  trace_start  \\\n",
       "0  role_     11019  2011-10-01 23:40:09.6220000  2011-10-01 23:40:09.6220000   \n",
       "1  role_     11019  2011-10-01 23:40:09.6220000  2011-10-01 23:40:09.6220000   \n",
       "2  role_     11019  2011-10-01 23:40:09.6220000  2011-10-01 23:40:09.6220000   \n",
       "3  role_     11019  2011-10-01 23:40:09.6220000  2011-10-01 23:40:09.6220000   \n",
       "4  role_     11019  2011-10-01 23:40:09.6220000  2011-10-01 23:40:09.6220000   \n",
       "\n",
       "   timelapsed                                      next_activity  \\\n",
       "0           0  W_Calling to add missing information to the ap...   \n",
       "1           0                        W_Calling after sent offers   \n",
       "2           0                        W_Assessing the application   \n",
       "3           0                        W_Assessing the application   \n",
       "4           0       W_Filling in information for the application   \n",
       "\n",
       "                                           milestone  milestone_id  \\\n",
       "0                        W_Assessing the application             6   \n",
       "1                        W_Calling after sent offers             4   \n",
       "2                        W_Calling after sent offers             5   \n",
       "3  W_Calling to add missing information to the ap...            12   \n",
       "4       W_Filling in information for the application             1   \n",
       "\n",
       "   task_index  prefix_length  ac_index  rl_index  ne_index  \n",
       "0           1              6         5        35         3  \n",
       "1           1              4         5        35         2  \n",
       "2           1              5         5        35         1  \n",
       "3           1             12         5        35         1  \n",
       "4           1              1         5        35         4  "
      ]
     },
     "execution_count": 14,
     "metadata": {},
     "output_type": "execute_result"
    }
   ],
   "source": [
    "# Index creation for activity\n",
    "\n",
    "ac_index = create_index(log_df, 'task')\n",
    "index_ac = {v: k for k, v in ac_index.items()}\n",
    "\n",
    "# Index creation for unit\n",
    "\n",
    "rl_index = create_index(log_df, 'role')\n",
    "index_rl = {v: k for k, v in rl_index.items()}\n",
    "\n",
    "# Index creation for next activity\n",
    "\n",
    "ne_index = create_index(log_df, 'next_activity')\n",
    "\n",
    "index_ne = {v: k for k, v in ne_index.items()}\n",
    "\n",
    "#mapping the dictionary values as columns in the dataframe\n",
    "log_df['ac_index'] = log_df['task'].map(ac_index)\n",
    "log_df['rl_index'] = log_df['role'].map(rl_index)\n",
    "log_df['ne_index'] = log_df['next_activity'].map(ne_index)\n",
    "\n",
    "print(rl_index)\n",
    "print(index_rl)\n",
    "log_df.head()"
   ]
  },
  {
   "cell_type": "code",
   "execution_count": 15,
   "metadata": {
    "colab": {
     "base_uri": "https://localhost:8080/"
    },
    "executionInfo": {
     "elapsed": 311,
     "status": "ok",
     "timestamp": 1629364165628,
     "user": {
      "displayName": "Bemali Wickramanayake",
      "photoUrl": "",
      "userId": "06528833813357396771"
     },
     "user_tz": -600
    },
    "id": "8nahWKYfIHoA",
    "outputId": "c984145a-21c1-461a-dc9c-bb52649cf1ac"
   },
   "outputs": [
    {
     "name": "stdout",
     "output_type": "stream",
     "text": [
      "{'W_Assess fraud': 0, 'W_Assessing the application': 1, 'W_Calling after sent offers': 2, 'W_Calling to add missing information to the application': 3, 'W_Filling in information for the application': 4, 'W_Fixing incoming lead': 5}\n"
     ]
    }
   ],
   "source": [
    "print(ne_index)"
   ]
  },
  {
   "cell_type": "markdown",
   "metadata": {
    "id": "3F77WY4AIHoB"
   },
   "source": [
    "Splitting the dataframe into test and train sets\n",
    "\n",
    "Function : `split_train_test(df, percentage)`, Author: Bemali Wickramanayake"
   ]
  },
  {
   "cell_type": "code",
   "execution_count": 16,
   "metadata": {
    "executionInfo": {
     "elapsed": 273,
     "status": "ok",
     "timestamp": 1629364168447,
     "user": {
      "displayName": "Bemali Wickramanayake",
      "photoUrl": "",
      "userId": "06528833813357396771"
     },
     "user_tz": -600
    },
    "id": "cR8K1nb7IHoB"
   },
   "outputs": [],
   "source": [
    "# Split validation datasets\n",
    "log_df_train, log_df_test = split_train_test(log_df, 0.3) # 70%/30%"
   ]
  },
  {
   "cell_type": "markdown",
   "metadata": {
    "id": "9jmhklddIHoC"
   },
   "source": [
    "Normalize Numerical Features\n",
    "\n",
    "Function : `normalize_events(log_df,args,numerical_features)`, Author: Manuel Camargo, Edited by: Bemali Wickramanayake\n"
   ]
  },
  {
   "cell_type": "code",
   "execution_count": 17,
   "metadata": {
    "executionInfo": {
     "elapsed": 785,
     "status": "ok",
     "timestamp": 1629364172258,
     "user": {
      "displayName": "Bemali Wickramanayake",
      "photoUrl": "",
      "userId": "06528833813357396771"
     },
     "user_tz": -600
    },
    "id": "1aglgX-oIHoC"
   },
   "outputs": [],
   "source": [
    "numerical_features = ['timelapsed']\n",
    "log_df_train = normalize_events(log_df_train,args,numerical_features)\n",
    "log_df_test = normalize_events(log_df_test,args,numerical_features)\n"
   ]
  },
  {
   "cell_type": "code",
   "execution_count": 18,
   "metadata": {
    "colab": {
     "base_uri": "https://localhost:8080/"
    },
    "executionInfo": {
     "elapsed": 288,
     "status": "ok",
     "timestamp": 1629364183239,
     "user": {
      "displayName": "Bemali Wickramanayake",
      "photoUrl": "",
      "userId": "06528833813357396771"
     },
     "user_tz": -600
    },
    "id": "_9QIxDkHIHoC",
    "outputId": "9682c6f1-55f9-4de5-bbb8-9b030dc5d3d0"
   },
   "outputs": [
    {
     "name": "stdout",
     "output_type": "stream",
     "text": [
      "Number of traces in training set is:29645\n",
      "Number of traces in test set is:12705\n"
     ]
    }
   ],
   "source": [
    "training_traces = len(log_df_train['prefix_id'].unique())\n",
    "test_traces = len(log_df_test['prefix_id'].unique())\n",
    "\n",
    "\n",
    "print('Number of traces in training set is:'+str(training_traces))\n",
    "print('Number of traces in test set is:'+str(test_traces))\n"
   ]
  },
  {
   "cell_type": "code",
   "execution_count": 19,
   "metadata": {
    "colab": {
     "base_uri": "https://localhost:8080/"
    },
    "executionInfo": {
     "elapsed": 284,
     "status": "ok",
     "timestamp": 1629364186715,
     "user": {
      "displayName": "Bemali Wickramanayake",
      "photoUrl": "",
      "userId": "06528833813357396771"
     },
     "user_tz": -600
    },
    "id": "4Ie865-LIHoC",
    "outputId": "f6258cee-34fa-4591-e583-4bc4fdec7390"
   },
   "outputs": [
    {
     "name": "stdout",
     "output_type": "stream",
     "text": [
      "training dataset\n",
      "next_activity\n",
      "W_Assess fraud                                               104\n",
      "W_Assessing the application                                 3664\n",
      "W_Calling after sent offers                                10849\n",
      "W_Calling to add missing information to the application     5117\n",
      "W_Filling in information for the application                9309\n",
      "W_Fixing incoming lead                                       602\n",
      "Name: prefix_id, dtype: int64\n",
      "\n",
      "test dataset\n",
      "next_activity\n",
      "W_Assess fraud                                               29\n",
      "W_Assessing the application                                1561\n",
      "W_Calling after sent offers                                4772\n",
      "W_Calling to add missing information to the application    2498\n",
      "W_Filling in information for the application               3658\n",
      "W_Fixing incoming lead                                      187\n",
      "Name: prefix_id, dtype: int64\n",
      "\n"
     ]
    }
   ],
   "source": [
    "#Checking the Balance of the Dataset, by the target variable\n",
    "print('training dataset')\n",
    "print(log_df_train.groupby(['next_activity'])['prefix_id'].nunique())\n",
    "print(\"\")\n",
    "print('test dataset')\n",
    "print(log_df_test.groupby(['next_activity'])['prefix_id'].nunique())\n",
    "print(\"\")\n",
    "\n"
   ]
  },
  {
   "cell_type": "markdown",
   "metadata": {
    "id": "lyVvDPp_IHoC"
   },
   "source": [
    "Reformat events: converting the dataframe into a dictionary to aid vectorization\n",
    "\n",
    "Function : `reformat_events(log_df, ac_index, rl_index,ne_index)`, Author: Renuka Sindagatta/ Manuel Camargo, Edited by: Bemali Wickramanayake\n",
    "\n",
    "\n"
   ]
  },
  {
   "cell_type": "code",
   "execution_count": 20,
   "metadata": {
    "colab": {
     "base_uri": "https://localhost:8080/"
    },
    "executionInfo": {
     "elapsed": 739,
     "status": "ok",
     "timestamp": 1629364209042,
     "user": {
      "displayName": "Bemali Wickramanayake",
      "photoUrl": "",
      "userId": "06528833813357396771"
     },
     "user_tz": -600
    },
    "id": "9OJqB0XhIHoD",
    "outputId": "34339add-7f47-4172-ff97-47e7afed83f6"
   },
   "outputs": [
    {
     "name": "stdout",
     "output_type": "stream",
     "text": [
      "{'caseid': '174159_5', 'ac_order': [5, 5, 5, 5, 5], 'rl_order': [42, 42, 41, 1, 38], 'tbtw': [-0.21829788624670257, -0.25245137483820124, -0.3307084741212214, -0.4275343993762311, -1.5367641542992445], 'next_activity': 4}\n"
     ]
    }
   ],
   "source": [
    "log_train = reformat_events(log_df_train, ac_index, rl_index,ne_index)\n",
    "log_test = reformat_events(log_df_test, ac_index, rl_index,ne_index)\n",
    "#log_val = reformat_events(log_df_val, ac_index, rl_index,ne_index)\n",
    "\n",
    "#print a sample of the dictionary\n",
    "print(log_train[100])"
   ]
  },
  {
   "cell_type": "markdown",
   "metadata": {
    "id": "Z8TQxVwjIHoD"
   },
   "source": [
    "Vectorization: Convert the data dictionaries into trainable multi dimensional tensors\n",
    "\n",
    "Function: `vectorization(log,ac_index, rl_index, ne_index,trc_len,cases)` , Author: Bemali Wickramanayake, Inspired by the code of: Renuka Sindagatta\n",
    "\n",
    "\n",
    "\n"
   ]
  },
  {
   "cell_type": "code",
   "execution_count": 21,
   "metadata": {
    "colab": {
     "base_uri": "https://localhost:8080/"
    },
    "executionInfo": {
     "elapsed": 276,
     "status": "ok",
     "timestamp": 1629364213528,
     "user": {
      "displayName": "Bemali Wickramanayake",
      "photoUrl": "",
      "userId": "06528833813357396771"
     },
     "user_tz": -600
    },
    "id": "XQ0mu3uxIHoD",
    "outputId": "c1b9206b-121f-44cf-e27d-51ece6fcadac"
   },
   "outputs": [
    {
     "name": "stdout",
     "output_type": "stream",
     "text": [
      "trace_length: 73, training cases: 29646, test cases: 12706\n"
     ]
    }
   ],
   "source": [
    "#Obtain the maximum trc_len and cases for each set\n",
    "\n",
    "trc_len_train, cases_train = lengths(log_train)\n",
    "trc_len_test, cases_test = lengths(log_test)\n",
    "#trc_len_val, cases_val = lengths(log_val)\n",
    "\n",
    "trc_len = max([trc_len_train, trc_len_test])\n",
    "\n",
    "print(\"trace_length: \"+str(trc_len)+\", training cases: \"+str(cases_train)+\", test cases: \"+str(cases_test) )"
   ]
  },
  {
   "cell_type": "markdown",
   "metadata": {
    "id": "w02WNjjnIHoD"
   },
   "source": [
    "converting the training log (dictionary) into a Tensor"
   ]
  },
  {
   "cell_type": "code",
   "execution_count": 22,
   "metadata": {
    "executionInfo": {
     "elapsed": 282,
     "status": "ok",
     "timestamp": 1629364217678,
     "user": {
      "displayName": "Bemali Wickramanayake",
      "photoUrl": "",
      "userId": "06528833813357396771"
     },
     "user_tz": -600
    },
    "id": "cvTWoyKcIHoD"
   },
   "outputs": [],
   "source": [
    "vec_train = vectorization(log_train,ac_index, rl_index, ne_index,trc_len,cases_train)\n",
    "vec_test = vectorization(log_test,ac_index, rl_index, ne_index,trc_len,cases_test)\n",
    "#vec_val = vectorization(log_val,ac_index, rl_index, ne_index,trc_len,cases_val)"
   ]
  },
  {
   "cell_type": "code",
   "execution_count": 23,
   "metadata": {
    "colab": {
     "base_uri": "https://localhost:8080/"
    },
    "executionInfo": {
     "elapsed": 457,
     "status": "ok",
     "timestamp": 1629364220373,
     "user": {
      "displayName": "Bemali Wickramanayake",
      "photoUrl": "",
      "userId": "06528833813357396771"
     },
     "user_tz": -600
    },
    "id": "4eKZMlg0IHoD",
    "outputId": "8468e694-f809-45ef-aca9-072068915b49"
   },
   "outputs": [
    {
     "data": {
      "text/plain": [
       "array([[5., 0., 0., ..., 0., 0., 0.],\n",
       "       [5., 0., 0., ..., 0., 0., 0.],\n",
       "       [5., 5., 0., ..., 0., 0., 0.],\n",
       "       ...,\n",
       "       [3., 3., 3., ..., 0., 0., 0.],\n",
       "       [6., 0., 0., ..., 0., 0., 0.],\n",
       "       [5., 6., 0., ..., 0., 0., 0.]])"
      ]
     },
     "execution_count": 23,
     "metadata": {},
     "output_type": "execute_result"
    }
   ],
   "source": [
    "vec_train['prefixes']['x_ac_inp']"
   ]
  },
  {
   "cell_type": "markdown",
   "metadata": {
    "id": "0wXFsmDUIHoD"
   },
   "source": [
    "#### Generating Initial Embedding Weights for shared Model"
   ]
  },
  {
   "cell_type": "code",
   "execution_count": 24,
   "metadata": {
    "executionInfo": {
     "elapsed": 413,
     "status": "ok",
     "timestamp": 1629364223711,
     "user": {
      "displayName": "Bemali Wickramanayake",
      "photoUrl": "",
      "userId": "06528833813357396771"
     },
     "user_tz": -600
    },
    "id": "FKHX2nznIHoD"
   },
   "outputs": [],
   "source": [
    "ac_weights = to_categorical(sorted(index_ac.keys()), num_classes = len(ac_index))\n",
    "ac_weights[0] = 0 # embedding weights for label none = 0\n",
    "\n",
    "rl_weights =  to_categorical(sorted(index_rl.keys()), num_classes = len(rl_index))\n",
    "rl_weights[0] = 0 # embeddig weights for label none = 0\n"
   ]
  },
  {
   "cell_type": "code",
   "execution_count": 25,
   "metadata": {},
   "outputs": [],
   "source": [
    "\n",
    "# converting the weights \n",
    "weights = {'ac_weights':ac_weights, 'rl_weights':rl_weights, 'next_activity':len(ne_index)}\n",
    "\n",
    "# converting the weights into a dictionary and saving\n",
    "indexes = {'index_ac':index_ac, 'index_rl':index_rl,'index_ne':index_ne}\n",
    "\n",
    "# converting the weights into a dictionary and saving\n",
    "pre_index = {'ac_index':ac_index, 'rl_index':rl_index,'ne_index':ne_index}"
   ]
  },
  {
   "cell_type": "markdown",
   "metadata": {
    "id": "nHcqgs3UMaG7"
   },
   "source": [
    "### Experiments"
   ]
  },
  {
   "cell_type": "markdown",
   "metadata": {
    "id": "_vzctgVbMhXF"
   },
   "source": [
    "#### Load the Required Libraries"
   ]
  },
  {
   "cell_type": "code",
   "execution_count": 26,
   "metadata": {
    "colab": {
     "base_uri": "https://localhost:8080/"
    },
    "executionInfo": {
     "elapsed": 3727,
     "status": "ok",
     "timestamp": 1629364234466,
     "user": {
      "displayName": "Bemali Wickramanayake",
      "photoUrl": "",
      "userId": "06528833813357396771"
     },
     "user_tz": -600
    },
    "id": "RXq7qHiWMf6z",
    "outputId": "9385caa0-c3cb-45a5-9c0c-66665afb6dfd"
   },
   "outputs": [
    {
     "name": "stdout",
     "output_type": "stream",
     "text": [
      "Requirement already satisfied: pyflowchart in c:\\users\\mithr\\miniconda3\\lib\\site-packages (0.1.4)\n",
      "Requirement already satisfied: astunparse in c:\\users\\mithr\\miniconda3\\lib\\site-packages (from pyflowchart) (1.6.3)\n",
      "Requirement already satisfied: chardet in c:\\users\\mithr\\miniconda3\\lib\\site-packages (from pyflowchart) (4.0.0)\n",
      "Requirement already satisfied: six<2.0,>=1.6.1 in c:\\users\\mithr\\miniconda3\\lib\\site-packages (from astunparse->pyflowchart) (1.15.0)\n",
      "Requirement already satisfied: wheel<1.0,>=0.23.0 in c:\\users\\mithr\\miniconda3\\lib\\site-packages (from astunparse->pyflowchart) (0.36.2)\n"
     ]
    }
   ],
   "source": [
    "!pip3 install pyflowchart"
   ]
  },
  {
   "cell_type": "code",
   "execution_count": 27,
   "metadata": {
    "executionInfo": {
     "elapsed": 719,
     "status": "ok",
     "timestamp": 1629365062573,
     "user": {
      "displayName": "Bemali Wickramanayake",
      "photoUrl": "",
      "userId": "06528833813357396771"
     },
     "user_tz": -600
    },
    "id": "Yu0bDEemIHoE"
   },
   "outputs": [],
   "source": [
    "import os\n",
    "import pickle\n",
    "import numpy as np\n",
    "import pandas as pd\n",
    "\n",
    "import tensorflow as tf\n",
    "from tensorflow.keras import callbacks, Model\n",
    "from tensorflow.keras.utils import to_categorical\n",
    "from tensorflow.keras.models import load_model\n",
    "\n",
    "import seaborn as sn\n",
    "import matplotlib.pyplot as plt\n",
    "from sklearn.metrics import confusion_matrix, classification_report\n",
    "from pyflowchart import *\n",
    "import plotly.express as px\n",
    "\n",
    "from models.shared import *\n",
    "from models.specialised import *\n",
    "from models.explain import *"
   ]
  },
  {
   "cell_type": "markdown",
   "metadata": {},
   "source": [
    "#### shared Model"
   ]
  },
  {
   "cell_type": "code",
   "execution_count": 28,
   "metadata": {
    "executionInfo": {
     "elapsed": 1643,
     "status": "ok",
     "timestamp": 1629351316360,
     "user": {
      "displayName": "Bemali Wickramanayake",
      "photoUrl": "",
      "userId": "06528833813357396771"
     },
     "user_tz": -600
    },
    "id": "29MaVs3APDQo"
   },
   "outputs": [],
   "source": [
    "shared = shared_model(vec_train, weights, indexes, pre_index, args)"
   ]
  },
  {
   "cell_type": "code",
   "execution_count": 29,
   "metadata": {
    "colab": {
     "base_uri": "https://localhost:8080/"
    },
    "executionInfo": {
     "elapsed": 294,
     "status": "ok",
     "timestamp": 1629340207298,
     "user": {
      "displayName": "Bemali Wickramanayake",
      "photoUrl": "",
      "userId": "06528833813357396771"
     },
     "user_tz": -600
    },
    "id": "AZ-qm5c5PIxi",
    "outputId": "72eae6ec-121e-48be-a43b-0fbb5ff3f31a"
   },
   "outputs": [
    {
     "name": "stdout",
     "output_type": "stream",
     "text": [
      "Model: \"model\"\n",
      "__________________________________________________________________________________________________\n",
      "Layer (type)                    Output Shape         Param #     Connected to                     \n",
      "==================================================================================================\n",
      "ac_input (InputLayer)           [(None, 5)]          0                                            \n",
      "__________________________________________________________________________________________________\n",
      "rl_input (InputLayer)           [(None, 5)]          0                                            \n",
      "__________________________________________________________________________________________________\n",
      "ac_embedding (Embedding)        (None, 5, 7)         49          ac_input[0][0]                   \n",
      "__________________________________________________________________________________________________\n",
      "rl_embedding (Embedding)        (None, 5, 58)        3364        rl_input[0][0]                   \n",
      "__________________________________________________________________________________________________\n",
      "t_input (InputLayer)            [(None, 5, 1)]       0                                            \n",
      "__________________________________________________________________________________________________\n",
      "full_embs (Concatenate)         (None, 5, 66)        0           ac_embedding[0][0]               \n",
      "                                                                 rl_embedding[0][0]               \n",
      "                                                                 t_input[0][0]                    \n",
      "__________________________________________________________________________________________________\n",
      "dropout (Dropout)               (None, 5, 66)        0           full_embs[0][0]                  \n",
      "__________________________________________________________________________________________________\n",
      "alpha (Bidirectional)           (None, 5, 100)       46800       dropout[0][0]                    \n",
      "__________________________________________________________________________________________________\n",
      "alpha_dense (TimeDistributed)   (None, 5, 1)         101         alpha[0][0]                      \n",
      "__________________________________________________________________________________________________\n",
      "beta (Bidirectional)            (None, 5, 100)       46800       dropout[0][0]                    \n",
      "__________________________________________________________________________________________________\n",
      "timestep_attention (Softmax)    (None, 5, 1)         0           alpha_dense[0][0]                \n",
      "__________________________________________________________________________________________________\n",
      "feature_attention (TimeDistribu (None, 5, 66)        6666        beta[0][0]                       \n",
      "__________________________________________________________________________________________________\n",
      "feature_importance (Multiply)   (None, 5, 66)        0           timestep_attention[0][0]         \n",
      "                                                                 feature_attention[0][0]          \n",
      "                                                                 dropout[0][0]                    \n",
      "__________________________________________________________________________________________________\n",
      "lambda (Lambda)                 (None, 66)           0           feature_importance[0][0]         \n",
      "__________________________________________________________________________________________________\n",
      "dropout_1 (Dropout)             (None, 66)           0           lambda[0][0]                     \n",
      "__________________________________________________________________________________________________\n",
      "act_output (Dense)              (None, 6)            402         dropout_1[0][0]                  \n",
      "==================================================================================================\n",
      "Total params: 104,182\n",
      "Trainable params: 104,182\n",
      "Non-trainable params: 0\n",
      "__________________________________________________________________________________________________\n"
     ]
    }
   ],
   "source": [
    "shared.compile(loss='categorical_crossentropy', optimizer='Adam', metrics=['accuracy'])\n",
    "shared.summary()"
   ]
  },
  {
   "cell_type": "code",
   "execution_count": 30,
   "metadata": {
    "executionInfo": {
     "elapsed": 269,
     "status": "ok",
     "timestamp": 1629340366646,
     "user": {
      "displayName": "Bemali Wickramanayake",
      "photoUrl": "",
      "userId": "06528833813357396771"
     },
     "user_tz": -600
    },
    "id": "L_Xs-4aXPQKz"
   },
   "outputs": [],
   "source": [
    "batch_size = 128 # 32, 64, 128, 256\n",
    "epochs = 250"
   ]
  },
  {
   "cell_type": "code",
   "execution_count": 31,
   "metadata": {
    "colab": {
     "base_uri": "https://localhost:8080/"
    },
    "executionInfo": {
     "elapsed": 442180,
     "status": "ok",
     "timestamp": 1629340811570,
     "user": {
      "displayName": "Bemali Wickramanayake",
      "photoUrl": "",
      "userId": "06528833813357396771"
     },
     "user_tz": -600
    },
    "id": "Im-Yh40EPTDC",
    "outputId": "3b0ed157-664b-4a46-c909-ca9db9746dd9"
   },
   "outputs": [
    {
     "name": "stdout",
     "output_type": "stream",
     "text": [
      "Epoch 1/250\n",
      "197/197 [==============================] - 28s 33ms/step - loss: 1.0619 - accuracy: 0.6993 - val_loss: 0.5798 - val_accuracy: 0.8158\n",
      "Epoch 2/250\n",
      "197/197 [==============================] - 5s 25ms/step - loss: 0.4607 - accuracy: 0.8275 - val_loss: 0.4351 - val_accuracy: 0.8176 1s - loss: 0.4 - ETA: 0s - loss: 0.470\n",
      "Epoch 3/250\n",
      "197/197 [==============================] - 5s 24ms/step - loss: 0.3942 - accuracy: 0.8327 - val_loss: 0.4075 - val_accuracy: 0.8242\n",
      "Epoch 4/250\n",
      "197/197 [==============================] - 5s 25ms/step - loss: 0.3747 - accuracy: 0.8361 - val_loss: 0.3965 - val_accuracy: 0.8248ETA\n",
      "Epoch 5/250\n",
      "197/197 [==============================] - 5s 25ms/step - loss: 0.3641 - accuracy: 0.8406 - val_loss: 0.3901 - val_accuracy: 0.8349\n",
      "Epoch 6/250\n",
      "197/197 [==============================] - 5s 24ms/step - loss: 0.3572 - accuracy: 0.8430 - val_loss: 0.3861 - val_accuracy: 0.8210\n",
      "Epoch 7/250\n",
      "197/197 [==============================] - 5s 25ms/step - loss: 0.3555 - accuracy: 0.8429 - val_loss: 0.3879 - val_accuracy: 0.82390.357 - ETA:  - ETA: 0s - loss: 0.3557 - accuracy:  - ETA: 0s - loss: 0.354\n",
      "Epoch 8/250\n",
      "197/197 [==============================] - 5s 24ms/step - loss: 0.3519 - accuracy: 0.8429 - val_loss: 0.3835 - val_accuracy: 0.8190- loss: 0.3540 - accuracy: 0.84 - ETA: 2s - loss: 0.353\n",
      "Epoch 9/250\n",
      "197/197 [==============================] - 5s 23ms/step - loss: 0.3476 - accuracy: 0.8433 - val_loss: 0.3794 - val_accuracy: 0.8275 accuracy: \n",
      "Epoch 10/250\n",
      "197/197 [==============================] - 4s 23ms/step - loss: 0.3448 - accuracy: 0.8463 - val_loss: 0.3814 - val_accuracy: 0.8226\n",
      "Epoch 11/250\n",
      "197/197 [==============================] - 5s 23ms/step - loss: 0.3441 - accuracy: 0.8429 - val_loss: 0.3823 - val_accuracy: 0.8248\n",
      "Epoch 12/250\n",
      "197/197 [==============================] - 5s 23ms/step - loss: 0.3409 - accuracy: 0.8479 - val_loss: 0.3806 - val_accuracy: 0.8197\n",
      "Epoch 13/250\n",
      "197/197 [==============================] - 4s 23ms/step - loss: 0.3391 - accuracy: 0.8482 - val_loss: 0.3807 - val_accuracy: 0.8228\n",
      "Epoch 14/250\n",
      "197/197 [==============================] - 4s 22ms/step - loss: 0.3353 - accuracy: 0.8502 - val_loss: 0.3767 - val_accuracy: 0.8266\n",
      "Epoch 15/250\n",
      "197/197 [==============================] - 4s 22ms/step - loss: 0.3366 - accuracy: 0.8484 - val_loss: 0.3775 - val_accuracy: 0.8239\n",
      "Epoch 16/250\n",
      "197/197 [==============================] - 4s 22ms/step - loss: 0.3355 - accuracy: 0.8469 - val_loss: 0.3750 - val_accuracy: 0.8271\n",
      "Epoch 17/250\n",
      "197/197 [==============================] - 5s 23ms/step - loss: 0.3350 - accuracy: 0.8471 - val_loss: 0.3786 - val_accuracy: 0.8183\n",
      "Epoch 18/250\n",
      "197/197 [==============================] - 5s 23ms/step - loss: 0.3327 - accuracy: 0.8504 - val_loss: 0.3768 - val_accuracy: 0.8361\n",
      "Epoch 19/250\n",
      "197/197 [==============================] - 5s 25ms/step - loss: 0.3334 - accuracy: 0.8511 - val_loss: 0.3739 - val_accuracy: 0.8331- - ETA\n",
      "Epoch 20/250\n",
      "197/197 [==============================] - 5s 24ms/step - loss: 0.3314 - accuracy: 0.8486 - val_loss: 0.3807 - val_accuracy: 0.8284\n",
      "Epoch 21/250\n",
      "197/197 [==============================] - 5s 24ms/step - loss: 0.3296 - accuracy: 0.8498 - val_loss: 0.3783 - val_accuracy: 0.82730.3307 - accura\n",
      "Epoch 22/250\n",
      "197/197 [==============================] - 4s 22ms/step - loss: 0.3307 - accuracy: 0.8492 - val_loss: 0.3781 - val_accuracy: 0.8271: 0.3217 - accuracy: 0.85 - ETA: 3s - loss: 0.3 - ETA: 2s\n",
      "Epoch 23/250\n",
      "197/197 [==============================] - 4s 22ms/step - loss: 0.3285 - accuracy: 0.8510 - val_loss: 0.3797 - val_accuracy: 0.8275\n",
      "Epoch 24/250\n",
      "197/197 [==============================] - 4s 22ms/step - loss: 0.3245 - accuracy: 0.8532 - val_loss: 0.3780 - val_accuracy: 0.8284\n",
      "Epoch 25/250\n",
      "197/197 [==============================] - 4s 22ms/step - loss: 0.3238 - accuracy: 0.8533 - val_loss: 0.3806 - val_accuracy: 0.8224\n",
      "Epoch 26/250\n",
      "197/197 [==============================] - 4s 22ms/step - loss: 0.3227 - accuracy: 0.8524 - val_loss: 0.3791 - val_accuracy: 0.8244u\n",
      "Epoch 27/250\n",
      "197/197 [==============================] - 4s 22ms/step - loss: 0.3230 - accuracy: 0.8532 - val_loss: 0.3810 - val_accuracy: 0.8293\n",
      "Epoch 28/250\n",
      "197/197 [==============================] - 4s 22ms/step - loss: 0.3217 - accuracy: 0.8544 - val_loss: 0.3881 - val_accuracy: 0.8152\n",
      "Epoch 29/250\n",
      "197/197 [==============================] - 4s 22ms/step - loss: 0.3206 - accuracy: 0.8533 - val_loss: 0.3804 - val_accuracy: 0.8295\n"
     ]
    }
   ],
   "source": [
    "shared_history = shared_model_fit(vec_train, shared, indexes, pre_index, MY_WORKSPACE_DIR, batch_size, epochs, args)"
   ]
  },
  {
   "cell_type": "code",
   "execution_count": 32,
   "metadata": {
    "colab": {
     "base_uri": "https://localhost:8080/",
     "height": 294
    },
    "executionInfo": {
     "elapsed": 998,
     "status": "ok",
     "timestamp": 1629340820031,
     "user": {
      "displayName": "Bemali Wickramanayake",
      "photoUrl": "",
      "userId": "06528833813357396771"
     },
     "user_tz": -600
    },
    "id": "pFUpLxGxR8s5",
    "outputId": "12804c70-460c-4fa9-81b0-0699ba107aa8"
   },
   "outputs": [
    {
     "data": {
      "image/png": "[encoded data removed]",
      "text/plain": [
       "<Figure size 432x288 with 1 Axes>"
      ]
     },
     "metadata": {
      "needs_background": "light"
     },
     "output_type": "display_data"
    }
   ],
   "source": [
    "plot_shared(shared_history)"
   ]
  },
  {
   "cell_type": "code",
   "execution_count": 33,
   "metadata": {
    "colab": {
     "base_uri": "https://localhost:8080/"
    },
    "executionInfo": {
     "elapsed": 315,
     "status": "ok",
     "timestamp": 1629340860509,
     "user": {
      "displayName": "Bemali Wickramanayake",
      "photoUrl": "",
      "userId": "06528833813357396771"
     },
     "user_tz": -600
    },
    "id": "np6TVoRjSGxH",
    "outputId": "b4b2ab20-26e0-4116-9b0f-ef6ad21c6963"
   },
   "outputs": [
    {
     "name": "stderr",
     "output_type": "stream",
     "text": [
      "C:\\Users\\mithr\\miniconda3\\lib\\site-packages\\keras\\utils\\generic_utils.py:494: CustomMaskWarning: Custom mask layers require a config and must override get_config. When loading, the custom mask layer must be passed to the custom_objects argument.\n",
      "  warnings.warn('Custom mask layers require a config and must override '\n"
     ]
    }
   ],
   "source": [
    "trained_model = os.path.join(os.path.join(MILESTONE_DIR, 'trained_models'),'shared_model_'+subset+'.h5')\n",
    "shared.save(trained_model)"
   ]
  },
  {
   "cell_type": "markdown",
   "metadata": {
    "id": "XPwUdZODSPux"
   },
   "source": [
    "##### Load Saved Model and Evaluate"
   ]
  },
  {
   "cell_type": "code",
   "execution_count": 34,
   "metadata": {
    "executionInfo": {
     "elapsed": 1997,
     "status": "ok",
     "timestamp": 1629340957867,
     "user": {
      "displayName": "Bemali Wickramanayake",
      "photoUrl": "",
      "userId": "06528833813357396771"
     },
     "user_tz": -600
    },
    "id": "XIQ5FEFaSLkx"
   },
   "outputs": [],
   "source": [
    "shared_trained_model = os.path.join(os.path.join(MILESTONE_DIR, 'trained_models'),'shared_model_'+subset+'.h5')\n",
    "shared_model = load_model(shared_trained_model)"
   ]
  },
  {
   "cell_type": "code",
   "execution_count": 35,
   "metadata": {
    "colab": {
     "base_uri": "https://localhost:8080/"
    },
    "executionInfo": {
     "elapsed": 5043,
     "status": "ok",
     "timestamp": 1629341315815,
     "user": {
      "displayName": "Bemali Wickramanayake",
      "photoUrl": "",
      "userId": "06528833813357396771"
     },
     "user_tz": -600
    },
    "id": "maeWwG0mSkfQ",
    "outputId": "994bff2a-c9e1-4a36-c65b-e68aff317bc8"
   },
   "outputs": [
    {
     "name": "stdout",
     "output_type": "stream",
     "text": [
      "Evaluate on test data\n",
      "100/100 [==============================] - 2s 9ms/step - loss: 0.3446 - accuracy: 0.8455\n",
      "test loss, test acc: [0.34457969665527344, 0.8455060720443726]\n"
     ]
    }
   ],
   "source": [
    "x_test,y_test = generate_inputs_shared(vec_test,args,indexes)\n",
    "\n",
    "print(\"Evaluate on test data\")\n",
    "\n",
    "results = shared_model.evaluate(x_test, y_test, batch_size=batch_size)\n",
    "y_pred_shared = shared_model.predict(x_test)\n",
    "print(\"test loss, test acc:\", results)"
   ]
  },
  {
   "cell_type": "code",
   "execution_count": 36,
   "metadata": {},
   "outputs": [],
   "source": [
    "m1_y_test = y_test.argmax(axis=1)\n",
    "m1_y_pred = y_pred_shared.argmax(axis=1)"
   ]
  },
  {
   "cell_type": "markdown",
   "metadata": {
    "id": "C0Jviia-UN2b"
   },
   "source": [
    "Classification Report"
   ]
  },
  {
   "cell_type": "code",
   "execution_count": 37,
   "metadata": {
    "colab": {
     "base_uri": "https://localhost:8080/"
    },
    "executionInfo": {
     "elapsed": 344,
     "status": "ok",
     "timestamp": 1629341337963,
     "user": {
      "displayName": "Bemali Wickramanayake",
      "photoUrl": "",
      "userId": "06528833813357396771"
     },
     "user_tz": -600
    },
    "id": "vSQeUeZmT7gG",
    "outputId": "dcfff5b4-7aa1-40c1-a4c3-405677f8b055"
   },
   "outputs": [
    {
     "name": "stdout",
     "output_type": "stream",
     "text": [
      "                                                         precision    recall  f1-score   support\n",
      "\n",
      "                                         W_Assess fraud       0.68      0.66      0.67        29\n",
      "                            W_Assessing the application       0.77      0.64      0.70      1561\n",
      "                            W_Calling after sent offers       0.95      0.81      0.87      4773\n",
      "W_Calling to add missing information to the application       0.84      0.90      0.87      2498\n",
      "           W_Filling in information for the application       0.78      0.98      0.87      3658\n",
      "                                 W_Fixing incoming lead       0.62      0.13      0.22       187\n",
      "\n",
      "                                               accuracy                           0.85     12706\n",
      "                                              macro avg       0.77      0.69      0.70     12706\n",
      "                                           weighted avg       0.85      0.85      0.84     12706\n",
      "\n"
     ]
    }
   ],
   "source": [
    "target_names = [index_ne[i] for i in range(len(index_ne))]\n",
    "\n",
    "print(classification_report(y_test.argmax(axis=1), y_pred_shared.argmax(axis=1), target_names=target_names))"
   ]
  },
  {
   "cell_type": "markdown",
   "metadata": {
    "id": "pnT3CS20URYn"
   },
   "source": [
    "Confusion Matrix"
   ]
  },
  {
   "cell_type": "code",
   "execution_count": 38,
   "metadata": {
    "colab": {
     "base_uri": "https://localhost:8080/",
     "height": 830
    },
    "executionInfo": {
     "elapsed": 1945,
     "status": "ok",
     "timestamp": 1629341438392,
     "user": {
      "displayName": "Bemali Wickramanayake",
      "photoUrl": "",
      "userId": "06528833813357396771"
     },
     "user_tz": -600
    },
    "id": "--c_tWW3UTm9",
    "outputId": "f68be9a7-63ca-443a-8c7d-bb65412c230d"
   },
   "outputs": [
    {
     "name": "stdout",
     "output_type": "stream",
     "text": [
      "[[  19    2    0    3    2    3]\n",
      " [   1 1003  137  420    0    0]\n",
      " [   0   55 3855    0  863    0]\n",
      " [   0  244    1 2253    0    0]\n",
      " [   0    0   58    0 3588   12]\n",
      " [   8    0    0    0  154   25]]\n"
     ]
    },
    {
     "data": {
      "text/plain": [
       "<AxesSubplot:>"
      ]
     },
     "execution_count": 38,
     "metadata": {},
     "output_type": "execute_result"
    },
    {
     "data": {
      "image/png": "[encoded data removed]",
      "text/plain": [
       "<Figure size 720x504 with 2 Axes>"
      ]
     },
     "metadata": {
      "needs_background": "light"
     },
     "output_type": "display_data"
    }
   ],
   "source": [
    "matrix = confusion_matrix(y_test.argmax(axis=1), y_pred_shared.argmax(axis=1))\n",
    "print(matrix)\n",
    "matrix_sum = np.sum(matrix, axis=1).reshape(-1,1)\n",
    "matrix_perc = matrix / matrix_sum\n",
    "df_cm = pd.DataFrame(matrix_perc, index = [index_ne[i] for i in range(len(index_ne))],\n",
    "                  columns = [index_ne[i] for i in range(len(index_ne))])\n",
    "\n",
    "plt.figure(figsize = (10,7))\n",
    "sn.heatmap(df_cm, annot=True)"
   ]
  },
  {
   "cell_type": "markdown",
   "metadata": {
    "id": "TYDX8pgPUiTB"
   },
   "source": [
    "#### specialised Model"
   ]
  },
  {
   "cell_type": "code",
   "execution_count": 39,
   "metadata": {
    "executionInfo": {
     "elapsed": 3679,
     "status": "ok",
     "timestamp": 1629365805570,
     "user": {
      "displayName": "Bemali Wickramanayake",
      "photoUrl": "",
      "userId": "06528833813357396771"
     },
     "user_tz": -600
    },
    "id": "T3WYdAJPVSu3"
   },
   "outputs": [],
   "source": [
    "specialised = specialised_model(vec_train, weights, indexes, pre_index, args)\n"
   ]
  },
  {
   "cell_type": "code",
   "execution_count": 40,
   "metadata": {
    "executionInfo": {
     "elapsed": 278,
     "status": "ok",
     "timestamp": 1629365809318,
     "user": {
      "displayName": "Bemali Wickramanayake",
      "photoUrl": "",
      "userId": "06528833813357396771"
     },
     "user_tz": -600
    },
    "id": "aZLpgcR5fqhz"
   },
   "outputs": [],
   "source": [
    "specialised.compile(loss='categorical_crossentropy', optimizer='Adam', metrics=['accuracy'])"
   ]
  },
  {
   "cell_type": "code",
   "execution_count": 41,
   "metadata": {
    "colab": {
     "base_uri": "https://localhost:8080/"
    },
    "executionInfo": {
     "elapsed": 5,
     "status": "ok",
     "timestamp": 1629365812757,
     "user": {
      "displayName": "Bemali Wickramanayake",
      "photoUrl": "",
      "userId": "06528833813357396771"
     },
     "user_tz": -600
    },
    "id": "JpHEBmWAhZSI",
    "outputId": "e638236a-f897-4fd2-cdc1-a61c9b077060"
   },
   "outputs": [
    {
     "name": "stdout",
     "output_type": "stream",
     "text": [
      "Model: \"model_1\"\n",
      "__________________________________________________________________________________________________\n",
      "Layer (type)                    Output Shape         Param #     Connected to                     \n",
      "==================================================================================================\n",
      "ac_input (InputLayer)           [(None, 5, 7)]       0                                            \n",
      "__________________________________________________________________________________________________\n",
      "rl_input (InputLayer)           [(None, 5, 58)]      0                                            \n",
      "__________________________________________________________________________________________________\n",
      "t_input (InputLayer)            [(None, 5, 1)]       0                                            \n",
      "__________________________________________________________________________________________________\n",
      "beta_ac (Bidirectional)         (None, 5, 100)       23200       ac_input[0][0]                   \n",
      "__________________________________________________________________________________________________\n",
      "beta_rl (Bidirectional)         (None, 5, 100)       43600       rl_input[0][0]                   \n",
      "__________________________________________________________________________________________________\n",
      "beta_t (Bidirectional)          (None, 5, 100)       20800       t_input[0][0]                    \n",
      "__________________________________________________________________________________________________\n",
      "feature_attention_ac (TimeDistr (None, 5, 7)         707         beta_ac[0][0]                    \n",
      "__________________________________________________________________________________________________\n",
      "feature_attention_rl (TimeDistr (None, 5, 58)        5858        beta_rl[0][0]                    \n",
      "__________________________________________________________________________________________________\n",
      "feature_attention_t (TimeDistri (None, 5, 1)         101         beta_t[0][0]                     \n",
      "__________________________________________________________________________________________________\n",
      "ac_importance (Multiply)        (None, 5, 7)         0           feature_attention_ac[0][0]       \n",
      "                                                                 ac_input[0][0]                   \n",
      "__________________________________________________________________________________________________\n",
      "rl_importance (Multiply)        (None, 5, 58)        0           feature_attention_rl[0][0]       \n",
      "                                                                 rl_input[0][0]                   \n",
      "__________________________________________________________________________________________________\n",
      "t_importance (Multiply)         (None, 5, 1)         0           feature_attention_t[0][0]        \n",
      "                                                                 t_input[0][0]                    \n",
      "__________________________________________________________________________________________________\n",
      "concat (Concatenate)            (None, 5, 66)        0           ac_importance[0][0]              \n",
      "                                                                 rl_importance[0][0]              \n",
      "                                                                 t_importance[0][0]               \n",
      "__________________________________________________________________________________________________\n",
      "alpha (Bidirectional)           (None, 5, 100)       46800       concat[0][0]                     \n",
      "__________________________________________________________________________________________________\n",
      "alpha_dense (TimeDistributed)   (None, 5, 1)         101         alpha[0][0]                      \n",
      "__________________________________________________________________________________________________\n",
      "timestep_attention (Softmax)    (None, 5, 1)         0           alpha_dense[0][0]                \n",
      "__________________________________________________________________________________________________\n",
      "multiply (Multiply)             (None, 5, 66)        0           timestep_attention[0][0]         \n",
      "                                                                 concat[0][0]                     \n",
      "__________________________________________________________________________________________________\n",
      "lambda_1 (Lambda)               (None, 66)           0           multiply[0][0]                   \n",
      "__________________________________________________________________________________________________\n",
      "dropout_2 (Dropout)             (None, 66)           0           lambda_1[0][0]                   \n",
      "__________________________________________________________________________________________________\n",
      "act_output (Dense)              (None, 6)            402         dropout_2[0][0]                  \n",
      "==================================================================================================\n",
      "Total params: 141,569\n",
      "Trainable params: 141,569\n",
      "Non-trainable params: 0\n",
      "__________________________________________________________________________________________________\n"
     ]
    }
   ],
   "source": [
    "specialised.summary()"
   ]
  },
  {
   "cell_type": "code",
   "execution_count": 42,
   "metadata": {
    "executionInfo": {
     "elapsed": 1060,
     "status": "ok",
     "timestamp": 1629365828755,
     "user": {
      "displayName": "Bemali Wickramanayake",
      "photoUrl": "",
      "userId": "06528833813357396771"
     },
     "user_tz": -600
    },
    "id": "8kft1GPghr95"
   },
   "outputs": [],
   "source": [
    "batch_size = 256 # 32, 64, 128, 256\n",
    "epochs = 200"
   ]
  },
  {
   "cell_type": "code",
   "execution_count": 43,
   "metadata": {
    "colab": {
     "base_uri": "https://localhost:8080/"
    },
    "executionInfo": {
     "elapsed": 313822,
     "status": "ok",
     "timestamp": 1629366146093,
     "user": {
      "displayName": "Bemali Wickramanayake",
      "photoUrl": "",
      "userId": "06528833813357396771"
     },
     "user_tz": -600
    },
    "id": "ytiypvnWfv9r",
    "outputId": "c554ce9e-33b2-46bd-dfce-79f678c614ad"
   },
   "outputs": [
    {
     "name": "stdout",
     "output_type": "stream",
     "text": [
      "This is the output file path  c:\\Users\\mithr\\Documents\\GitHub\\KBS-SI-Paper\\BPIC12\\models\\model_specialised_All_{epoch:02d}-{val_loss:.2f}.h5\n",
      "Epoch 1/200\n",
      "99/99 [==============================] - 14s 57ms/step - loss: 1.5638 - accuracy: 0.5266 - val_loss: 1.3036 - val_accuracy: 0.7149 - ETA: 0s - loss: 1.5732 - accuracy: \n",
      "Epoch 2/200\n",
      "99/99 [==============================] - 3s 34ms/step - loss: 1.1634 - accuracy: 0.7459 - val_loss: 1.0541 - val_accuracy: 0.7801\n",
      "Epoch 3/200\n",
      "99/99 [==============================] - 3s 35ms/step - loss: 0.9769 - accuracy: 0.7772 - val_loss: 0.9109 - val_accuracy: 0.7787\n",
      "Epoch 4/200\n",
      "99/99 [==============================] - 3s 35ms/step - loss: 0.8608 - accuracy: 0.7846 - val_loss: 0.8173 - val_accuracy: 0.8010\n",
      "Epoch 5/200\n",
      "99/99 [==============================] - 3s 34ms/step - loss: 0.7848 - accuracy: 0.7925 - val_loss: 0.7513 - val_accuracy: 0.8026\n",
      "Epoch 6/200\n",
      "99/99 [==============================] - 3s 35ms/step - loss: 0.7250 - accuracy: 0.7932 - val_loss: 0.7007 - val_accuracy: 0.8035\n",
      "Epoch 7/200\n",
      "99/99 [==============================] - 3s 35ms/step - loss: 0.6799 - accuracy: 0.8008 - val_loss: 0.6612 - val_accuracy: 0.8062\n",
      "Epoch 8/200\n",
      "99/99 [==============================] - 3s 35ms/step - loss: 0.6461 - accuracy: 0.8026 - val_loss: 0.6288 - val_accuracy: 0.8080\n",
      "Epoch 9/200\n",
      "99/99 [==============================] - 3s 34ms/step - loss: 0.6170 - accuracy: 0.8069 - val_loss: 0.6047 - val_accuracy: 0.8122: 0.6181 - accuracy: \n",
      "Epoch 10/200\n",
      "99/99 [==============================] - 3s 35ms/step - loss: 0.5952 - accuracy: 0.8075 - val_loss: 0.5814 - val_accuracy: 0.8138\n",
      "Epoch 11/200\n",
      "99/99 [==============================] - 3s 35ms/step - loss: 0.5749 - accuracy: 0.8096 - val_loss: 0.5618 - val_accuracy: 0.8156\n",
      "Epoch 12/200\n",
      "99/99 [==============================] - 3s 35ms/step - loss: 0.5586 - accuracy: 0.8092 - val_loss: 0.5433 - val_accuracy: 0.8170\n",
      "Epoch 13/200\n",
      "99/99 [==============================] - 3s 35ms/step - loss: 0.5403 - accuracy: 0.8113 - val_loss: 0.5300 - val_accuracy: 0.8185\n",
      "Epoch 14/200\n",
      "99/99 [==============================] - 3s 35ms/step - loss: 0.5328 - accuracy: 0.8088 - val_loss: 0.5195 - val_accuracy: 0.8176\n",
      "Epoch 15/200\n",
      "99/99 [==============================] - 4s 40ms/step - loss: 0.5192 - accuracy: 0.8114 - val_loss: 0.5094 - val_accuracy: 0.8179\n",
      "Epoch 16/200\n",
      "99/99 [==============================] - 4s 38ms/step - loss: 0.5094 - accuracy: 0.8125 - val_loss: 0.5042 - val_accuracy: 0.8152\n",
      "Epoch 17/200\n",
      "99/99 [==============================] - 4s 36ms/step - loss: 0.5037 - accuracy: 0.8100 - val_loss: 0.4967 - val_accuracy: 0.8156\n",
      "Epoch 18/200\n",
      "99/99 [==============================] - 4s 37ms/step - loss: 0.4942 - accuracy: 0.8116 - val_loss: 0.4917 - val_accuracy: 0.8163- loss: 0.4937 - accuracy: 0.\n",
      "Epoch 19/200\n",
      "99/99 [==============================] - 3s 34ms/step - loss: 0.4897 - accuracy: 0.8125 - val_loss: 0.4906 - val_accuracy: 0.8154\n",
      "Epoch 20/200\n",
      "99/99 [==============================] - 3s 35ms/step - loss: 0.4841 - accuracy: 0.8107 - val_loss: 0.4892 - val_accuracy: 0.8152\n",
      "Epoch 21/200\n",
      "99/99 [==============================] - 3s 33ms/step - loss: 0.4743 - accuracy: 0.8126 - val_loss: 0.4770 - val_accuracy: 0.8181- ETA: 0s - loss: 0.4743 - accuracy: 0.81\n",
      "Epoch 22/200\n",
      "99/99 [==============================] - 3s 34ms/step - loss: 0.4672 - accuracy: 0.8148 - val_loss: 0.4809 - val_accuracy: 0.8152\n",
      "Epoch 23/200\n",
      "99/99 [==============================] - 3s 34ms/step - loss: 0.4667 - accuracy: 0.8136 - val_loss: 0.4737 - val_accuracy: 0.815270 - accura\n",
      "Epoch 24/200\n",
      "99/99 [==============================] - 3s 34ms/step - loss: 0.4589 - accuracy: 0.8153 - val_loss: 0.4758 - val_accuracy: 0.8145\n",
      "Epoch 25/200\n",
      "99/99 [==============================] - 3s 33ms/step - loss: 0.4556 - accuracy: 0.8143 - val_loss: 0.4689 - val_accuracy: 0.8143\n",
      "Epoch 26/200\n",
      "99/99 [==============================] - 3s 33ms/step - loss: 0.4490 - accuracy: 0.8163 - val_loss: 0.4675 - val_accuracy: 0.8149E - ETA: 0s - loss: 0.4495 - accuracy: 0.\n",
      "Epoch 27/200\n",
      "99/99 [==============================] - 3s 34ms/step - loss: 0.4496 - accuracy: 0.8152 - val_loss: 0.4625 - val_accuracy: 0.8154\n",
      "Epoch 28/200\n",
      "99/99 [==============================] - 3s 34ms/step - loss: 0.4400 - accuracy: 0.8181 - val_loss: 0.4607 - val_accuracy: 0.8131\n",
      "Epoch 29/200\n",
      "99/99 [==============================] - 3s 34ms/step - loss: 0.4394 - accuracy: 0.8173 - val_loss: 0.4589 - val_accuracy: 0.8143\n",
      "Epoch 30/200\n",
      "99/99 [==============================] - 3s 33ms/step - loss: 0.4392 - accuracy: 0.8161 - val_loss: 0.4590 - val_accuracy: 0.8161 0s - loss: 0.4407 - accura\n",
      "Epoch 31/200\n",
      "99/99 [==============================] - 3s 33ms/step - loss: 0.4352 - accuracy: 0.8171 - val_loss: 0.4585 - val_accuracy: 0.8149acy: 0.\n",
      "Epoch 32/200\n",
      "99/99 [==============================] - 3s 33ms/step - loss: 0.4334 - accuracy: 0.8157 - val_loss: 0.4542 - val_accuracy: 0.8154\n",
      "Epoch 33/200\n",
      "99/99 [==============================] - 3s 33ms/step - loss: 0.4310 - accuracy: 0.8171 - val_loss: 0.4576 - val_accuracy: 0.8145\n",
      "Epoch 34/200\n",
      "99/99 [==============================] - 3s 34ms/step - loss: 0.4301 - accuracy: 0.8166 - val_loss: 0.4589 - val_accuracy: 0.8122\n",
      "Epoch 35/200\n",
      "99/99 [==============================] - 3s 35ms/step - loss: 0.4268 - accuracy: 0.8162 - val_loss: 0.4591 - val_accuracy: 0.8149\n",
      "Epoch 36/200\n",
      "99/99 [==============================] - 3s 34ms/step - loss: 0.4258 - accuracy: 0.8180 - val_loss: 0.4591 - val_accuracy: 0.8131\n",
      "Epoch 37/200\n",
      "99/99 [==============================] - 3s 34ms/step - loss: 0.4184 - accuracy: 0.8172 - val_loss: 0.4547 - val_accuracy: 0.81290.4194 - accu\n",
      "Epoch 38/200\n",
      "99/99 [==============================] - 3s 34ms/step - loss: 0.4186 - accuracy: 0.8189 - val_loss: 0.4573 - val_accuracy: 0.8147\n",
      "Epoch 39/200\n",
      "99/99 [==============================] - 3s 34ms/step - loss: 0.4159 - accuracy: 0.8198 - val_loss: 0.4550 - val_accuracy: 0.8149 2s - - ETA: 1s - loss: 0 - ETA: 0s - loss: 0.4\n",
      "Epoch 40/200\n",
      "99/99 [==============================] - 3s 34ms/step - loss: 0.4158 - accuracy: 0.8200 - val_loss: 0.4558 - val_accuracy: 0.8125\n",
      "Epoch 41/200\n",
      "99/99 [==============================] - 3s 34ms/step - loss: 0.4142 - accuracy: 0.8199 - val_loss: 0.4584 - val_accuracy: 0.8104s - loss: 0.4143 - accuracy: 0.\n",
      "Epoch 42/200\n",
      "99/99 [==============================] - 3s 34ms/step - loss: 0.4130 - accuracy: 0.8193 - val_loss: 0.4559 - val_accuracy: 0.8138\n"
     ]
    }
   ],
   "source": [
    "specialised_history = specialised_model_fit(vec_train, specialised, indexes, pre_index, MY_WORKSPACE_DIR, batch_size, epochs, args)"
   ]
  },
  {
   "cell_type": "code",
   "execution_count": 44,
   "metadata": {
    "colab": {
     "base_uri": "https://localhost:8080/",
     "height": 294
    },
    "executionInfo": {
     "elapsed": 381,
     "status": "ok",
     "timestamp": 1629366258182,
     "user": {
      "displayName": "Bemali Wickramanayake",
      "photoUrl": "",
      "userId": "06528833813357396771"
     },
     "user_tz": -600
    },
    "id": "RL4yLqunf1s8",
    "outputId": "72af095d-b741-453d-9fad-fcc1f5ccc6dc"
   },
   "outputs": [
    {
     "data": {
      "image/png": "[encoded data removed]",
      "text/plain": [
       "<Figure size 432x288 with 1 Axes>"
      ]
     },
     "metadata": {
      "needs_background": "light"
     },
     "output_type": "display_data"
    }
   ],
   "source": [
    "plot_specialised(specialised_history)"
   ]
  },
  {
   "cell_type": "code",
   "execution_count": 45,
   "metadata": {
    "colab": {
     "base_uri": "https://localhost:8080/"
    },
    "executionInfo": {
     "elapsed": 1732,
     "status": "ok",
     "timestamp": 1629366264067,
     "user": {
      "displayName": "Bemali Wickramanayake",
      "photoUrl": "",
      "userId": "06528833813357396771"
     },
     "user_tz": -600
    },
    "id": "I12h5Jy5ja-J",
    "outputId": "40649daa-bc7e-4338-ef5b-57a48582cc3b"
   },
   "outputs": [
    {
     "name": "stderr",
     "output_type": "stream",
     "text": [
      "C:\\Users\\mithr\\miniconda3\\lib\\site-packages\\keras\\utils\\generic_utils.py:494: CustomMaskWarning: Custom mask layers require a config and must override get_config. When loading, the custom mask layer must be passed to the custom_objects argument.\n",
      "  warnings.warn('Custom mask layers require a config and must override '\n"
     ]
    }
   ],
   "source": [
    "trained_model = os.path.join(os.path.join(MILESTONE_DIR, 'trained_models'),'specialised_model_'+subset+'.h5')\n",
    "specialised.save(trained_model)"
   ]
  },
  {
   "cell_type": "markdown",
   "metadata": {
    "id": "yl1FJKp5jd8_"
   },
   "source": [
    "##### Load Saved Model and Evaluate"
   ]
  },
  {
   "cell_type": "code",
   "execution_count": 46,
   "metadata": {
    "executionInfo": {
     "elapsed": 2732,
     "status": "ok",
     "timestamp": 1629366270097,
     "user": {
      "displayName": "Bemali Wickramanayake",
      "photoUrl": "",
      "userId": "06528833813357396771"
     },
     "user_tz": -600
    },
    "id": "LxnZ75VmjpHW"
   },
   "outputs": [],
   "source": [
    "trained_model = os.path.join(os.path.join(MILESTONE_DIR, 'trained_models'),'specialised_model_'+subset+'.h5')\n",
    "specialised_model = load_model(trained_model)"
   ]
  },
  {
   "cell_type": "markdown",
   "metadata": {
    "id": "Yk0cYz2okDBJ"
   },
   "source": [
    "Evaluating Prediction Performance"
   ]
  },
  {
   "cell_type": "code",
   "execution_count": 47,
   "metadata": {
    "colab": {
     "base_uri": "https://localhost:8080/"
    },
    "executionInfo": {
     "elapsed": 8505,
     "status": "ok",
     "timestamp": 1629366281965,
     "user": {
      "displayName": "Bemali Wickramanayake",
      "photoUrl": "",
      "userId": "06528833813357396771"
     },
     "user_tz": -600
    },
    "id": "YqaL1vLmkGKb",
    "outputId": "e09df5ef-e583-483a-95ee-006966ef8c86"
   },
   "outputs": [
    {
     "name": "stdout",
     "output_type": "stream",
     "text": [
      "Evaluate on test data\n",
      "50/50 [==============================] - 3s 14ms/step - loss: 0.3853 - accuracy: 0.8379\n",
      "test loss, test acc: [0.3853203356266022, 0.8378718495368958]\n"
     ]
    }
   ],
   "source": [
    "# Generating Inputs\n",
    "\n",
    "x_test,y_test = generate_inputs(vec_test,args,indexes,experiment)\n",
    "\n",
    "# Evaluate the model on the test data using `evaluate`\n",
    "print(\"Evaluate on test data\")\n",
    "\n",
    "results = specialised_model.evaluate(x_test, y_test, batch_size=batch_size)\n",
    "y_pred = specialised_model.predict(x_test)\n",
    "print(\"test loss, test acc:\", results)"
   ]
  },
  {
   "cell_type": "code",
   "execution_count": 48,
   "metadata": {
    "colab": {
     "base_uri": "https://localhost:8080/"
    },
    "executionInfo": {
     "elapsed": 263,
     "status": "ok",
     "timestamp": 1629366284688,
     "user": {
      "displayName": "Bemali Wickramanayake",
      "photoUrl": "",
      "userId": "06528833813357396771"
     },
     "user_tz": -600
    },
    "id": "2vb-WjixkIiB",
    "outputId": "bc4174f4-4e63-4efe-ae31-aca68d2c59a7"
   },
   "outputs": [
    {
     "name": "stdout",
     "output_type": "stream",
     "text": [
      "                                                         precision    recall  f1-score   support\n",
      "\n",
      "                                         W_Assess fraud       0.60      0.52      0.56        29\n",
      "                            W_Assessing the application       0.79      0.55      0.65      1561\n",
      "                            W_Calling after sent offers       0.96      0.79      0.87      4773\n",
      "W_Calling to add missing information to the application       0.81      0.93      0.86      2498\n",
      "           W_Filling in information for the application       0.77      1.00      0.87      3658\n",
      "                                 W_Fixing incoming lead       0.64      0.04      0.07       187\n",
      "\n",
      "                                               accuracy                           0.84     12706\n",
      "                                              macro avg       0.76      0.64      0.65     12706\n",
      "                                           weighted avg       0.85      0.84      0.83     12706\n",
      "\n"
     ]
    }
   ],
   "source": [
    "target_names = [index_ne[i] for i in range(len(index_ne))]\n",
    "\n",
    "print(classification_report(y_test.argmax(axis=1), y_pred.argmax(axis=1), target_names=target_names))"
   ]
  },
  {
   "cell_type": "markdown",
   "metadata": {
    "id": "ctf7BFx0kQz8"
   },
   "source": [
    "Confusion Matrix"
   ]
  },
  {
   "cell_type": "code",
   "execution_count": 49,
   "metadata": {
    "colab": {
     "base_uri": "https://localhost:8080/",
     "height": 672
    },
    "executionInfo": {
     "elapsed": 1290,
     "status": "ok",
     "timestamp": 1629357844208,
     "user": {
      "displayName": "Bemali Wickramanayake",
      "photoUrl": "",
      "userId": "06528833813357396771"
     },
     "user_tz": -600
    },
    "id": "ugdYpihIkS8w",
    "outputId": "7fb9970c-5d77-4bf1-fe4a-d3900a78f57d"
   },
   "outputs": [
    {
     "name": "stdout",
     "output_type": "stream",
     "text": [
      "[[  15    7    0    3    3    1]\n",
      " [   0  863  139  559    0    0]\n",
      " [   0   48 3789    1  935    0]\n",
      " [   0  171    1 2326    0    0]\n",
      " [   0    0    9    0 3646    3]\n",
      " [  10    0    0    0  170    7]]\n"
     ]
    },
    {
     "data": {
      "text/plain": [
       "<AxesSubplot:>"
      ]
     },
     "execution_count": 49,
     "metadata": {},
     "output_type": "execute_result"
    },
    {
     "data": {
      "image/png": "[encoded data removed]",
      "text/plain": [
       "<Figure size 720x504 with 2 Axes>"
      ]
     },
     "metadata": {
      "needs_background": "light"
     },
     "output_type": "display_data"
    }
   ],
   "source": [
    "matrix = confusion_matrix(y_test.argmax(axis=1), y_pred.argmax(axis=1))\n",
    "print(matrix)\n",
    "matrix_sum = np.sum(matrix, axis=1).reshape(-1,1)\n",
    "matrix_perc = matrix / matrix_sum\n",
    "df_cm = pd.DataFrame(matrix_perc, index = [index_ne[i] for i in range(len(index_ne))],\n",
    "                  columns = [index_ne[i] for i in range(len(index_ne))])\n",
    "\n",
    "plt.figure(figsize = (10,7))\n",
    "sn.heatmap(df_cm, annot=True)"
   ]
  },
  {
   "cell_type": "code",
   "execution_count": 50,
   "metadata": {},
   "outputs": [
    {
     "data": {
      "text/plain": [
       "Ttest_indResult(statistic=-3.8927302328490856, pvalue=9.93754425415197e-05)"
      ]
     },
     "execution_count": 50,
     "metadata": {},
     "output_type": "execute_result"
    }
   ],
   "source": [
    "m2_y_test = y_test.argmax(axis=1)\n",
    "m2_y_pred = y_pred.argmax(axis=1)\n",
    "st = pd.DataFrame({\"y_test\": m2_y_test, \"m1_y_pred\" : m1_y_pred, \"m2_y_pred\":m2_y_pred})\n",
    "st.to_csv(\"st_W.csv\")\n",
    "\n",
    "import scipy.stats as stats\n",
    "stats.ttest_ind(st['m1_y_pred'], st['m2_y_pred'])"
   ]
  },
  {
   "cell_type": "code",
   "execution_count": null,
   "metadata": {},
   "outputs": [],
   "source": []
  }
 ],
 "metadata": {
  "colab": {
   "collapsed_sections": [],
   "name": "bpic_2012_all.ipynb",
   "provenance": [],
   "toc_visible": true
  },
  "interpreter": {
   "hash": "fe8cdd8b0905bc5dc811ca6f6f67baa88326482ee2d1fcebca307d9df55426eb"
  },
  "kernelspec": {
   "display_name": "Python 3.8.10 64-bit ('TensorFlow25': conda)",
   "name": "python3"
  },
  "language_info": {
   "codemirror_mode": {
    "name": "ipython",
    "version": 3
   },
   "file_extension": ".py",
   "mimetype": "text/x-python",
   "name": "python",
   "nbconvert_exporter": "python",
   "pygments_lexer": "ipython3",
   "version": "3.9.5"
  },
  "orig_nbformat": 4
 },
 "nbformat": 4,
 "nbformat_minor": 2
}
